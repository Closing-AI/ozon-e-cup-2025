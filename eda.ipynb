{
 "cells": [
  {
   "cell_type": "code",
   "execution_count": null,
   "id": "2f819075",
   "metadata": {},
   "outputs": [],
   "source": [
    "import pandas as pd"
   ]
  },
  {
   "cell_type": "code",
   "execution_count": null,
   "id": "091e7560",
   "metadata": {},
   "outputs": [],
   "source": [
    "train = pd.read_csv(\"data/ml_ozon_сounterfeit_train.csv\")\n",
    "test = pd.read_csv(\"data/ml_ozon_сounterfeit_test.csv\")"
   ]
  },
  {
   "cell_type": "markdown",
   "id": "303dedee",
   "metadata": {},
   "source": [
    "# Utils funcs"
   ]
  },
  {
   "cell_type": "code",
   "execution_count": null,
   "id": "c22bc31c",
   "metadata": {},
   "outputs": [],
   "source": [
    "def count_empty_nan_emptystr(df, col):\n",
    "    return {\"NaN\": df[col].isna().sum(), \"empty_string\": (df[col] == \"\").sum(), \"total_rows\": len(df)}"
   ]
  },
  {
   "cell_type": "markdown",
   "id": "cc1acd80",
   "metadata": {},
   "source": [
    "# Add image presence flag"
   ]
  },
  {
   "cell_type": "code",
   "execution_count": null,
   "id": "16999f07",
   "metadata": {},
   "outputs": [
    {
     "data": {
      "text/plain": [
       "(738, 25)"
      ]
     },
     "execution_count": 40,
     "metadata": {},
     "output_type": "execute_result"
    }
   ],
   "source": [
    "img_info_df_train = pd.read_csv(\"data/no_image_products.csv\").loc[:, [\"ItemID\", \"has_image\"]]\n",
    "img_info_df_train.has_image = img_info_df_train.has_image.astype(int)\n",
    "\n",
    "img_info_df_test = pd.read_csv(\"data/no_image_products_test.csv\").loc[:, [\"ItemID\", \"has_image\"]]\n",
    "img_info_df_test.has_image = img_info_df_test.has_image.astype(int)\n",
    "\n",
    "len(img_info_df_train), len(img_info_df_test)"
   ]
  },
  {
   "cell_type": "code",
   "execution_count": null,
   "id": "ed9a2afb",
   "metadata": {},
   "outputs": [],
   "source": [
    "train = train.merge(img_info_df_train, on=\"ItemID\", how=\"left\")\n",
    "train.has_image = train.has_image.fillna(1).astype(int)\n",
    "\n",
    "test = test.merge(img_info_df_test, on=\"ItemID\", how=\"left\")\n",
    "test.has_image = test.has_image.fillna(1).astype(int)"
   ]
  },
  {
   "cell_type": "markdown",
   "id": "2d44c347",
   "metadata": {},
   "source": [
    "# Look at columns"
   ]
  },
  {
   "cell_type": "code",
   "execution_count": null,
   "id": "0c265e26",
   "metadata": {},
   "outputs": [
    {
     "data": {
      "text/plain": [
       "(197198, 22760)"
      ]
     },
     "execution_count": 42,
     "metadata": {},
     "output_type": "execute_result"
    }
   ],
   "source": [
    "len(train), len(test)"
   ]
  },
  {
   "cell_type": "code",
   "execution_count": null,
   "id": "ad79be1e",
   "metadata": {},
   "outputs": [
    {
     "name": "stdout",
     "output_type": "stream",
     "text": [
      "Columns in train but not in test: {'resolution'}\n",
      "Columns in test but not in train: set()\n"
     ]
    }
   ],
   "source": [
    "train_cols = set(train.columns)\n",
    "test_cols = set(test.columns)\n",
    "print(\"Columns in train but not in test:\", train_cols - test_cols)\n",
    "print(\"Columns in test but not in train:\", test_cols - train_cols)"
   ]
  },
  {
   "cell_type": "code",
   "execution_count": null,
   "id": "e52377e6",
   "metadata": {},
   "outputs": [
    {
     "data": {
      "text/plain": [
       "Index(['id', 'resolution', 'brand_name', 'description', 'name_rus',\n",
       "       'CommercialTypeName4', 'rating_1_count', 'rating_2_count',\n",
       "       'rating_3_count', 'rating_4_count', 'rating_5_count',\n",
       "       'comments_published_count', 'photos_published_count',\n",
       "       'videos_published_count', 'PriceDiscounted', 'item_time_alive',\n",
       "       'item_count_fake_returns7', 'item_count_fake_returns30',\n",
       "       'item_count_fake_returns90', 'item_count_sales7', 'item_count_sales30',\n",
       "       'item_count_sales90', 'item_count_returns7', 'item_count_returns30',\n",
       "       'item_count_returns90', 'GmvTotal7', 'GmvTotal30', 'GmvTotal90',\n",
       "       'ExemplarAcceptedCountTotal7', 'ExemplarAcceptedCountTotal30',\n",
       "       'ExemplarAcceptedCountTotal90', 'OrderAcceptedCountTotal7',\n",
       "       'OrderAcceptedCountTotal30', 'OrderAcceptedCountTotal90',\n",
       "       'ExemplarReturnedCountTotal7', 'ExemplarReturnedCountTotal30',\n",
       "       'ExemplarReturnedCountTotal90', 'ExemplarReturnedValueTotal7',\n",
       "       'ExemplarReturnedValueTotal30', 'ExemplarReturnedValueTotal90',\n",
       "       'ItemVarietyCount', 'ItemAvailableCount', 'seller_time_alive', 'ItemID',\n",
       "       'SellerID', 'has_image'],\n",
       "      dtype='object')"
      ]
     },
     "execution_count": 44,
     "metadata": {},
     "output_type": "execute_result"
    }
   ],
   "source": [
    "train.columns"
   ]
  },
  {
   "cell_type": "code",
   "execution_count": null,
   "id": "2e070824",
   "metadata": {},
   "outputs": [
    {
     "name": "stdout",
     "output_type": "stream",
     "text": [
      "id                                int64\n",
      "resolution                        int64\n",
      "brand_name                       object\n",
      "description                      object\n",
      "name_rus                         object\n",
      "CommercialTypeName4              object\n",
      "rating_1_count                  float64\n",
      "rating_2_count                  float64\n",
      "rating_3_count                  float64\n",
      "rating_4_count                  float64\n",
      "rating_5_count                  float64\n",
      "comments_published_count        float64\n",
      "photos_published_count          float64\n",
      "videos_published_count          float64\n",
      "PriceDiscounted                 float64\n",
      "item_time_alive                   int64\n",
      "item_count_fake_returns7          int64\n",
      "item_count_fake_returns30         int64\n",
      "item_count_fake_returns90         int64\n",
      "item_count_sales7                 int64\n",
      "item_count_sales30                int64\n",
      "item_count_sales90                int64\n",
      "item_count_returns7               int64\n",
      "item_count_returns30              int64\n",
      "item_count_returns90              int64\n",
      "GmvTotal7                       float64\n",
      "GmvTotal30                      float64\n",
      "GmvTotal90                      float64\n",
      "ExemplarAcceptedCountTotal7     float64\n",
      "ExemplarAcceptedCountTotal30    float64\n",
      "ExemplarAcceptedCountTotal90    float64\n",
      "OrderAcceptedCountTotal7        float64\n",
      "OrderAcceptedCountTotal30       float64\n",
      "OrderAcceptedCountTotal90       float64\n",
      "ExemplarReturnedCountTotal7     float64\n",
      "ExemplarReturnedCountTotal30    float64\n",
      "ExemplarReturnedCountTotal90    float64\n",
      "ExemplarReturnedValueTotal7     float64\n",
      "ExemplarReturnedValueTotal30    float64\n",
      "ExemplarReturnedValueTotal90    float64\n",
      "ItemVarietyCount                float64\n",
      "ItemAvailableCount              float64\n",
      "seller_time_alive               float64\n",
      "ItemID                            int64\n",
      "SellerID                          int64\n",
      "has_image                         int64\n",
      "dtype: object\n"
     ]
    }
   ],
   "source": [
    "print(train.dtypes)"
   ]
  },
  {
   "cell_type": "code",
   "execution_count": null,
   "id": "fb5d447d",
   "metadata": {},
   "outputs": [
    {
     "name": "stdout",
     "output_type": "stream",
     "text": [
      "Is 'id' unique in train? True\n",
      "Is 'ItemID' unique in train? True\n",
      "Is 'id' unique in test? True\n",
      "Is 'ItemID' unique in test? True\n"
     ]
    }
   ],
   "source": [
    "print(\"Is 'id' unique in train?\", train[\"id\"].is_unique)\n",
    "print(\"Is 'ItemID' unique in train?\", train[\"ItemID\"].is_unique)\n",
    "print(\"Is 'id' unique in test?\", test[\"id\"].is_unique)\n",
    "print(\"Is 'ItemID' unique in test?\", test[\"ItemID\"].is_unique)"
   ]
  },
  {
   "cell_type": "code",
   "execution_count": null,
   "id": "3274e542",
   "metadata": {},
   "outputs": [
    {
     "name": "stdout",
     "output_type": "stream",
     "text": [
      "Columns in train not included in any feature list: {'has_image'}\n"
     ]
    }
   ],
   "source": [
    "target_col = \"resolution\"\n",
    "id_cols = [\n",
    "    \"id\",  # можно выкинуть\n",
    "    \"ItemID\",\n",
    "]\n",
    "boolean_cols = [  # это новые\n",
    "    \"has_image\",\n",
    "    \"has_description\",\n",
    "    \"has_brand_name\",\n",
    "]\n",
    "text_cols = [  # по тектовым колонкам считаем фичи + tf-idf + возможно сконкатенируем (вместе brand_name, CommercialTypeName4) и сделаем эмбеддинг\n",
    "    \"description\",  # мб Nan, пустым и т.д. добавил флаг\n",
    "    \"name_rus\",  # всегда есть и не пусто и в train и в test\n",
    "]\n",
    "categorial_cols = [\n",
    "    \"brand_name\",  # мб Nan, пустым и т.д. добавил флаг. не уверен что категориальная, но мб да. можно добавить категорию \"редкие\"\n",
    "    \"CommercialTypeName4\",  # точно категориальная. надо добавить категорию \"редкие\"\n",
    "    \"SellerID\",  # категориальная?, хз как использовать её. как числовую использовать не хочется (нет отнощения порядка же)\n",
    "]\n",
    "numeric_cols = [  # числовые фичи, NaN значения заменяем на -1\n",
    "    \"rating_1_count\",\n",
    "    \"rating_2_count\",\n",
    "    \"rating_3_count\",\n",
    "    \"rating_4_count\",\n",
    "    \"rating_5_count\",\n",
    "    \"comments_published_count\",\n",
    "    \"photos_published_count\",\n",
    "    \"videos_published_count\",\n",
    "    \"PriceDiscounted\",\n",
    "    \"item_time_alive\",\n",
    "    \"item_count_fake_returns7\",\n",
    "    \"item_count_fake_returns30\",\n",
    "    \"item_count_fake_returns90\",\n",
    "    \"item_count_sales7\",\n",
    "    \"item_count_sales30\",\n",
    "    \"item_count_sales90\",\n",
    "    \"item_count_returns7\",\n",
    "    \"item_count_returns30\",\n",
    "    \"item_count_returns90\",\n",
    "    \"GmvTotal7\",\n",
    "    \"GmvTotal30\",\n",
    "    \"GmvTotal90\",\n",
    "    \"ExemplarAcceptedCountTotal7\",\n",
    "    \"ExemplarAcceptedCountTotal30\",\n",
    "    \"ExemplarAcceptedCountTotal90\",\n",
    "    \"OrderAcceptedCountTotal7\",\n",
    "    \"OrderAcceptedCountTotal30\",\n",
    "    \"OrderAcceptedCountTotal90\",\n",
    "    \"ExemplarReturnedCountTotal7\",\n",
    "    \"ExemplarReturnedCountTotal30\",\n",
    "    \"ExemplarReturnedCountTotal90\",\n",
    "    \"ExemplarReturnedValueTotal7\",\n",
    "    \"ExemplarReturnedValueTotal30\",\n",
    "    \"ExemplarReturnedValueTotal90\",\n",
    "    \"ItemVarietyCount\",\n",
    "    \"ItemAvailableCount\",\n",
    "    \"seller_time_alive\",\n",
    "]\n",
    "\n",
    "# Check that all columns from train (except target) are included in one of the lists\n",
    "all_feature_cols = set(id_cols + numeric_cols + text_cols + categorial_cols)\n",
    "missing_cols = set(train.columns) - all_feature_cols - {target_col}\n",
    "print(\"Columns in train not included in any feature list:\", missing_cols)"
   ]
  },
  {
   "cell_type": "code",
   "execution_count": null,
   "id": "6a284f62",
   "metadata": {},
   "outputs": [
    {
     "name": "stdout",
     "output_type": "stream",
     "text": [
      "train 'name_rus': {'NaN': np.int64(0), 'empty_string': np.int64(0), 'total_rows': 197198}\n",
      "test 'name_rus': {'NaN': np.int64(0), 'empty_string': np.int64(0), 'total_rows': 22760}\n",
      "\n",
      "train 'CommercialTypeName4': {'NaN': np.int64(0), 'empty_string': np.int64(0), 'total_rows': 197198}\n",
      "test 'CommercialTypeName4': {'NaN': np.int64(0), 'empty_string': np.int64(0), 'total_rows': 22760}\n"
     ]
    }
   ],
   "source": [
    "print(\"train 'name_rus':\", count_empty_nan_emptystr(train, \"name_rus\"))\n",
    "print(\"test 'name_rus':\", count_empty_nan_emptystr(test, \"name_rus\"))\n",
    "print()\n",
    "print(\"train 'CommercialTypeName4':\", count_empty_nan_emptystr(train, \"CommercialTypeName4\"))\n",
    "print(\"test 'CommercialTypeName4':\", count_empty_nan_emptystr(test, \"CommercialTypeName4\"))"
   ]
  },
  {
   "cell_type": "code",
   "execution_count": null,
   "id": "4b309ada",
   "metadata": {},
   "outputs": [
    {
     "name": "stdout",
     "output_type": "stream",
     "text": [
      "id                                   0\n",
      "resolution                           0\n",
      "brand_name                       80531\n",
      "description                      26060\n",
      "name_rus                             0\n",
      "CommercialTypeName4                  0\n",
      "rating_1_count                  150005\n",
      "rating_2_count                  150005\n",
      "rating_3_count                  150005\n",
      "rating_4_count                  150005\n",
      "rating_5_count                  150005\n",
      "comments_published_count        150005\n",
      "photos_published_count          150005\n",
      "videos_published_count          150005\n",
      "PriceDiscounted                      0\n",
      "item_time_alive                      0\n",
      "item_count_fake_returns7             0\n",
      "item_count_fake_returns30            0\n",
      "item_count_fake_returns90            0\n",
      "item_count_sales7                    0\n",
      "item_count_sales30                   0\n",
      "item_count_sales90                   0\n",
      "item_count_returns7                  0\n",
      "item_count_returns30                 0\n",
      "item_count_returns90                 0\n",
      "GmvTotal7                        10191\n",
      "GmvTotal30                        7930\n",
      "GmvTotal90                        7407\n",
      "ExemplarAcceptedCountTotal7      10191\n",
      "ExemplarAcceptedCountTotal30      7930\n",
      "ExemplarAcceptedCountTotal90      7407\n",
      "OrderAcceptedCountTotal7         10401\n",
      "OrderAcceptedCountTotal30         8160\n",
      "OrderAcceptedCountTotal90         7517\n",
      "ExemplarReturnedCountTotal7      10191\n",
      "ExemplarReturnedCountTotal30      7930\n",
      "ExemplarReturnedCountTotal90      7407\n",
      "ExemplarReturnedValueTotal7      10191\n",
      "ExemplarReturnedValueTotal30      7930\n",
      "ExemplarReturnedValueTotal90      7407\n",
      "ItemVarietyCount                   997\n",
      "ItemAvailableCount                 997\n",
      "seller_time_alive                    0\n",
      "ItemID                               0\n",
      "SellerID                             0\n",
      "has_image                            0\n",
      "dtype: int64\n"
     ]
    }
   ],
   "source": [
    "print(train.isnull().sum())"
   ]
  },
  {
   "cell_type": "code",
   "execution_count": null,
   "id": "ad872b3b",
   "metadata": {},
   "outputs": [
    {
     "name": "stdout",
     "output_type": "stream",
     "text": [
      "id                                  0\n",
      "brand_name                       5832\n",
      "description                      2224\n",
      "name_rus                            0\n",
      "CommercialTypeName4                 0\n",
      "rating_1_count                  21053\n",
      "rating_2_count                  21053\n",
      "rating_3_count                  21053\n",
      "rating_4_count                  21053\n",
      "rating_5_count                  21053\n",
      "comments_published_count        21053\n",
      "photos_published_count          21053\n",
      "videos_published_count          21053\n",
      "PriceDiscounted                     3\n",
      "item_time_alive                     0\n",
      "item_count_fake_returns7            0\n",
      "item_count_fake_returns30           0\n",
      "item_count_fake_returns90           0\n",
      "item_count_sales7                   0\n",
      "item_count_sales30                  0\n",
      "item_count_sales90                  0\n",
      "item_count_returns7                 0\n",
      "item_count_returns30                0\n",
      "item_count_returns90                0\n",
      "GmvTotal7                        1381\n",
      "GmvTotal30                        913\n",
      "GmvTotal90                        759\n",
      "ExemplarAcceptedCountTotal7      1381\n",
      "ExemplarAcceptedCountTotal30      913\n",
      "ExemplarAcceptedCountTotal90      759\n",
      "OrderAcceptedCountTotal7         1433\n",
      "OrderAcceptedCountTotal30         946\n",
      "OrderAcceptedCountTotal90         777\n",
      "ExemplarReturnedCountTotal7      1381\n",
      "ExemplarReturnedCountTotal30      913\n",
      "ExemplarReturnedCountTotal90      759\n",
      "ExemplarReturnedValueTotal7      1381\n",
      "ExemplarReturnedValueTotal30      913\n",
      "ExemplarReturnedValueTotal90      759\n",
      "ItemVarietyCount                  602\n",
      "ItemAvailableCount                602\n",
      "seller_time_alive                   0\n",
      "ItemID                              0\n",
      "SellerID                            0\n",
      "has_image                           0\n",
      "dtype: int64\n"
     ]
    }
   ],
   "source": [
    "print(test.isnull().sum())"
   ]
  }
 ],
 "metadata": {
  "kernelspec": {
   "display_name": "ozon-e-cup",
   "language": "python",
   "name": "python3"
  },
  "language_info": {
   "codemirror_mode": {
    "name": "ipython",
    "version": 3
   },
   "file_extension": ".py",
   "mimetype": "text/x-python",
   "name": "python",
   "nbconvert_exporter": "python",
   "pygments_lexer": "ipython3",
   "version": "3.12.11"
  }
 },
 "nbformat": 4,
 "nbformat_minor": 5
}
