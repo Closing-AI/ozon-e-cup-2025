{
 "cells": [
  {
   "cell_type": "code",
   "execution_count": 1,
   "id": "a6f9f1a4",
   "metadata": {},
   "outputs": [
    {
     "name": "stdout",
     "output_type": "stream",
     "text": [
      "/home/den/dev/git/ozon-e-cup-2025\n"
     ]
    }
   ],
   "source": [
    "%cd .."
   ]
  },
  {
   "cell_type": "code",
   "execution_count": null,
   "id": "49fc7c9e",
   "metadata": {},
   "outputs": [],
   "source": [
    "import pandas as pd"
   ]
  },
  {
   "cell_type": "code",
   "execution_count": null,
   "id": "5c5c276b",
   "metadata": {},
   "outputs": [],
   "source": [
    "train = pd.read_csv(\"data/0__train_orig.csv\")\n",
    "test = pd.read_csv(\"data/0__test_orig.csv\")"
   ]
  },
  {
   "cell_type": "markdown",
   "id": "05d29e2d",
   "metadata": {},
   "source": [
    "# Add image presense flag"
   ]
  },
  {
   "cell_type": "code",
   "execution_count": null,
   "id": "7c7c08d0",
   "metadata": {},
   "outputs": [
    {
     "data": {
      "text/plain": [
       "(738, 25)"
      ]
     },
     "execution_count": 4,
     "metadata": {},
     "output_type": "execute_result"
    }
   ],
   "source": [
    "img_info_df_train = pd.read_csv(\"data/no_image_products.csv\").loc[:, [\"ItemID\", \"has_image\"]]\n",
    "img_info_df_train.has_image = img_info_df_train.has_image.astype(int)\n",
    "\n",
    "img_info_df_test = pd.read_csv(\"data/no_image_products_test.csv\").loc[:, [\"ItemID\", \"has_image\"]]\n",
    "img_info_df_test.has_image = img_info_df_test.has_image.astype(int)\n",
    "\n",
    "len(img_info_df_train), len(img_info_df_test)"
   ]
  },
  {
   "cell_type": "code",
   "execution_count": null,
   "id": "08148384",
   "metadata": {},
   "outputs": [],
   "source": [
    "train = train.merge(img_info_df_train, on=\"ItemID\", how=\"left\")\n",
    "train.has_image = train.has_image.fillna(1).astype(int)\n",
    "\n",
    "test = test.merge(img_info_df_test, on=\"ItemID\", how=\"left\")\n",
    "test.has_image = test.has_image.fillna(1).astype(int)"
   ]
  },
  {
   "cell_type": "markdown",
   "id": "3b0b2e72",
   "metadata": {},
   "source": [
    "# Add description presense flag"
   ]
  },
  {
   "cell_type": "code",
   "execution_count": null,
   "id": "eeda3632",
   "metadata": {},
   "outputs": [],
   "source": [
    "train[\"has_description\"] = train[\"description\"].notna().astype(int)\n",
    "test[\"has_description\"] = test[\"description\"].notna().astype(int)"
   ]
  },
  {
   "cell_type": "markdown",
   "id": "8227332a",
   "metadata": {},
   "source": [
    "# Add brand_name presense flag"
   ]
  },
  {
   "cell_type": "code",
   "execution_count": null,
   "id": "54187bf1",
   "metadata": {},
   "outputs": [],
   "source": [
    "train[\"has_brand_name\"] = train[\"brand_name\"].notna().astype(int)\n",
    "test[\"has_brand_name\"] = test[\"brand_name\"].notna().astype(int)"
   ]
  },
  {
   "cell_type": "markdown",
   "id": "fbcd30c7",
   "metadata": {},
   "source": [
    "# Save resulted tables"
   ]
  },
  {
   "cell_type": "code",
   "execution_count": null,
   "id": "2b556405",
   "metadata": {},
   "outputs": [],
   "source": [
    "train.to_csv(\"data/1__train_with_flags.csv\", index=False)\n",
    "test.to_csv(\"data/1__test_with_flags.csv\", index=False)"
   ]
  }
 ],
 "metadata": {
  "kernelspec": {
   "display_name": "ozon-e-cup",
   "language": "python",
   "name": "python3"
  },
  "language_info": {
   "codemirror_mode": {
    "name": "ipython",
    "version": 3
   },
   "file_extension": ".py",
   "mimetype": "text/x-python",
   "name": "python",
   "nbconvert_exporter": "python",
   "pygments_lexer": "ipython3",
   "version": "3.12.11"
  }
 },
 "nbformat": 4,
 "nbformat_minor": 5
}
