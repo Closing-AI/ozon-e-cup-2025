{
 "cells": [
  {
   "cell_type": "code",
   "execution_count": 1,
   "id": "e053e16d",
   "metadata": {},
   "outputs": [
    {
     "name": "stdout",
     "output_type": "stream",
     "text": [
      "/home/den/dev/git/ozon-e-cup-2025\n"
     ]
    }
   ],
   "source": [
    "%reload_ext autoreload\n",
    "%autoreload 2\n",
    "\n",
    "%cd .."
   ]
  },
  {
   "cell_type": "code",
   "execution_count": null,
   "id": "70804509",
   "metadata": {},
   "outputs": [],
   "source": [
    "import optuna\n",
    "import pandas as pd\n",
    "import xgboost as xgb\n",
    "from sklearn.metrics import f1_score\n",
    "from tqdm.auto import tqdm\n",
    "\n",
    "from src.optuna_utils import print_study_results\n",
    "from src.splits import create_stratified_splits"
   ]
  },
  {
   "cell_type": "code",
   "execution_count": null,
   "id": "4abbff1c",
   "metadata": {},
   "outputs": [],
   "source": [
    "train = pd.read_csv(\"data/2__train_with_flags_num_cat.csv\")\n",
    "test = pd.read_csv(\"data/2__test_with_flags_num_cat.csv\")"
   ]
  },
  {
   "cell_type": "code",
   "execution_count": null,
   "id": "0d558337",
   "metadata": {},
   "outputs": [
    {
     "data": {
      "text/plain": [
       "14.108642353662274"
      ]
     },
     "execution_count": 4,
     "metadata": {},
     "output_type": "execute_result"
    }
   ],
   "source": [
    "ratio = (train[\"resolution\"] == 0).sum() / (train[\"resolution\"] == 1).sum()\n",
    "ratio = float(ratio)\n",
    "ratio"
   ]
  },
  {
   "cell_type": "code",
   "execution_count": null,
   "id": "ad5af614",
   "metadata": {},
   "outputs": [],
   "source": [
    "# Preprocessing and splitting\n",
    "\n",
    "cols_to_drop = [\"description\", \"name_rus\", \"ItemID\", \"SellerID\", \"id\"]\n",
    "train = train.drop(columns=cols_to_drop)\n",
    "\n",
    "test_ids = test[\"id\"]  # нужно для сабмита\n",
    "test = test.drop(columns=cols_to_drop)\n",
    "\n",
    "splits = create_stratified_splits(data=train, n_splits=5)\n",
    "\n",
    "cols_to_drop = [\"brand_name\", \"CommercialTypeName4\"]\n",
    "train = train.drop(columns=cols_to_drop)\n",
    "test = test.drop(columns=cols_to_drop)"
   ]
  },
  {
   "cell_type": "code",
   "execution_count": null,
   "id": "be1b7e24",
   "metadata": {},
   "outputs": [],
   "source": [
    "# Common params\n",
    "param = {\n",
    "    \"device\": \"cpu\",\n",
    "    \"validate_parameters\": True,\n",
    "    \"objective\": \"binary:logistic\",\n",
    "    \"eval_metric\": \"logloss\",\n",
    "    \"seed\": 42,\n",
    "    \"verbosity\": 0,\n",
    "}"
   ]
  },
  {
   "cell_type": "code",
   "execution_count": null,
   "id": "e7c2349f",
   "metadata": {},
   "outputs": [],
   "source": [
    "def objective(trial):\n",
    "    study_params = {\n",
    "        \"learning_rate\": trial.suggest_float(\"learning_rate\", 0.1, 0.5),\n",
    "        \"gamma\": trial.suggest_float(\"gamma\", 0, 5),\n",
    "        \"max_depth\": trial.suggest_int(\"max_depth\", 3, 32),\n",
    "        \"min_child_weight\": trial.suggest_int(\"min_child_weight\", 1, 3),\n",
    "        \"subsample\": trial.suggest_float(\"subsample\", 0.5, 1.0),\n",
    "        \"lambda\": trial.suggest_float(\"lambda\", 1e-3, 10.0, log=True),\n",
    "        \"alpha\": trial.suggest_float(\"alpha\", 1e-3, 10.0, log=True),\n",
    "        \"scale_pos_weight\": trial.suggest_categorical(\"scale_pos_weight\", [1, ratio / 2, ratio, ratio * 2]),\n",
    "    }\n",
    "    scores = []\n",
    "\n",
    "    for train_idx, val_idx in tqdm(splits, leave=False, desc=\"Cross-validation\"):\n",
    "        dtrain = xgb.DMatrix(\n",
    "            train.iloc[train_idx].drop(columns=[\"resolution\"]), label=train.iloc[train_idx][\"resolution\"]\n",
    "        )\n",
    "        dval = xgb.DMatrix(train.iloc[val_idx].drop(columns=[\"resolution\"]), label=train.iloc[val_idx][\"resolution\"])\n",
    "\n",
    "        model = xgb.train(\n",
    "            params={**param, **study_params}, dtrain=dtrain, evals=[(dval, \"val\")], early_stopping_rounds=100\n",
    "        )\n",
    "\n",
    "        pred_probas = model.predict(dval, iteration_range=(0, model.best_iteration + 1))\n",
    "        pred_labels = (pred_probas > 0.5).astype(int)\n",
    "\n",
    "        score = f1_score(train.loc[val_idx, \"resolution\"].to_numpy(), pred_labels, average=\"macro\")\n",
    "        scores.append(score)\n",
    "\n",
    "    return sum(scores) / len(scores)"
   ]
  },
  {
   "cell_type": "code",
   "execution_count": null,
   "id": "efd21616",
   "metadata": {},
   "outputs": [
    {
     "name": "stderr",
     "output_type": "stream",
     "text": [
      "[I 2025-08-28 14:51:14,947] A new study created in memory with name: no-name-4a505c03-6c8e-4503-9042-cf6ab0bae258\n"
     ]
    },
    {
     "data": {
      "application/vnd.jupyter.widget-view+json": {
       "model_id": "519cb4e5effe47ce944f3f0beaaed6b4",
       "version_major": 2,
       "version_minor": 0
      },
      "text/plain": [
       "  0%|          | 0/100 [00:00<?, ?it/s]"
      ]
     },
     "metadata": {},
     "output_type": "display_data"
    },
    {
     "name": "stdout",
     "output_type": "stream",
     "text": [
      "[0]\tval-logloss:0.53453\n",
      "[0]\tval-logloss:0.76814\n",
      "[1]\tval-logloss:0.44872\n",
      "[1]\tval-logloss:0.62179\n",
      "[2]\tval-logloss:0.39967\n",
      "[2]\tval-logloss:0.53190\n",
      "[3]\tval-logloss:0.36159\n",
      "[3]\tval-logloss:0.46708\n",
      "[4]\tval-logloss:0.41627\n",
      "[4]\tval-logloss:0.33213\n",
      "[5]\tval-logloss:0.30854\n",
      "[0]\tval-logloss:0.53824\n",
      "[6]\tval-logloss:0.29299\n",
      "[5]\tval-logloss:0.37811\n",
      "[7]\tval-logloss:0.27996\n",
      "[8]\tval-logloss:0.27220\n",
      "[9]\tval-logloss:0.26900\n",
      "[6]\tval-logloss:0.35129\n",
      "[1]\tval-logloss:0.36975\n",
      "[0]\tval-logloss:0.61320\n",
      "[7]\tval-logloss:0.32677\n",
      "[2]\tval-logloss:0.27547\n",
      "[8]\tval-logloss:0.30509\n",
      "[1]\tval-logloss:0.43330\n",
      "[3]\tval-logloss:0.22039\n",
      "[9]\tval-logloss:0.29078\n",
      "[0]\tval-logloss:0.53302\n",
      "[1]\tval-logloss:0.44941\n",
      "[4]\tval-logloss:0.18806\n",
      "[2]\tval-logloss:0.39072\n",
      "[2]\tval-logloss:0.32605\n",
      "[3]\tval-logloss:0.35630\n",
      "[4]\tval-logloss:0.33175\n"
     ]
    }
   ],
   "source": [
    "study = optuna.create_study(direction=\"maximize\")\n",
    "study.optimize(objective, n_trials=100, n_jobs=-1, show_progress_bar=True)"
   ]
  },
  {
   "cell_type": "code",
   "execution_count": null,
   "id": "a7af05c4",
   "metadata": {},
   "outputs": [
    {
     "name": "stdout",
     "output_type": "stream",
     "text": [
      "Study statistics: \n",
      " Number of finished trials: 100\n",
      " Number of pruned trials: 0\n",
      " Number of complete trials: 100\n",
      "Best trial:\n",
      " Value: 0.8673045154860317\n",
      " Params:\n",
      "  learning_rate: 0.3047198717390245\n",
      "  gamma: 0.3655997787871119\n",
      "  max_depth: 16\n"
     ]
    }
   ],
   "source": [
    "print_study_results(study)"
   ]
  }
 ],
 "metadata": {
  "kernelspec": {
   "display_name": "ozon-e-cup",
   "language": "python",
   "name": "python3"
  },
  "language_info": {
   "codemirror_mode": {
    "name": "ipython",
    "version": 3
   },
   "file_extension": ".py",
   "mimetype": "text/x-python",
   "name": "python",
   "nbconvert_exporter": "python",
   "pygments_lexer": "ipython3",
   "version": "3.12.11"
  }
 },
 "nbformat": 4,
 "nbformat_minor": 5
}
