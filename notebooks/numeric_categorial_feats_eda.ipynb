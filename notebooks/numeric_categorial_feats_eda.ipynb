{
 "cells": [
  {
   "cell_type": "code",
   "execution_count": 1,
   "id": "cf8f33f5",
   "metadata": {},
   "outputs": [],
   "source": [
    "%reload_ext autoreload\n",
    "%autoreload 2"
   ]
  },
  {
   "cell_type": "code",
   "execution_count": 2,
   "id": "5799245b",
   "metadata": {},
   "outputs": [
    {
     "name": "stdout",
     "output_type": "stream",
     "text": [
      "/home/den/dev/git/ozon-e-cup-2025\n"
     ]
    }
   ],
   "source": [
    "%cd .."
   ]
  },
  {
   "cell_type": "code",
   "execution_count": null,
   "id": "2f819075",
   "metadata": {},
   "outputs": [],
   "source": [
    "import matplotlib.pyplot as plt\n",
    "import numpy as np\n",
    "import pandas as pd\n",
    "\n",
    "import src.preprocessing as prep"
   ]
  },
  {
   "cell_type": "code",
   "execution_count": null,
   "id": "091e7560",
   "metadata": {},
   "outputs": [],
   "source": [
    "# Read tables with presense flags\n",
    "train = pd.read_csv(\"data/train_with_flags.csv\")\n",
    "test = pd.read_csv(\"data/test_with_flags.csv\")"
   ]
  },
  {
   "cell_type": "markdown",
   "id": "303dedee",
   "metadata": {},
   "source": [
    "# Utils funcs"
   ]
  },
  {
   "cell_type": "code",
   "execution_count": null,
   "id": "c22bc31c",
   "metadata": {},
   "outputs": [],
   "source": [
    "def count_empty_nan_emptystr(df, col):\n",
    "    return {\"NaN\": df[col].isna().sum(), \"empty_string\": (df[col] == \"\").sum(), \"total_rows\": len(df)}\n",
    "\n",
    "\n",
    "def analyze_string_columns(series):\n",
    "    n_nan = series.isna().sum()\n",
    "    n_empty = (series == \"\").sum()\n",
    "\n",
    "    print(\"count:\", len(series))\n",
    "    print(\"n_nan:\", n_nan)\n",
    "    print(\"n_empty:\", n_empty)\n",
    "    print(\"n_non_empty:\", len(series) - n_nan - n_empty)\n",
    "\n",
    "    if series.dtype == object:\n",
    "        lengths = series.dropna().apply(len)\n",
    "        print(\"length_min:\", lengths.min() if not lengths.empty else None)\n",
    "        print(\"length_max:\", lengths.max() if not lengths.empty else None)\n",
    "        print(\"length_mean:\", lengths.mean() if not lengths.empty else None)\n",
    "        print(\"length_median:\", lengths.median() if not lengths.empty else None)\n",
    "        print(\"length_std:\", lengths.std() if not lengths.empty else None)\n",
    "\n",
    "\n",
    "def count_and_percentage_in(series_a, series_b):\n",
    "    \"\"\"\n",
    "    Calculate how many values from series_a are also present in series_b.\n",
    "    Returns a tuple: (count, percentage)\n",
    "    \"\"\"\n",
    "    set_b = set(series_b.dropna().unique())\n",
    "    mask = series_a.dropna().isin(set_b)\n",
    "    count = mask.sum()\n",
    "    percentage = count / len(series_a.dropna()) * 100 if len(series_a.dropna()) > 0 else 0\n",
    "    return count, percentage\n",
    "\n",
    "\n",
    "def analyze_numeric_series(s: pd.Series, bins, after_transform: bool = False):\n",
    "\n",
    "    if not after_transform:\n",
    "        print(f\"Mean: {s.mean():.2f}\")\n",
    "        print(f\"Median: {s.median():.2f}\")\n",
    "        print(f\"Standard Deviation: {s.std():.2f}\")\n",
    "        print(f\"Missing Values: {s.isna().sum()}\")\n",
    "        print(f\"Percentage of NaN: {s.isna().mean() * 100:.2f}%\")\n",
    "\n",
    "        plt.subplots(nrows=1, ncols=2, figsize=(12, 6))\n",
    "        plt.subplot(1, 2, 1)\n",
    "        plt.hist(s.dropna(), bins=bins)\n",
    "        plt.title(\"Original Scale\")\n",
    "        plt.subplot(1, 2, 2)\n",
    "        plt.hist(np.log1p(s.dropna()), bins=bins)\n",
    "        plt.title(\"Log1p Scale\")\n",
    "        plt.show()\n",
    "    else:\n",
    "        print(\"Stats Without -1\")\n",
    "        print(f\"Mean: {s[s != -1].mean():.2f}\")\n",
    "        print(f\"Median: {s[s != -1].median():.2f}\")\n",
    "        print(f\"Standard Deviation: {s[s != -1].std():.2f}\")\n",
    "        print(f\"Missing Values: {s[s != -1].isna().sum()}\")\n",
    "        print(f\"Percentage of NaN: {s[s != -1].isna().mean() * 100:.2f}%\")\n",
    "\n",
    "        plt.subplots(nrows=1, ncols=2, figsize=(12, 6))\n",
    "        plt.subplot(1, 2, 1)\n",
    "        plt.hist(s.dropna(), bins=bins)\n",
    "        plt.title(\"All values\")\n",
    "        plt.subplot(1, 2, 2)\n",
    "        plt.hist(s[s != -1], bins=bins)\n",
    "        plt.title(\"Without -1\")\n",
    "        plt.show()"
   ]
  },
  {
   "cell_type": "markdown",
   "id": "2d44c347",
   "metadata": {},
   "source": [
    "# Look at columns"
   ]
  },
  {
   "cell_type": "code",
   "execution_count": null,
   "id": "0c265e26",
   "metadata": {},
   "outputs": [
    {
     "data": {
      "text/plain": [
       "(197198, 22760)"
      ]
     },
     "execution_count": 6,
     "metadata": {},
     "output_type": "execute_result"
    }
   ],
   "source": [
    "len(train), len(test)"
   ]
  },
  {
   "cell_type": "code",
   "execution_count": null,
   "id": "ad79be1e",
   "metadata": {},
   "outputs": [
    {
     "name": "stdout",
     "output_type": "stream",
     "text": [
      "Columns in train but not in test: {'resolution'}\n",
      "Columns in test but not in train: set()\n"
     ]
    }
   ],
   "source": [
    "train_cols = set(train.columns)\n",
    "test_cols = set(test.columns)\n",
    "print(\"Columns in train but not in test:\", train_cols - test_cols)\n",
    "print(\"Columns in test but not in train:\", test_cols - train_cols)"
   ]
  },
  {
   "cell_type": "code",
   "execution_count": null,
   "id": "e52377e6",
   "metadata": {},
   "outputs": [
    {
     "data": {
      "text/plain": [
       "Index(['resolution', 'brand_name', 'description', 'name_rus',\n",
       "       'CommercialTypeName4', 'rating_1_count', 'rating_2_count',\n",
       "       'rating_3_count', 'rating_4_count', 'rating_5_count',\n",
       "       'comments_published_count', 'photos_published_count',\n",
       "       'videos_published_count', 'PriceDiscounted', 'item_time_alive',\n",
       "       'item_count_fake_returns7', 'item_count_fake_returns30',\n",
       "       'item_count_fake_returns90', 'item_count_sales7', 'item_count_sales30',\n",
       "       'item_count_sales90', 'item_count_returns7', 'item_count_returns30',\n",
       "       'item_count_returns90', 'GmvTotal7', 'GmvTotal30', 'GmvTotal90',\n",
       "       'ExemplarAcceptedCountTotal7', 'ExemplarAcceptedCountTotal30',\n",
       "       'ExemplarAcceptedCountTotal90', 'OrderAcceptedCountTotal7',\n",
       "       'OrderAcceptedCountTotal30', 'OrderAcceptedCountTotal90',\n",
       "       'ExemplarReturnedCountTotal7', 'ExemplarReturnedCountTotal30',\n",
       "       'ExemplarReturnedCountTotal90', 'ExemplarReturnedValueTotal7',\n",
       "       'ExemplarReturnedValueTotal30', 'ExemplarReturnedValueTotal90',\n",
       "       'ItemVarietyCount', 'ItemAvailableCount', 'seller_time_alive', 'ItemID',\n",
       "       'SellerID', 'has_image', 'has_description', 'has_brand_name'],\n",
       "      dtype='object')"
      ]
     },
     "execution_count": 8,
     "metadata": {},
     "output_type": "execute_result"
    }
   ],
   "source": [
    "train.columns"
   ]
  },
  {
   "cell_type": "code",
   "execution_count": null,
   "id": "2e070824",
   "metadata": {},
   "outputs": [
    {
     "name": "stdout",
     "output_type": "stream",
     "text": [
      "resolution                        int64\n",
      "brand_name                       object\n",
      "description                      object\n",
      "name_rus                         object\n",
      "CommercialTypeName4              object\n",
      "rating_1_count                  float64\n",
      "rating_2_count                  float64\n",
      "rating_3_count                  float64\n",
      "rating_4_count                  float64\n",
      "rating_5_count                  float64\n",
      "comments_published_count        float64\n",
      "photos_published_count          float64\n",
      "videos_published_count          float64\n",
      "PriceDiscounted                 float64\n",
      "item_time_alive                   int64\n",
      "item_count_fake_returns7          int64\n",
      "item_count_fake_returns30         int64\n",
      "item_count_fake_returns90         int64\n",
      "item_count_sales7                 int64\n",
      "item_count_sales30                int64\n",
      "item_count_sales90                int64\n",
      "item_count_returns7               int64\n",
      "item_count_returns30              int64\n",
      "item_count_returns90              int64\n",
      "GmvTotal7                       float64\n",
      "GmvTotal30                      float64\n",
      "GmvTotal90                      float64\n",
      "ExemplarAcceptedCountTotal7     float64\n",
      "ExemplarAcceptedCountTotal30    float64\n",
      "ExemplarAcceptedCountTotal90    float64\n",
      "OrderAcceptedCountTotal7        float64\n",
      "OrderAcceptedCountTotal30       float64\n",
      "OrderAcceptedCountTotal90       float64\n",
      "ExemplarReturnedCountTotal7     float64\n",
      "ExemplarReturnedCountTotal30    float64\n",
      "ExemplarReturnedCountTotal90    float64\n",
      "ExemplarReturnedValueTotal7     float64\n",
      "ExemplarReturnedValueTotal30    float64\n",
      "ExemplarReturnedValueTotal90    float64\n",
      "ItemVarietyCount                float64\n",
      "ItemAvailableCount              float64\n",
      "seller_time_alive               float64\n",
      "ItemID                            int64\n",
      "SellerID                          int64\n",
      "has_image                         int64\n",
      "has_description                   int64\n",
      "has_brand_name                    int64\n",
      "dtype: object\n"
     ]
    }
   ],
   "source": [
    "print(train.dtypes)"
   ]
  },
  {
   "cell_type": "code",
   "execution_count": null,
   "id": "fb5d447d",
   "metadata": {},
   "outputs": [
    {
     "name": "stdout",
     "output_type": "stream",
     "text": [
      "Is 'ItemID' unique in train? True\n",
      "Is 'ItemID' unique in test? True\n"
     ]
    }
   ],
   "source": [
    "print(\"Is 'ItemID' unique in train?\", train[\"ItemID\"].is_unique)\n",
    "print(\"Is 'ItemID' unique in test?\", test[\"ItemID\"].is_unique)"
   ]
  },
  {
   "cell_type": "code",
   "execution_count": null,
   "id": "3274e542",
   "metadata": {},
   "outputs": [],
   "source": [
    "target_col = \"resolution\"\n",
    "id_cols = [\n",
    "    \"ItemID\",  # уникальный идентификатор товара, в обучении не используем\n",
    "]\n",
    "boolean_cols = [\n",
    "    \"has_image\",\n",
    "    \"has_description\",\n",
    "    \"has_brand_name\",\n",
    "]\n",
    "text_cols = [  # по тектовым колонкdам считаем фичи + tf-idf + возможно сконкатенируем (вместе brand_name, CommercialTypeName4) и сделаем эмбеддинг\n",
    "    \"description\",  # мб Nan: добавил флаг\n",
    "    \"name_rus\",  # всегда есть и не пусто как в train так и в test\n",
    "]\n",
    "categorial_cols = [\n",
    "    \"brand_name\",  # мб Nan: добавил флаг\n",
    "    \"CommercialTypeName4\",  # всегда есть и не пусто как в train так и в test\n",
    "    \"SellerID\",  # всегда есть и не пусто как в train так и в test\n",
    "]\n",
    "numeric_cols = [  # числовые фичи, NaN значения заменяем на -1 (перед Scaler)\n",
    "    \"rating_1_count\",\n",
    "    \"rating_2_count\",\n",
    "    \"rating_3_count\",\n",
    "    \"rating_4_count\",\n",
    "    \"rating_5_count\",\n",
    "    \"comments_published_count\",\n",
    "    \"photos_published_count\",\n",
    "    \"videos_published_count\",\n",
    "    \"PriceDiscounted\",\n",
    "    \"item_time_alive\",\n",
    "    \"item_count_fake_returns7\",\n",
    "    \"item_count_fake_returns30\",\n",
    "    \"item_count_fake_returns90\",\n",
    "    \"item_count_sales7\",\n",
    "    \"item_count_sales30\",\n",
    "    \"item_count_sales90\",\n",
    "    \"item_count_returns7\",\n",
    "    \"item_count_returns30\",\n",
    "    \"item_count_returns90\",\n",
    "    \"GmvTotal7\",\n",
    "    \"GmvTotal30\",\n",
    "    \"GmvTotal90\",\n",
    "    \"ExemplarAcceptedCountTotal7\",\n",
    "    \"ExemplarAcceptedCountTotal30\",\n",
    "    \"ExemplarAcceptedCountTotal90\",\n",
    "    \"OrderAcceptedCountTotal7\",\n",
    "    \"OrderAcceptedCountTotal30\",\n",
    "    \"OrderAcceptedCountTotal90\",\n",
    "    \"ExemplarReturnedCountTotal7\",\n",
    "    \"ExemplarReturnedCountTotal30\",\n",
    "    \"ExemplarReturnedCountTotal90\",\n",
    "    \"ExemplarReturnedValueTotal7\",\n",
    "    \"ExemplarReturnedValueTotal30\",\n",
    "    \"ExemplarReturnedValueTotal90\",\n",
    "    \"ItemVarietyCount\",\n",
    "    \"ItemAvailableCount\",\n",
    "    \"seller_time_alive\",\n",
    "]"
   ]
  },
  {
   "cell_type": "code",
   "execution_count": null,
   "id": "4524d106",
   "metadata": {},
   "outputs": [
    {
     "name": "stdout",
     "output_type": "stream",
     "text": [
      "Columns in train not included in any feature list: set()\n"
     ]
    }
   ],
   "source": [
    "# Check that all columns from train (except target) are included in one of the lists\n",
    "all_feature_cols = set(id_cols + boolean_cols + numeric_cols + text_cols + categorial_cols)\n",
    "missing_cols = set(train.columns) - all_feature_cols - {target_col}\n",
    "print(\"Columns in train not included in any feature list:\", missing_cols)"
   ]
  },
  {
   "cell_type": "code",
   "execution_count": null,
   "id": "6a284f62",
   "metadata": {},
   "outputs": [
    {
     "name": "stdout",
     "output_type": "stream",
     "text": [
      "train 'name_rus': {'NaN': np.int64(0), 'empty_string': np.int64(0), 'total_rows': 197198}\n",
      "test 'name_rus': {'NaN': np.int64(0), 'empty_string': np.int64(0), 'total_rows': 22760}\n",
      "\n",
      "train 'description': {'NaN': np.int64(26060), 'empty_string': np.int64(0), 'total_rows': 197198}\n",
      "test 'description': {'NaN': np.int64(2224), 'empty_string': np.int64(0), 'total_rows': 22760}\n",
      "\n",
      "train 'brand_name': {'NaN': np.int64(80531), 'empty_string': np.int64(0), 'total_rows': 197198}\n",
      "test 'brand_name': {'NaN': np.int64(5832), 'empty_string': np.int64(0), 'total_rows': 22760}\n",
      "\n",
      "train 'CommercialTypeName4': {'NaN': np.int64(0), 'empty_string': np.int64(0), 'total_rows': 197198}\n",
      "test 'CommercialTypeName4': {'NaN': np.int64(0), 'empty_string': np.int64(0), 'total_rows': 22760}\n"
     ]
    }
   ],
   "source": [
    "# Analyze NaN, empty and whitespace-only strings\n",
    "\n",
    "print(\"train 'name_rus':\", count_empty_nan_emptystr(train, \"name_rus\"))\n",
    "print(\"test 'name_rus':\", count_empty_nan_emptystr(test, \"name_rus\"))\n",
    "print()\n",
    "print(\"train 'description':\", count_empty_nan_emptystr(train, \"description\"))\n",
    "print(\"test 'description':\", count_empty_nan_emptystr(test, \"description\"))\n",
    "print()\n",
    "print(\"train 'brand_name':\", count_empty_nan_emptystr(train, \"brand_name\"))\n",
    "print(\"test 'brand_name':\", count_empty_nan_emptystr(test, \"brand_name\"))\n",
    "print()\n",
    "print(\"train 'CommercialTypeName4':\", count_empty_nan_emptystr(train, \"CommercialTypeName4\"))\n",
    "print(\"test 'CommercialTypeName4':\", count_empty_nan_emptystr(test, \"CommercialTypeName4\"))"
   ]
  },
  {
   "cell_type": "code",
   "execution_count": null,
   "id": "4b309ada",
   "metadata": {},
   "outputs": [
    {
     "name": "stdout",
     "output_type": "stream",
     "text": [
      "resolution                           0\n",
      "brand_name                       80531\n",
      "description                      26060\n",
      "name_rus                             0\n",
      "CommercialTypeName4                  0\n",
      "rating_1_count                  150005\n",
      "rating_2_count                  150005\n",
      "rating_3_count                  150005\n",
      "rating_4_count                  150005\n",
      "rating_5_count                  150005\n",
      "comments_published_count        150005\n",
      "photos_published_count          150005\n",
      "videos_published_count          150005\n",
      "PriceDiscounted                      0\n",
      "item_time_alive                      0\n",
      "item_count_fake_returns7             0\n",
      "item_count_fake_returns30            0\n",
      "item_count_fake_returns90            0\n",
      "item_count_sales7                    0\n",
      "item_count_sales30                   0\n",
      "item_count_sales90                   0\n",
      "item_count_returns7                  0\n",
      "item_count_returns30                 0\n",
      "item_count_returns90                 0\n",
      "GmvTotal7                        10191\n",
      "GmvTotal30                        7930\n",
      "GmvTotal90                        7407\n",
      "ExemplarAcceptedCountTotal7      10191\n",
      "ExemplarAcceptedCountTotal30      7930\n",
      "ExemplarAcceptedCountTotal90      7407\n",
      "OrderAcceptedCountTotal7         10401\n",
      "OrderAcceptedCountTotal30         8160\n",
      "OrderAcceptedCountTotal90         7517\n",
      "ExemplarReturnedCountTotal7      10191\n",
      "ExemplarReturnedCountTotal30      7930\n",
      "ExemplarReturnedCountTotal90      7407\n",
      "ExemplarReturnedValueTotal7      10191\n",
      "ExemplarReturnedValueTotal30      7930\n",
      "ExemplarReturnedValueTotal90      7407\n",
      "ItemVarietyCount                   997\n",
      "ItemAvailableCount                 997\n",
      "seller_time_alive                    0\n",
      "ItemID                               0\n",
      "SellerID                             0\n",
      "has_image                            0\n",
      "has_description                      0\n",
      "has_brand_name                       0\n",
      "dtype: int64\n"
     ]
    }
   ],
   "source": [
    "print(train.isnull().sum())"
   ]
  },
  {
   "cell_type": "code",
   "execution_count": null,
   "id": "ad872b3b",
   "metadata": {},
   "outputs": [
    {
     "name": "stdout",
     "output_type": "stream",
     "text": [
      "brand_name                       5832\n",
      "description                      2224\n",
      "name_rus                            0\n",
      "CommercialTypeName4                 0\n",
      "rating_1_count                  21053\n",
      "rating_2_count                  21053\n",
      "rating_3_count                  21053\n",
      "rating_4_count                  21053\n",
      "rating_5_count                  21053\n",
      "comments_published_count        21053\n",
      "photos_published_count          21053\n",
      "videos_published_count          21053\n",
      "PriceDiscounted                     3\n",
      "item_time_alive                     0\n",
      "item_count_fake_returns7            0\n",
      "item_count_fake_returns30           0\n",
      "item_count_fake_returns90           0\n",
      "item_count_sales7                   0\n",
      "item_count_sales30                  0\n",
      "item_count_sales90                  0\n",
      "item_count_returns7                 0\n",
      "item_count_returns30                0\n",
      "item_count_returns90                0\n",
      "GmvTotal7                        1381\n",
      "GmvTotal30                        913\n",
      "GmvTotal90                        759\n",
      "ExemplarAcceptedCountTotal7      1381\n",
      "ExemplarAcceptedCountTotal30      913\n",
      "ExemplarAcceptedCountTotal90      759\n",
      "OrderAcceptedCountTotal7         1433\n",
      "OrderAcceptedCountTotal30         946\n",
      "OrderAcceptedCountTotal90         777\n",
      "ExemplarReturnedCountTotal7      1381\n",
      "ExemplarReturnedCountTotal30      913\n",
      "ExemplarReturnedCountTotal90      759\n",
      "ExemplarReturnedValueTotal7      1381\n",
      "ExemplarReturnedValueTotal30      913\n",
      "ExemplarReturnedValueTotal90      759\n",
      "ItemVarietyCount                  602\n",
      "ItemAvailableCount                602\n",
      "seller_time_alive                   0\n",
      "ItemID                              0\n",
      "SellerID                            0\n",
      "has_image                           0\n",
      "has_description                     0\n",
      "has_brand_name                      0\n",
      "dtype: int64\n"
     ]
    }
   ],
   "source": [
    "print(test.isnull().sum())"
   ]
  },
  {
   "cell_type": "markdown",
   "id": "c19e9a6f",
   "metadata": {},
   "source": [
    "# Препроцессинг"
   ]
  },
  {
   "cell_type": "markdown",
   "id": "c6d7ea42",
   "metadata": {},
   "source": [
    "## Textual"
   ]
  },
  {
   "cell_type": "markdown",
   "id": "ed466d9b",
   "metadata": {},
   "source": [
    "### description"
   ]
  },
  {
   "cell_type": "code",
   "execution_count": null,
   "id": "2e9fef7b",
   "metadata": {},
   "outputs": [
    {
     "name": "stdout",
     "output_type": "stream",
     "text": [
      "Train 'description':\n",
      "count: 197198\n",
      "n_nan: 26060\n",
      "n_empty: 0\n",
      "n_non_empty: 171138\n",
      "length_min: 1\n",
      "length_max: 1024\n",
      "length_mean: 411.61205576785983\n",
      "length_median: 554.0\n",
      "length_std: 244.91077362325473\n",
      "\n",
      "Test 'description':\n",
      "count: 22760\n",
      "n_nan: 2224\n",
      "n_empty: 0\n",
      "n_non_empty: 20536\n",
      "length_min: 1\n",
      "length_max: 1024\n",
      "length_mean: 487.180901830931\n",
      "length_median: 568.0\n",
      "length_std: 189.59859960577654\n"
     ]
    }
   ],
   "source": [
    "# Посмотрим на description\n",
    "\n",
    "print(\"Train 'description':\")\n",
    "analyze_string_columns(train.description)\n",
    "print()\n",
    "print(\"Test 'description':\")\n",
    "analyze_string_columns(test.description)"
   ]
  },
  {
   "cell_type": "markdown",
   "id": "46509839",
   "metadata": {},
   "source": [
    "Обрезаны до 1024."
   ]
  },
  {
   "cell_type": "markdown",
   "id": "6f33c20b",
   "metadata": {},
   "source": [
    "## Categorial"
   ]
  },
  {
   "cell_type": "markdown",
   "id": "e774be49",
   "metadata": {},
   "source": [
    "### brand_name"
   ]
  },
  {
   "cell_type": "code",
   "execution_count": null,
   "id": "b1b539ee",
   "metadata": {},
   "outputs": [
    {
     "name": "stdout",
     "output_type": "stream",
     "text": [
      "Train 'brand_name':\n"
     ]
    },
    {
     "name": "stdout",
     "output_type": "stream",
     "text": [
      "count: 197198\n",
      "n_nan: 80531\n",
      "n_empty: 0\n",
      "n_non_empty: 116667\n",
      "length_min: 1\n",
      "length_max: 35\n",
      "length_mean: 7.526404210273685\n",
      "length_median: 7.0\n",
      "length_std: 3.781397637844951\n",
      "\n",
      "Test 'brand_name':\n",
      "count: 22760\n",
      "n_nan: 5832\n",
      "n_empty: 0\n",
      "n_non_empty: 16928\n",
      "length_min: 1\n",
      "length_max: 30\n",
      "length_mean: 6.716032608695652\n",
      "length_median: 6.0\n",
      "length_std: 2.920885982827091\n"
     ]
    }
   ],
   "source": [
    "# Посмотрим на brand_name\n",
    "\n",
    "print(\"Train 'brand_name':\")\n",
    "analyze_string_columns(train.brand_name)\n",
    "print()\n",
    "print(\"Test 'brand_name':\")\n",
    "analyze_string_columns(test.brand_name)"
   ]
  },
  {
   "cell_type": "code",
   "execution_count": null,
   "id": "76a359ae",
   "metadata": {},
   "outputs": [
    {
     "name": "stdout",
     "output_type": "stream",
     "text": [
      "Train 'brand_name' unique count: 4066\n",
      "Test 'brand_name' unique count: 863\n",
      "\n",
      "Top 5 popular 'brand_name' in train:\n",
      "brand_name\n",
      "iQZiP            6084\n",
      "ProFDetali       4811\n",
      "OEM              4275\n",
      "Sony             3053\n",
      "Levsha kaluga    3009\n",
      "Name: count, dtype: int64\n",
      "\n",
      "Top 5 popular 'brand_name' in test:\n",
      "brand_name\n",
      "Ballu      1145\n",
      "Xiaomi     1096\n",
      "Kitfort     797\n",
      "Oral-B      676\n",
      "Sony        547\n",
      "Name: count, dtype: int64\n"
     ]
    }
   ],
   "source": [
    "print(\"Train 'brand_name' unique count:\", train[\"brand_name\"].nunique())\n",
    "print(\"Test 'brand_name' unique count:\", test[\"brand_name\"].nunique())\n",
    "\n",
    "print(\"\\nTop 5 popular 'brand_name' in train:\")\n",
    "print(train[\"brand_name\"].value_counts(dropna=True).head(5))\n",
    "\n",
    "print(\"\\nTop 5 popular 'brand_name' in test:\")\n",
    "print(test[\"brand_name\"].value_counts(dropna=True).head(5))"
   ]
  },
  {
   "cell_type": "code",
   "execution_count": null,
   "id": "5d344b4a",
   "metadata": {},
   "outputs": [
    {
     "data": {
      "text/plain": [
       "(np.int64(16141), np.float64(95.35089792060492))"
      ]
     },
     "execution_count": 18,
     "metadata": {},
     "output_type": "execute_result"
    }
   ],
   "source": [
    "count_and_percentage_in(test.brand_name, train.brand_name)"
   ]
  },
  {
   "cell_type": "markdown",
   "id": "284d6044",
   "metadata": {},
   "source": [
    "95% брендов в тесте встречались в трейне"
   ]
  },
  {
   "cell_type": "code",
   "execution_count": null,
   "id": "b36585f9",
   "metadata": {},
   "outputs": [
    {
     "data": {
      "image/png": "[encoded data removed]",
      "text/plain": [
       "<Figure size 800x400 with 1 Axes>"
      ]
     },
     "metadata": {},
     "output_type": "display_data"
    }
   ],
   "source": [
    "# График числа брендов определенной частоты (100 наименее частых)\n",
    "\n",
    "brand_counts = train[\"brand_name\"].value_counts(dropna=True)\n",
    "freq_counts = brand_counts.value_counts().sort_index().iloc[:100]\n",
    "plt.figure(figsize=(8, 4))\n",
    "plt.plot(freq_counts.index, freq_counts.values)\n",
    "plt.xlabel(\"Frequency\")\n",
    "plt.ylabel(\"Number of brands\")\n",
    "plt.show()"
   ]
  },
  {
   "cell_type": "markdown",
   "id": "264de1de",
   "metadata": {},
   "source": [
    "Предлагаю добавить бренды с частотой <= 10 в категорию \"другие\" - тем самым мы сильнее всего понизим размерность"
   ]
  },
  {
   "cell_type": "code",
   "execution_count": null,
   "id": "4ec259db",
   "metadata": {},
   "outputs": [
    {
     "name": "stdout",
     "output_type": "stream",
     "text": [
      "\n",
      "    Class for category column preprocessing (Group rare categories and apply Binary Encoding).\n",
      "\n",
      "    Args:\n",
      "        col_name (str): The name of the column to encode.\n",
      "        min_freq (int): Categories which frequency is below this threshold will be put in f\"<RARE_{self.col_name}>\" category.\n",
      "    \n"
     ]
    }
   ],
   "source": [
    "print(prep.CategoryEncoder.__doc__)"
   ]
  },
  {
   "cell_type": "code",
   "execution_count": null,
   "id": "321a7b02",
   "metadata": {},
   "outputs": [
    {
     "name": "stdout",
     "output_type": "stream",
     "text": [
      "865\n"
     ]
    }
   ],
   "source": [
    "brand_name_enc = prep.CategoryEncoder(col_name=\"brand_name\", min_freq=10)\n",
    "brand_name_enc.fit(train)\n",
    "\n",
    "print(len(brand_name_enc.frequent_categories_))"
   ]
  },
  {
   "cell_type": "markdown",
   "id": "e5d54c99",
   "metadata": {},
   "source": [
    "Из 4066 категорий оставили только 868 -> получим 10 бинарных колонок при BinaryEncoding-е."
   ]
  },
  {
   "cell_type": "code",
   "execution_count": null,
   "id": "2eb18fd2",
   "metadata": {},
   "outputs": [
    {
     "data": {
      "text/html": [
       "<div>\n",
       "<style scoped>\n",
       "    .dataframe tbody tr th:only-of-type {\n",
       "        vertical-align: middle;\n",
       "    }\n",
       "\n",
       "    .dataframe tbody tr th {\n",
       "        vertical-align: top;\n",
       "    }\n",
       "\n",
       "    .dataframe thead th {\n",
       "        text-align: right;\n",
       "    }\n",
       "</style>\n",
       "<table border=\"1\" class=\"dataframe\">\n",
       "  <thead>\n",
       "    <tr style=\"text-align: right;\">\n",
       "      <th></th>\n",
       "      <th>resolution</th>\n",
       "      <th>brand_name</th>\n",
       "      <th>description</th>\n",
       "      <th>name_rus</th>\n",
       "      <th>CommercialTypeName4</th>\n",
       "      <th>rating_1_count</th>\n",
       "      <th>rating_2_count</th>\n",
       "      <th>rating_3_count</th>\n",
       "      <th>rating_4_count</th>\n",
       "      <th>rating_5_count</th>\n",
       "      <th>...</th>\n",
       "      <th>brand_name_0</th>\n",
       "      <th>brand_name_1</th>\n",
       "      <th>brand_name_2</th>\n",
       "      <th>brand_name_3</th>\n",
       "      <th>brand_name_4</th>\n",
       "      <th>brand_name_5</th>\n",
       "      <th>brand_name_6</th>\n",
       "      <th>brand_name_7</th>\n",
       "      <th>brand_name_8</th>\n",
       "      <th>brand_name_9</th>\n",
       "    </tr>\n",
       "  </thead>\n",
       "  <tbody>\n",
       "    <tr>\n",
       "      <th>0</th>\n",
       "      <td>0</td>\n",
       "      <td>ACTRUM</td>\n",
       "      <td>Мешки пылесборники для пылесоса PHILIPS, 10 шт...</td>\n",
       "      <td>Мешки для пылесоса PHILIPS TRIATLON, синтетиче...</td>\n",
       "      <td>Пылесборник</td>\n",
       "      <td>6.0</td>\n",
       "      <td>4.0</td>\n",
       "      <td>4.0</td>\n",
       "      <td>3.0</td>\n",
       "      <td>32.0</td>\n",
       "      <td>...</td>\n",
       "      <td>0</td>\n",
       "      <td>0</td>\n",
       "      <td>0</td>\n",
       "      <td>0</td>\n",
       "      <td>0</td>\n",
       "      <td>0</td>\n",
       "      <td>0</td>\n",
       "      <td>0</td>\n",
       "      <td>0</td>\n",
       "      <td>1</td>\n",
       "    </tr>\n",
       "    <tr>\n",
       "      <th>1</th>\n",
       "      <td>0</td>\n",
       "      <td>Red Line</td>\n",
       "      <td>Защитная силиконовая крышка обьектива GoPro He...</td>\n",
       "      <td>Защитная крышка Redline на экшн-камеру GoPro (...</td>\n",
       "      <td>Крышка для объектива</td>\n",
       "      <td>NaN</td>\n",
       "      <td>NaN</td>\n",
       "      <td>NaN</td>\n",
       "      <td>NaN</td>\n",
       "      <td>NaN</td>\n",
       "      <td>...</td>\n",
       "      <td>0</td>\n",
       "      <td>0</td>\n",
       "      <td>0</td>\n",
       "      <td>0</td>\n",
       "      <td>0</td>\n",
       "      <td>0</td>\n",
       "      <td>0</td>\n",
       "      <td>0</td>\n",
       "      <td>1</td>\n",
       "      <td>0</td>\n",
       "    </tr>\n",
       "    <tr>\n",
       "      <th>2</th>\n",
       "      <td>0</td>\n",
       "      <td>&lt;RARE_BRAND_NAME&gt;</td>\n",
       "      <td>Плоский медиатор из кости толщиной 0.6 мм&lt;br/&gt;...</td>\n",
       "      <td>Медиатор для гитары Acura GP-PB6</td>\n",
       "      <td>Аксессуар для музыкального инструмента</td>\n",
       "      <td>0.0</td>\n",
       "      <td>0.0</td>\n",
       "      <td>1.0</td>\n",
       "      <td>0.0</td>\n",
       "      <td>1.0</td>\n",
       "      <td>...</td>\n",
       "      <td>0</td>\n",
       "      <td>0</td>\n",
       "      <td>0</td>\n",
       "      <td>0</td>\n",
       "      <td>0</td>\n",
       "      <td>0</td>\n",
       "      <td>0</td>\n",
       "      <td>0</td>\n",
       "      <td>1</td>\n",
       "      <td>1</td>\n",
       "    </tr>\n",
       "  </tbody>\n",
       "</table>\n",
       "<p>3 rows × 57 columns</p>\n",
       "</div>"
      ],
      "text/plain": [
       "   resolution         brand_name  \\\n",
       "0           0             ACTRUM   \n",
       "1           0           Red Line   \n",
       "2           0  <RARE_BRAND_NAME>   \n",
       "\n",
       "                                         description  \\\n",
       "0  Мешки пылесборники для пылесоса PHILIPS, 10 шт...   \n",
       "1  Защитная силиконовая крышка обьектива GoPro He...   \n",
       "2  Плоский медиатор из кости толщиной 0.6 мм<br/>...   \n",
       "\n",
       "                                            name_rus  \\\n",
       "0  Мешки для пылесоса PHILIPS TRIATLON, синтетиче...   \n",
       "1  Защитная крышка Redline на экшн-камеру GoPro (...   \n",
       "2                   Медиатор для гитары Acura GP-PB6   \n",
       "\n",
       "                      CommercialTypeName4  rating_1_count  rating_2_count  \\\n",
       "0                             Пылесборник             6.0             4.0   \n",
       "1                    Крышка для объектива             NaN             NaN   \n",
       "2  Аксессуар для музыкального инструмента             0.0             0.0   \n",
       "\n",
       "   rating_3_count  rating_4_count  rating_5_count  ...  brand_name_0  \\\n",
       "0             4.0             3.0            32.0  ...             0   \n",
       "1             NaN             NaN             NaN  ...             0   \n",
       "2             1.0             0.0             1.0  ...             0   \n",
       "\n",
       "   brand_name_1  brand_name_2  brand_name_3  brand_name_4  brand_name_5  \\\n",
       "0             0             0             0             0             0   \n",
       "1             0             0             0             0             0   \n",
       "2             0             0             0             0             0   \n",
       "\n",
       "   brand_name_6  brand_name_7  brand_name_8  brand_name_9  \n",
       "0             0             0             0             1  \n",
       "1             0             0             1             0  \n",
       "2             0             0             1             1  \n",
       "\n",
       "[3 rows x 57 columns]"
      ]
     },
     "execution_count": 24,
     "metadata": {},
     "output_type": "execute_result"
    }
   ],
   "source": [
    "transformed_train = brand_name_enc.transform(train)\n",
    "transformed_train.head(3)"
   ]
  },
  {
   "cell_type": "code",
   "execution_count": null,
   "id": "468f0a3f",
   "metadata": {},
   "outputs": [
    {
     "name": "stdout",
     "output_type": "stream",
     "text": [
      "brand_name\n",
      "brand_name_0\n",
      "brand_name_1\n",
      "brand_name_2\n",
      "brand_name_3\n",
      "brand_name_4\n",
      "brand_name_5\n",
      "brand_name_6\n",
      "brand_name_7\n",
      "brand_name_8\n",
      "brand_name_9\n"
     ]
    }
   ],
   "source": [
    "for c in transformed_train.columns:\n",
    "    if c.startswith(\"brand_name\"):\n",
    "        print(c)"
   ]
  },
  {
   "cell_type": "markdown",
   "id": "1fcac9ef",
   "metadata": {},
   "source": [
    "### CommercialTypeName4"
   ]
  },
  {
   "cell_type": "code",
   "execution_count": null,
   "id": "8a40d50e",
   "metadata": {},
   "outputs": [
    {
     "name": "stdout",
     "output_type": "stream",
     "text": [
      "Train 'CommercialTypeName4':\n",
      "count: 197198\n",
      "n_nan: 0\n",
      "n_empty: 0\n",
      "n_non_empty: 197198\n",
      "length_min: 3\n",
      "length_max: 64\n",
      "length_mean: 23.257325125001266\n",
      "length_median: 21.0\n",
      "length_std: 8.98699381155549\n",
      "\n",
      "Test 'CommercialTypeName4':\n",
      "count: 22760\n",
      "n_nan: 0\n",
      "n_empty: 0\n",
      "n_non_empty: 22760\n",
      "length_min: 3\n",
      "length_max: 64\n",
      "length_mean: 21.548022847100174\n",
      "length_median: 21.0\n",
      "length_std: 9.088270767321301\n"
     ]
    }
   ],
   "source": [
    "# Посмотрим на CommercialTypeName4\n",
    "\n",
    "print(\"Train 'CommercialTypeName4':\")\n",
    "analyze_string_columns(train.CommercialTypeName4)\n",
    "print()\n",
    "print(\"Test 'CommercialTypeName4':\")\n",
    "analyze_string_columns(test.CommercialTypeName4)"
   ]
  },
  {
   "cell_type": "code",
   "execution_count": null,
   "id": "39250ee6",
   "metadata": {},
   "outputs": [
    {
     "name": "stdout",
     "output_type": "stream",
     "text": [
      "Train 'CommercialTypeName4' unique count: 634\n",
      "Test 'CommercialTypeName4' unique count: 440\n",
      "\n",
      "Top 5 popular 'CommercialTypeName4' in train:\n",
      "CommercialTypeName4\n",
      "Дисплеи для телефонов                  15002\n",
      "Аккумулятор для мобильного телефона    11965\n",
      "Корпуса для телефонов                  11960\n",
      "Запчасти для телевизора                10192\n",
      "Картридж, чернила, тонер                8570\n",
      "Name: count, dtype: int64\n",
      "\n",
      "Top 5 popular 'CommercialTypeName4' in test:\n",
      "CommercialTypeName4\n",
      "Настольный компьютер                   1856\n",
      "Водонагреватель накопительный           783\n",
      "Картридж, чернила, тонер                701\n",
      "Электрическая зубная щетка              698\n",
      "Аккумулятор для мобильного телефона     697\n",
      "Name: count, dtype: int64\n"
     ]
    }
   ],
   "source": [
    "print(\"Train 'CommercialTypeName4' unique count:\", train[\"CommercialTypeName4\"].nunique())\n",
    "print(\"Test 'CommercialTypeName4' unique count:\", test[\"CommercialTypeName4\"].nunique())\n",
    "\n",
    "print(\"\\nTop 5 popular 'CommercialTypeName4' in train:\")\n",
    "print(train[\"CommercialTypeName4\"].value_counts(dropna=True).head(5))\n",
    "\n",
    "print(\"\\nTop 5 popular 'CommercialTypeName4' in test:\")\n",
    "print(test[\"CommercialTypeName4\"].value_counts(dropna=True).head(5))"
   ]
  },
  {
   "cell_type": "code",
   "execution_count": null,
   "id": "46f06c3e",
   "metadata": {},
   "outputs": [
    {
     "data": {
      "text/plain": [
       "(np.int64(22737), np.float64(99.89894551845343))"
      ]
     },
     "execution_count": 28,
     "metadata": {},
     "output_type": "execute_result"
    }
   ],
   "source": [
    "count_and_percentage_in(test.CommercialTypeName4, train.CommercialTypeName4)"
   ]
  },
  {
   "cell_type": "markdown",
   "id": "7091dc58",
   "metadata": {},
   "source": [
    "Почти 100% категорий в тесте есть в трейне."
   ]
  },
  {
   "cell_type": "code",
   "execution_count": null,
   "id": "1d691c80",
   "metadata": {},
   "outputs": [
    {
     "data": {
      "image/png": "[encoded data removed]",
      "text/plain": [
       "<Figure size 800x400 with 1 Axes>"
      ]
     },
     "metadata": {},
     "output_type": "display_data"
    }
   ],
   "source": [
    "# График числа брендов определенной частоты (100 наименее частых)\n",
    "\n",
    "brand_counts = train[\"CommercialTypeName4\"].value_counts(dropna=True)\n",
    "freq_counts = brand_counts.value_counts().sort_index().iloc[:100]\n",
    "plt.figure(figsize=(8, 4))\n",
    "plt.plot(freq_counts.index, freq_counts.values)\n",
    "plt.xlabel(\"Frequency\")\n",
    "plt.ylabel(\"Number of CommercialTypeName4\")\n",
    "plt.show()"
   ]
  },
  {
   "cell_type": "markdown",
   "id": "051eea5a",
   "metadata": {},
   "source": [
    "Сделаем отсечку на 10."
   ]
  },
  {
   "cell_type": "code",
   "execution_count": null,
   "id": "6a850fa2",
   "metadata": {},
   "outputs": [
    {
     "name": "stdout",
     "output_type": "stream",
     "text": [
      "424\n"
     ]
    }
   ],
   "source": [
    "CommercialTypeName4_enc = prep.CategoryEncoder(col_name=\"CommercialTypeName4\", min_freq=10)\n",
    "CommercialTypeName4_enc.fit(train)\n",
    "\n",
    "print(len(CommercialTypeName4_enc.frequent_categories_))"
   ]
  },
  {
   "cell_type": "markdown",
   "id": "f5060d45",
   "metadata": {},
   "source": [
    "Из 634 оставили 424 категории -> получим 9 бинарных колонок."
   ]
  },
  {
   "cell_type": "code",
   "execution_count": null,
   "id": "790c841b",
   "metadata": {},
   "outputs": [
    {
     "data": {
      "text/html": [
       "<div>\n",
       "<style scoped>\n",
       "    .dataframe tbody tr th:only-of-type {\n",
       "        vertical-align: middle;\n",
       "    }\n",
       "\n",
       "    .dataframe tbody tr th {\n",
       "        vertical-align: top;\n",
       "    }\n",
       "\n",
       "    .dataframe thead th {\n",
       "        text-align: right;\n",
       "    }\n",
       "</style>\n",
       "<table border=\"1\" class=\"dataframe\">\n",
       "  <thead>\n",
       "    <tr style=\"text-align: right;\">\n",
       "      <th></th>\n",
       "      <th>resolution</th>\n",
       "      <th>brand_name</th>\n",
       "      <th>description</th>\n",
       "      <th>name_rus</th>\n",
       "      <th>CommercialTypeName4</th>\n",
       "      <th>rating_1_count</th>\n",
       "      <th>rating_2_count</th>\n",
       "      <th>rating_3_count</th>\n",
       "      <th>rating_4_count</th>\n",
       "      <th>rating_5_count</th>\n",
       "      <th>...</th>\n",
       "      <th>has_brand_name</th>\n",
       "      <th>CommercialTypeName4_0</th>\n",
       "      <th>CommercialTypeName4_1</th>\n",
       "      <th>CommercialTypeName4_2</th>\n",
       "      <th>CommercialTypeName4_3</th>\n",
       "      <th>CommercialTypeName4_4</th>\n",
       "      <th>CommercialTypeName4_5</th>\n",
       "      <th>CommercialTypeName4_6</th>\n",
       "      <th>CommercialTypeName4_7</th>\n",
       "      <th>CommercialTypeName4_8</th>\n",
       "    </tr>\n",
       "  </thead>\n",
       "  <tbody>\n",
       "    <tr>\n",
       "      <th>0</th>\n",
       "      <td>0</td>\n",
       "      <td>ACTRUM</td>\n",
       "      <td>Мешки пылесборники для пылесоса PHILIPS, 10 шт...</td>\n",
       "      <td>Мешки для пылесоса PHILIPS TRIATLON, синтетиче...</td>\n",
       "      <td>Пылесборник</td>\n",
       "      <td>6.0</td>\n",
       "      <td>4.0</td>\n",
       "      <td>4.0</td>\n",
       "      <td>3.0</td>\n",
       "      <td>32.0</td>\n",
       "      <td>...</td>\n",
       "      <td>1</td>\n",
       "      <td>0</td>\n",
       "      <td>0</td>\n",
       "      <td>0</td>\n",
       "      <td>0</td>\n",
       "      <td>0</td>\n",
       "      <td>0</td>\n",
       "      <td>0</td>\n",
       "      <td>0</td>\n",
       "      <td>1</td>\n",
       "    </tr>\n",
       "    <tr>\n",
       "      <th>1</th>\n",
       "      <td>0</td>\n",
       "      <td>Red Line</td>\n",
       "      <td>Защитная силиконовая крышка обьектива GoPro He...</td>\n",
       "      <td>Защитная крышка Redline на экшн-камеру GoPro (...</td>\n",
       "      <td>Крышка для объектива</td>\n",
       "      <td>NaN</td>\n",
       "      <td>NaN</td>\n",
       "      <td>NaN</td>\n",
       "      <td>NaN</td>\n",
       "      <td>NaN</td>\n",
       "      <td>...</td>\n",
       "      <td>1</td>\n",
       "      <td>0</td>\n",
       "      <td>0</td>\n",
       "      <td>0</td>\n",
       "      <td>0</td>\n",
       "      <td>0</td>\n",
       "      <td>0</td>\n",
       "      <td>0</td>\n",
       "      <td>1</td>\n",
       "      <td>0</td>\n",
       "    </tr>\n",
       "    <tr>\n",
       "      <th>2</th>\n",
       "      <td>0</td>\n",
       "      <td>Talwar Brothers</td>\n",
       "      <td>Плоский медиатор из кости толщиной 0.6 мм&lt;br/&gt;...</td>\n",
       "      <td>Медиатор для гитары Acura GP-PB6</td>\n",
       "      <td>Аксессуар для музыкального инструмента</td>\n",
       "      <td>0.0</td>\n",
       "      <td>0.0</td>\n",
       "      <td>1.0</td>\n",
       "      <td>0.0</td>\n",
       "      <td>1.0</td>\n",
       "      <td>...</td>\n",
       "      <td>1</td>\n",
       "      <td>0</td>\n",
       "      <td>0</td>\n",
       "      <td>0</td>\n",
       "      <td>0</td>\n",
       "      <td>0</td>\n",
       "      <td>0</td>\n",
       "      <td>0</td>\n",
       "      <td>1</td>\n",
       "      <td>1</td>\n",
       "    </tr>\n",
       "  </tbody>\n",
       "</table>\n",
       "<p>3 rows × 56 columns</p>\n",
       "</div>"
      ],
      "text/plain": [
       "   resolution       brand_name  \\\n",
       "0           0           ACTRUM   \n",
       "1           0         Red Line   \n",
       "2           0  Talwar Brothers   \n",
       "\n",
       "                                         description  \\\n",
       "0  Мешки пылесборники для пылесоса PHILIPS, 10 шт...   \n",
       "1  Защитная силиконовая крышка обьектива GoPro He...   \n",
       "2  Плоский медиатор из кости толщиной 0.6 мм<br/>...   \n",
       "\n",
       "                                            name_rus  \\\n",
       "0  Мешки для пылесоса PHILIPS TRIATLON, синтетиче...   \n",
       "1  Защитная крышка Redline на экшн-камеру GoPro (...   \n",
       "2                   Медиатор для гитары Acura GP-PB6   \n",
       "\n",
       "                      CommercialTypeName4  rating_1_count  rating_2_count  \\\n",
       "0                             Пылесборник             6.0             4.0   \n",
       "1                    Крышка для объектива             NaN             NaN   \n",
       "2  Аксессуар для музыкального инструмента             0.0             0.0   \n",
       "\n",
       "   rating_3_count  rating_4_count  rating_5_count  ...  has_brand_name  \\\n",
       "0             4.0             3.0            32.0  ...               1   \n",
       "1             NaN             NaN             NaN  ...               1   \n",
       "2             1.0             0.0             1.0  ...               1   \n",
       "\n",
       "   CommercialTypeName4_0  CommercialTypeName4_1  CommercialTypeName4_2  \\\n",
       "0                      0                      0                      0   \n",
       "1                      0                      0                      0   \n",
       "2                      0                      0                      0   \n",
       "\n",
       "   CommercialTypeName4_3  CommercialTypeName4_4  CommercialTypeName4_5  \\\n",
       "0                      0                      0                      0   \n",
       "1                      0                      0                      0   \n",
       "2                      0                      0                      0   \n",
       "\n",
       "   CommercialTypeName4_6  CommercialTypeName4_7  CommercialTypeName4_8  \n",
       "0                      0                      0                      1  \n",
       "1                      0                      1                      0  \n",
       "2                      0                      1                      1  \n",
       "\n",
       "[3 rows x 56 columns]"
      ]
     },
     "execution_count": 31,
     "metadata": {},
     "output_type": "execute_result"
    }
   ],
   "source": [
    "transformed_train = CommercialTypeName4_enc.transform(train)\n",
    "transformed_train.head(3)"
   ]
  },
  {
   "cell_type": "code",
   "execution_count": null,
   "id": "e5f548e8",
   "metadata": {},
   "outputs": [
    {
     "name": "stdout",
     "output_type": "stream",
     "text": [
      "CommercialTypeName4\n",
      "CommercialTypeName4_0\n",
      "CommercialTypeName4_1\n",
      "CommercialTypeName4_2\n",
      "CommercialTypeName4_3\n",
      "CommercialTypeName4_4\n",
      "CommercialTypeName4_5\n",
      "CommercialTypeName4_6\n",
      "CommercialTypeName4_7\n",
      "CommercialTypeName4_8\n"
     ]
    }
   ],
   "source": [
    "for c in transformed_train.columns:\n",
    "    if c.startswith(\"CommercialTypeName4\"):\n",
    "        print(c)"
   ]
  },
  {
   "cell_type": "markdown",
   "id": "4c45ed8b",
   "metadata": {},
   "source": [
    "### SellerID"
   ]
  },
  {
   "cell_type": "markdown",
   "id": "65de7159",
   "metadata": {},
   "source": [
    "Делаем такое же преобразование категориальной в бинарные (как и brand_name)"
   ]
  },
  {
   "cell_type": "code",
   "execution_count": null,
   "id": "f3991c24",
   "metadata": {},
   "outputs": [
    {
     "name": "stdout",
     "output_type": "stream",
     "text": [
      "Train 'SellerID':\n",
      "count: 197198\n",
      "n_nan: 0\n",
      "n_empty: 0\n",
      "n_non_empty: 197198\n",
      "\n",
      "Test 'SellerID':\n",
      "count: 22760\n",
      "n_nan: 0\n",
      "n_empty: 0\n",
      "n_non_empty: 22760\n"
     ]
    }
   ],
   "source": [
    "# Посмотрим на SellerID\n",
    "\n",
    "print(\"Train 'SellerID':\")\n",
    "analyze_string_columns(train.SellerID)\n",
    "print()\n",
    "print(\"Test 'SellerID':\")\n",
    "analyze_string_columns(test.SellerID)"
   ]
  },
  {
   "cell_type": "code",
   "execution_count": null,
   "id": "75a62ff4",
   "metadata": {},
   "outputs": [
    {
     "name": "stdout",
     "output_type": "stream",
     "text": [
      "Train 'SellerID' unique count: 11167\n",
      "Test 'SellerID' unique count: 2952\n",
      "\n",
      "Top 5 popular 'SellerID' in train:\n",
      "SellerID\n",
      "24     6172\n",
      "69     3532\n",
      "442    3009\n",
      "6      2945\n",
      "27     2016\n",
      "Name: count, dtype: int64\n",
      "\n",
      "Top 5 popular 'SellerID' in test:\n",
      "SellerID\n",
      "467    1152\n",
      "576     776\n",
      "9       687\n",
      "804     311\n",
      "128     245\n",
      "Name: count, dtype: int64\n"
     ]
    }
   ],
   "source": [
    "print(\"Train 'SellerID' unique count:\", train[\"SellerID\"].nunique())\n",
    "print(\"Test 'SellerID' unique count:\", test[\"SellerID\"].nunique())\n",
    "\n",
    "print(\"\\nTop 5 popular 'SellerID' in train:\")\n",
    "print(train[\"SellerID\"].value_counts(dropna=True).head(5))\n",
    "\n",
    "print(\"\\nTop 5 popular 'SellerID' in test:\")\n",
    "print(test[\"SellerID\"].value_counts(dropna=True).head(5))"
   ]
  },
  {
   "cell_type": "code",
   "execution_count": null,
   "id": "5efc24b1",
   "metadata": {},
   "outputs": [
    {
     "data": {
      "text/plain": [
       "(np.int64(14837), np.float64(65.18892794376099))"
      ]
     },
     "execution_count": 35,
     "metadata": {},
     "output_type": "execute_result"
    }
   ],
   "source": [
    "count_and_percentage_in(test.SellerID, train.SellerID)"
   ]
  },
  {
   "cell_type": "markdown",
   "id": "3dc5d025",
   "metadata": {},
   "source": [
    "Только 65% продавцов в тесте присутствуют в трейне."
   ]
  },
  {
   "cell_type": "code",
   "execution_count": null,
   "id": "0b06e6e4",
   "metadata": {},
   "outputs": [
    {
     "data": {
      "image/png": "[encoded data removed]",
      "text/plain": [
       "<Figure size 800x400 with 1 Axes>"
      ]
     },
     "metadata": {},
     "output_type": "display_data"
    }
   ],
   "source": [
    "# График числа брендов определенной частоты (100 наименее частых)\n",
    "\n",
    "brand_counts = train[\"SellerID\"].value_counts(dropna=True)\n",
    "freq_counts = brand_counts.value_counts().sort_index().iloc[:100]\n",
    "plt.figure(figsize=(8, 4))\n",
    "plt.plot(freq_counts.index, freq_counts.values)\n",
    "plt.xlabel(\"Frequency\")\n",
    "plt.ylabel(\"Number of SellerID\")\n",
    "plt.show()"
   ]
  },
  {
   "cell_type": "markdown",
   "id": "f0d9da89",
   "metadata": {},
   "source": [
    "Сделаем отсечку на 15."
   ]
  },
  {
   "cell_type": "code",
   "execution_count": null,
   "id": "3dfb1e13",
   "metadata": {},
   "outputs": [],
   "source": [
    "# Преобразуем числовой SellerID в стринг\n",
    "train[\"SellerID\"] = train[\"SellerID\"].astype(str)\n",
    "test[\"SellerID\"] = test[\"SellerID\"].astype(str)"
   ]
  },
  {
   "cell_type": "code",
   "execution_count": null,
   "id": "51b697b7",
   "metadata": {},
   "outputs": [
    {
     "name": "stdout",
     "output_type": "stream",
     "text": [
      "1666\n"
     ]
    }
   ],
   "source": [
    "SellerID_enc = prep.CategoryEncoder(col_name=\"SellerID\", min_freq=15)\n",
    "SellerID_enc.fit(train)\n",
    "\n",
    "print(len(SellerID_enc.frequent_categories_))"
   ]
  },
  {
   "cell_type": "markdown",
   "id": "fb03f709",
   "metadata": {},
   "source": [
    "Из 11167 оставили 1666 продавцов -> получим 11 бинарных колонок."
   ]
  },
  {
   "cell_type": "code",
   "execution_count": null,
   "id": "95c2540e",
   "metadata": {},
   "outputs": [
    {
     "data": {
      "text/html": [
       "<div>\n",
       "<style scoped>\n",
       "    .dataframe tbody tr th:only-of-type {\n",
       "        vertical-align: middle;\n",
       "    }\n",
       "\n",
       "    .dataframe tbody tr th {\n",
       "        vertical-align: top;\n",
       "    }\n",
       "\n",
       "    .dataframe thead th {\n",
       "        text-align: right;\n",
       "    }\n",
       "</style>\n",
       "<table border=\"1\" class=\"dataframe\">\n",
       "  <thead>\n",
       "    <tr style=\"text-align: right;\">\n",
       "      <th></th>\n",
       "      <th>resolution</th>\n",
       "      <th>brand_name</th>\n",
       "      <th>description</th>\n",
       "      <th>name_rus</th>\n",
       "      <th>CommercialTypeName4</th>\n",
       "      <th>rating_1_count</th>\n",
       "      <th>rating_2_count</th>\n",
       "      <th>rating_3_count</th>\n",
       "      <th>rating_4_count</th>\n",
       "      <th>rating_5_count</th>\n",
       "      <th>...</th>\n",
       "      <th>SellerID_1</th>\n",
       "      <th>SellerID_2</th>\n",
       "      <th>SellerID_3</th>\n",
       "      <th>SellerID_4</th>\n",
       "      <th>SellerID_5</th>\n",
       "      <th>SellerID_6</th>\n",
       "      <th>SellerID_7</th>\n",
       "      <th>SellerID_8</th>\n",
       "      <th>SellerID_9</th>\n",
       "      <th>SellerID_10</th>\n",
       "    </tr>\n",
       "  </thead>\n",
       "  <tbody>\n",
       "    <tr>\n",
       "      <th>0</th>\n",
       "      <td>0</td>\n",
       "      <td>ACTRUM</td>\n",
       "      <td>Мешки пылесборники для пылесоса PHILIPS, 10 шт...</td>\n",
       "      <td>Мешки для пылесоса PHILIPS TRIATLON, синтетиче...</td>\n",
       "      <td>Пылесборник</td>\n",
       "      <td>6.0</td>\n",
       "      <td>4.0</td>\n",
       "      <td>4.0</td>\n",
       "      <td>3.0</td>\n",
       "      <td>32.0</td>\n",
       "      <td>...</td>\n",
       "      <td>0</td>\n",
       "      <td>0</td>\n",
       "      <td>0</td>\n",
       "      <td>0</td>\n",
       "      <td>0</td>\n",
       "      <td>0</td>\n",
       "      <td>0</td>\n",
       "      <td>0</td>\n",
       "      <td>0</td>\n",
       "      <td>1</td>\n",
       "    </tr>\n",
       "    <tr>\n",
       "      <th>1</th>\n",
       "      <td>0</td>\n",
       "      <td>Red Line</td>\n",
       "      <td>Защитная силиконовая крышка обьектива GoPro He...</td>\n",
       "      <td>Защитная крышка Redline на экшн-камеру GoPro (...</td>\n",
       "      <td>Крышка для объектива</td>\n",
       "      <td>NaN</td>\n",
       "      <td>NaN</td>\n",
       "      <td>NaN</td>\n",
       "      <td>NaN</td>\n",
       "      <td>NaN</td>\n",
       "      <td>...</td>\n",
       "      <td>0</td>\n",
       "      <td>0</td>\n",
       "      <td>0</td>\n",
       "      <td>0</td>\n",
       "      <td>0</td>\n",
       "      <td>0</td>\n",
       "      <td>0</td>\n",
       "      <td>0</td>\n",
       "      <td>1</td>\n",
       "      <td>0</td>\n",
       "    </tr>\n",
       "    <tr>\n",
       "      <th>2</th>\n",
       "      <td>0</td>\n",
       "      <td>Talwar Brothers</td>\n",
       "      <td>Плоский медиатор из кости толщиной 0.6 мм&lt;br/&gt;...</td>\n",
       "      <td>Медиатор для гитары Acura GP-PB6</td>\n",
       "      <td>Аксессуар для музыкального инструмента</td>\n",
       "      <td>0.0</td>\n",
       "      <td>0.0</td>\n",
       "      <td>1.0</td>\n",
       "      <td>0.0</td>\n",
       "      <td>1.0</td>\n",
       "      <td>...</td>\n",
       "      <td>0</td>\n",
       "      <td>0</td>\n",
       "      <td>0</td>\n",
       "      <td>0</td>\n",
       "      <td>0</td>\n",
       "      <td>0</td>\n",
       "      <td>0</td>\n",
       "      <td>0</td>\n",
       "      <td>1</td>\n",
       "      <td>1</td>\n",
       "    </tr>\n",
       "  </tbody>\n",
       "</table>\n",
       "<p>3 rows × 58 columns</p>\n",
       "</div>"
      ],
      "text/plain": [
       "   resolution       brand_name  \\\n",
       "0           0           ACTRUM   \n",
       "1           0         Red Line   \n",
       "2           0  Talwar Brothers   \n",
       "\n",
       "                                         description  \\\n",
       "0  Мешки пылесборники для пылесоса PHILIPS, 10 шт...   \n",
       "1  Защитная силиконовая крышка обьектива GoPro He...   \n",
       "2  Плоский медиатор из кости толщиной 0.6 мм<br/>...   \n",
       "\n",
       "                                            name_rus  \\\n",
       "0  Мешки для пылесоса PHILIPS TRIATLON, синтетиче...   \n",
       "1  Защитная крышка Redline на экшн-камеру GoPro (...   \n",
       "2                   Медиатор для гитары Acura GP-PB6   \n",
       "\n",
       "                      CommercialTypeName4  rating_1_count  rating_2_count  \\\n",
       "0                             Пылесборник             6.0             4.0   \n",
       "1                    Крышка для объектива             NaN             NaN   \n",
       "2  Аксессуар для музыкального инструмента             0.0             0.0   \n",
       "\n",
       "   rating_3_count  rating_4_count  rating_5_count  ...  SellerID_1  \\\n",
       "0             4.0             3.0            32.0  ...           0   \n",
       "1             NaN             NaN             NaN  ...           0   \n",
       "2             1.0             0.0             1.0  ...           0   \n",
       "\n",
       "   SellerID_2  SellerID_3  SellerID_4  SellerID_5  SellerID_6  SellerID_7  \\\n",
       "0           0           0           0           0           0           0   \n",
       "1           0           0           0           0           0           0   \n",
       "2           0           0           0           0           0           0   \n",
       "\n",
       "   SellerID_8  SellerID_9  SellerID_10  \n",
       "0           0           0            1  \n",
       "1           0           1            0  \n",
       "2           0           1            1  \n",
       "\n",
       "[3 rows x 58 columns]"
      ]
     },
     "execution_count": 39,
     "metadata": {},
     "output_type": "execute_result"
    }
   ],
   "source": [
    "transformed_train = SellerID_enc.transform(train)\n",
    "transformed_train.head(3)"
   ]
  },
  {
   "cell_type": "code",
   "execution_count": null,
   "id": "07fdeb77",
   "metadata": {},
   "outputs": [
    {
     "name": "stdout",
     "output_type": "stream",
     "text": [
      "SellerID\n",
      "SellerID_0\n",
      "SellerID_1\n",
      "SellerID_2\n",
      "SellerID_3\n",
      "SellerID_4\n",
      "SellerID_5\n",
      "SellerID_6\n",
      "SellerID_7\n",
      "SellerID_8\n",
      "SellerID_9\n",
      "SellerID_10\n"
     ]
    }
   ],
   "source": [
    "for c in transformed_train.columns:\n",
    "    if c.startswith(\"SellerID\"):\n",
    "        print(c)"
   ]
  },
  {
   "cell_type": "markdown",
   "id": "412673aa",
   "metadata": {},
   "source": [
    "## Числовые фичи"
   ]
  },
  {
   "cell_type": "markdown",
   "id": "53cb4093",
   "metadata": {},
   "source": [
    "Препроцессинг числовых фичей будет следующий:\n",
    "\n",
    "- Смотрим на распределение и определяем надо ли применять лог.\n",
    "- Применяем StandardScaler.\n",
    "- Заменяем все NaN на -1."
   ]
  },
  {
   "cell_type": "code",
   "execution_count": null,
   "id": "a56a7940",
   "metadata": {},
   "outputs": [
    {
     "data": {
      "text/plain": [
       "37"
      ]
     },
     "execution_count": 65,
     "metadata": {},
     "output_type": "execute_result"
    }
   ],
   "source": [
    "len(numeric_cols)"
   ]
  },
  {
   "cell_type": "code",
   "execution_count": null,
   "id": "49eed27e",
   "metadata": {},
   "outputs": [],
   "source": [
    "for col in numeric_cols:\n",
    "    train_neg = (train[col] < 0).sum()\n",
    "    test_neg = (test[col] < 0).sum()\n",
    "    assert train_neg == test_neg == 0"
   ]
  },
  {
   "cell_type": "markdown",
   "id": "bcdb17a2",
   "metadata": {},
   "source": [
    "Все значения положительные - значит применять log можем спокойно."
   ]
  },
  {
   "cell_type": "markdown",
   "id": "c60d44eb",
   "metadata": {},
   "source": [
    "### Последовательно смотрим на каждую колонку"
   ]
  },
  {
   "cell_type": "code",
   "execution_count": null,
   "id": "7ba478b1",
   "metadata": {},
   "outputs": [
    {
     "name": "stdout",
     "output_type": "stream",
     "text": [
      "Mean: 0.06\n",
      "Median: 0.00\n",
      "Standard Deviation: 1.20\n",
      "Missing Values: 0\n",
      "Percentage of NaN: 0.00%\n"
     ]
    },
    {
     "data": {
      "image/png": "[encoded data removed]",
      "text/plain": [
       "<Figure size 1200x600 with 2 Axes>"
      ]
     },
     "metadata": {},
     "output_type": "display_data"
    }
   ],
   "source": [
    "col_name = \"item_count_fake_returns90\"\n",
    "\n",
    "analyze_numeric_series(train[col_name], bins=50)"
   ]
  },
  {
   "cell_type": "code",
   "execution_count": null,
   "id": "3c539a40",
   "metadata": {},
   "outputs": [
    {
     "name": "stdout",
     "output_type": "stream",
     "text": [
      "\n",
      "    Class for numeric column preprocessing:\n",
      "\n",
      "    - Apply np.log1p if required\n",
      "    - Apply StandardScaler\n",
      "    - Fill missing values\n",
      "\n",
      "    Args:\n",
      "        col_name (str): The name of the column to encode.\n",
      "        apply_log (bool): Whether to apply np.log1p to the column.\n",
      "        filling_value (float): The value to use for filling missing values.\n",
      "    \n"
     ]
    }
   ],
   "source": [
    "print(prep.NumericEncoder.__doc__)"
   ]
  },
  {
   "cell_type": "code",
   "execution_count": null,
   "id": "06f1e067",
   "metadata": {},
   "outputs": [
    {
     "data": {
      "text/plain": [
       "(array([6.04623352]), array([1.28401623]))"
      ]
     },
     "execution_count": 194,
     "metadata": {},
     "output_type": "execute_result"
    }
   ],
   "source": [
    "ne = prep.NumericEncoder(col_name=col_name, apply_log=True)\n",
    "ne.fit(train)\n",
    "\n",
    "ne._scaler.mean_, ne._scaler.scale_"
   ]
  },
  {
   "cell_type": "code",
   "execution_count": null,
   "id": "4ea82a98",
   "metadata": {},
   "outputs": [
    {
     "name": "stdout",
     "output_type": "stream",
     "text": [
      "seller_time_alive\n"
     ]
    }
   ],
   "source": [
    "transformed_train = ne.transform(train)\n",
    "for c in transformed_train.columns:\n",
    "    if c.startswith(col_name):\n",
    "        print(c)"
   ]
  },
  {
   "cell_type": "code",
   "execution_count": null,
   "id": "4e35b55c",
   "metadata": {},
   "outputs": [
    {
     "name": "stdout",
     "output_type": "stream",
     "text": [
      "Stats Without -1\n",
      "Mean: 0.00\n",
      "Median: 0.28\n",
      "Standard Deviation: 1.00\n",
      "Missing Values: 0\n",
      "Percentage of NaN: 0.00%\n"
     ]
    },
    {
     "data": {
      "image/png": "[encoded data removed]",
      "text/plain": [
       "<Figure size 1200x600 with 2 Axes>"
      ]
     },
     "metadata": {},
     "output_type": "display_data"
    }
   ],
   "source": [
    "analyze_numeric_series(transformed_train[col_name], after_transform=True, bins=50)"
   ]
  }
 ],
 "metadata": {
  "kernelspec": {
   "display_name": "ozon-e-cup",
   "language": "python",
   "name": "python3"
  },
  "language_info": {
   "codemirror_mode": {
    "name": "ipython",
    "version": 3
   },
   "file_extension": ".py",
   "mimetype": "text/x-python",
   "name": "python",
   "nbconvert_exporter": "python",
   "pygments_lexer": "ipython3",
   "version": "3.12.11"
  }
 },
 "nbformat": 4,
 "nbformat_minor": 5
}
