{
 "cells": [
  {
   "cell_type": "markdown",
   "id": "7e24fbb9",
   "metadata": {},
   "source": [
    "# Пример создания текстовых фичей"
   ]
  },
  {
   "cell_type": "code",
   "execution_count": 1,
   "id": "a4450c37",
   "metadata": {},
   "outputs": [
    {
     "name": "stdout",
     "output_type": "stream",
     "text": [
      "Train shape: (197198, 44)\n",
      "Test shape: (22760, 43)\n",
      "Target distribution in train:\n",
      "resolution\n",
      "0    184146\n",
      "1     13052\n",
      "Name: count, dtype: int64\n",
      "\n",
      "Generating features for training set...\n",
      "Training features shape: (197198, 2025)\n",
      "Sample of training features (first 5 rows, first 10 columns):\n",
      "        is_none_brand_name  is_none_description  is_none_name_rus  \\\n",
      "id                                                                  \n",
      "159385                   0                    0                 0   \n",
      "288616                   0                    0                 0   \n",
      "108090                   0                    0                 0   \n",
      "415607                   1                    0                 0   \n",
      "332391                   1                    0                 0   \n",
      "\n",
      "        is_none_CommercialTypeName4  has_url  has_phone  has_messenger  \\\n",
      "id                                                                       \n",
      "159385                            0      0.0        0.0            0.0   \n",
      "288616                            0      0.0        0.0            0.0   \n",
      "108090                            0      0.0        0.0            0.0   \n",
      "415607                            0      0.0        0.0            0.0   \n",
      "332391                            0      0.0        0.0            0.0   \n",
      "\n",
      "        has_sku  desc_len_chars  desc_len_words  \n",
      "id                                               \n",
      "159385      1.0           886.0           100.0  \n",
      "288616      0.0           386.0            53.0  \n",
      "108090      0.0           200.0            33.0  \n",
      "415607      0.0           557.0            67.0  \n",
      "332391      0.0           540.0            70.0  \n",
      "\n"
     ]
    }
   ],
   "source": [
    "import pandas as pd\n",
    "from text_features import create_all_text_features\n",
    "\n",
    "# Load datasets\n",
    "df_train = pd.read_csv(r'data\\ml_ozon_сounterfeit_train.csv', index_col=0)\n",
    "df_test = pd.read_csv(r'data\\ml_ozon_сounterfeit_test.csv', index_col=0)\n",
    "\n",
    "# Print dataset shapes and target distribution\n",
    "print(f\"Train shape: {df_train.shape}\")\n",
    "print(f\"Test shape: {df_test.shape}\")\n",
    "print(\"Target distribution in train:\")\n",
    "print(df_train['resolution'].value_counts())\n",
    "print()\n",
    "\n",
    "# Generate features for training set\n",
    "print(\"Generating features for training set...\")\n",
    "all_features_train, char_vectorizer, word_vectorizer = create_all_text_features(\n",
    "    df=df_train,\n",
    "    mode='train',\n",
    "    max_tfidf_features=1000,\n",
    "    char_ngram_range=(3, 5),\n",
    "    word_ngram_range=(1, 3)\n",
    ")\n",
    "\n",
    "# Print training features info\n",
    "print(f\"Training features shape: {all_features_train.shape}\")\n",
    "print(\"Sample of training features (first 5 rows, first 10 columns):\")\n",
    "print(all_features_train.iloc[:, :10].head())\n",
    "print()\n"
   ]
  },
  {
   "cell_type": "code",
   "execution_count": 2,
   "id": "f1d134e2",
   "metadata": {},
   "outputs": [
    {
     "name": "stdout",
     "output_type": "stream",
     "text": [
      "Generating features for test set...\n",
      "Test features shape: (22760, 2025)\n",
      "Sample of test features (first 5 rows, first 10 columns):\n",
      "        is_none_brand_name  is_none_description  is_none_name_rus  \\\n",
      "id                                                                  \n",
      "17384                    1                    0                 0   \n",
      "260316                   0                    0                 0   \n",
      "10610                    0                    0                 0   \n",
      "205236                   0                    0                 0   \n",
      "308655                   0                    0                 0   \n",
      "\n",
      "        is_none_CommercialTypeName4  has_url  has_phone  has_messenger  \\\n",
      "id                                                                       \n",
      "17384                             0      0.0        0.0            0.0   \n",
      "260316                            0      0.0        0.0            0.0   \n",
      "10610                             0      0.0        0.0            0.0   \n",
      "205236                            0      0.0        0.0            0.0   \n",
      "308655                            0      0.0        0.0            0.0   \n",
      "\n",
      "        has_sku  desc_len_chars  desc_len_words  \n",
      "id                                               \n",
      "17384       0.0           512.0            73.0  \n",
      "260316      1.0           505.0            59.0  \n",
      "10610       1.0           354.0            42.0  \n",
      "205236      1.0           564.0            73.0  \n",
      "308655      0.0           401.0            51.0  \n",
      "\n"
     ]
    }
   ],
   "source": [
    "# Generate features for test set using fitted vectorizers\n",
    "print(\"Generating features for test set...\")\n",
    "all_features_test, _, _ = create_all_text_features(\n",
    "    df=df_test,\n",
    "    mode='test',\n",
    "    max_tfidf_features=1000,\n",
    "    char_ngram_range=(3, 5),\n",
    "    word_ngram_range=(1, 3),\n",
    "    tfidf_char_vectorizer=char_vectorizer,\n",
    "    tfidf_word_vectorizer=word_vectorizer\n",
    ")\n",
    "\n",
    "# Print test features info\n",
    "print(f\"Test features shape: {all_features_test.shape}\")\n",
    "print(\"Sample of test features (first 5 rows, first 10 columns):\")\n",
    "print(all_features_test.iloc[:, :10].head())\n",
    "print()"
   ]
  }
 ],
 "metadata": {
  "kernelspec": {
   "display_name": ".venv",
   "language": "python",
   "name": "python3"
  },
  "language_info": {
   "codemirror_mode": {
    "name": "ipython",
    "version": 3
   },
   "file_extension": ".py",
   "mimetype": "text/x-python",
   "name": "python",
   "nbconvert_exporter": "python",
   "pygments_lexer": "ipython3",
   "version": "3.11.2"
  }
 },
 "nbformat": 4,
 "nbformat_minor": 5
}
