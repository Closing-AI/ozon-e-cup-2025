{
 "cells": [
  {
   "cell_type": "code",
   "execution_count": 1,
   "id": "7b861784",
   "metadata": {},
   "outputs": [],
   "source": [
    "%reload_ext autoreload\n",
    "%autoreload 2"
   ]
  },
  {
   "cell_type": "code",
   "execution_count": 2,
   "id": "2e9777fd",
   "metadata": {},
   "outputs": [
    {
     "name": "stdout",
     "output_type": "stream",
     "text": [
      "/home/den/dev/git/ozon-e-cup-2025\n"
     ]
    }
   ],
   "source": [
    "%cd .."
   ]
  },
  {
   "cell_type": "code",
   "execution_count": null,
   "id": "da309bd3",
   "metadata": {},
   "outputs": [],
   "source": [
    "import pandas as pd\n",
    "from sklearn.pipeline import Pipeline\n",
    "\n",
    "import src.preprocessing as prep"
   ]
  },
  {
   "cell_type": "code",
   "execution_count": null,
   "id": "0820d254",
   "metadata": {},
   "outputs": [],
   "source": [
    "train = pd.read_csv(\"data/1__train_with_flags.csv\")\n",
    "test = pd.read_csv(\"data/1__test_with_flags.csv\")"
   ]
  },
  {
   "cell_type": "markdown",
   "id": "039229bd",
   "metadata": {},
   "source": [
    "# Numeric features preprocessing"
   ]
  },
  {
   "cell_type": "code",
   "execution_count": null,
   "id": "75f70857",
   "metadata": {},
   "outputs": [
    {
     "name": "stdout",
     "output_type": "stream",
     "text": [
      "[Pipeline] ... (step 1 of 37) Processing rating_1_count, total=   0.1s\n",
      "[Pipeline] ... (step 2 of 37) Processing rating_2_count, total=   0.4s\n",
      "[Pipeline] ... (step 3 of 37) Processing rating_3_count, total=   0.1s\n",
      "[Pipeline] ... (step 4 of 37) Processing rating_4_count, total=   0.2s\n",
      "[Pipeline] ... (step 5 of 37) Processing rating_5_count, total=   0.1s\n",
      "[Pipeline]  (step 6 of 37) Processing comments_published_count, total=   0.1s\n",
      "[Pipeline]  (step 7 of 37) Processing photos_published_count, total=   0.1s\n",
      "[Pipeline]  (step 8 of 37) Processing videos_published_count, total=   0.1s\n",
      "[Pipeline] .. (step 9 of 37) Processing PriceDiscounted, total=   0.1s\n",
      "[Pipeline] . (step 10 of 37) Processing item_time_alive, total=   0.1s\n",
      "[Pipeline]  (step 11 of 37) Processing item_count_fake_returns7, total=   0.1s\n",
      "[Pipeline]  (step 12 of 37) Processing item_count_fake_returns30, total=   0.1s\n",
      "[Pipeline]  (step 13 of 37) Processing item_count_fake_returns90, total=   0.2s\n",
      "[Pipeline]  (step 14 of 37) Processing item_count_sales7, total=   0.1s\n",
      "[Pipeline]  (step 15 of 37) Processing item_count_sales30, total=   0.2s\n",
      "[Pipeline]  (step 16 of 37) Processing item_count_sales90, total=   0.2s\n",
      "[Pipeline]  (step 17 of 37) Processing item_count_returns7, total=   0.2s\n",
      "[Pipeline]  (step 18 of 37) Processing item_count_returns30, total=   0.2s\n",
      "[Pipeline]  (step 19 of 37) Processing item_count_returns90, total=   0.1s\n",
      "[Pipeline] ....... (step 20 of 37) Processing GmvTotal7, total=   0.1s\n",
      "[Pipeline] ...... (step 21 of 37) Processing GmvTotal30, total=   0.1s\n",
      "[Pipeline] ...... (step 22 of 37) Processing GmvTotal90, total=   0.1s\n",
      "[Pipeline]  (step 23 of 37) Processing ExemplarAcceptedCountTotal7, total=   0.1s\n",
      "[Pipeline]  (step 24 of 37) Processing ExemplarAcceptedCountTotal30, total=   0.1s\n",
      "[Pipeline]  (step 25 of 37) Processing ExemplarAcceptedCountTotal90, total=   0.1s\n",
      "[Pipeline]  (step 26 of 37) Processing OrderAcceptedCountTotal7, total=   0.1s\n",
      "[Pipeline]  (step 27 of 37) Processing OrderAcceptedCountTotal30, total=   0.1s\n",
      "[Pipeline]  (step 28 of 37) Processing OrderAcceptedCountTotal90, total=   0.1s\n",
      "[Pipeline]  (step 29 of 37) Processing ExemplarReturnedCountTotal7, total=   0.1s\n",
      "[Pipeline]  (step 30 of 37) Processing ExemplarReturnedCountTotal30, total=   0.1s\n",
      "[Pipeline]  (step 31 of 37) Processing ExemplarReturnedCountTotal90, total=   0.1s\n",
      "[Pipeline]  (step 32 of 37) Processing ExemplarReturnedValueTotal7, total=   0.1s\n",
      "[Pipeline]  (step 33 of 37) Processing ExemplarReturnedValueTotal30, total=   0.1s\n",
      "[Pipeline]  (step 34 of 37) Processing ExemplarReturnedValueTotal90, total=   0.1s\n",
      "[Pipeline]  (step 35 of 37) Processing ItemVarietyCount, total=   0.1s\n",
      "[Pipeline]  (step 36 of 37) Processing ItemAvailableCount, total=   0.1s\n",
      "[Pipeline]  (step 37 of 37) Processing seller_time_alive, total=   0.1s\n"
     ]
    }
   ],
   "source": [
    "num_prep_pipe = prep.NUMERIC_PREP_PIPELINE\n",
    "num_prep_pipe = num_prep_pipe.fit(train)"
   ]
  },
  {
   "cell_type": "code",
   "execution_count": null,
   "id": "7a859b2e",
   "metadata": {},
   "outputs": [
    {
     "name": "stderr",
     "output_type": "stream",
     "text": [
      "/home/den/miniconda3/envs/ozon-e-cup/lib/python3.12/site-packages/sklearn/pipeline.py:61: FutureWarning: This Pipeline instance is not fitted yet. Call 'fit' with appropriate arguments before using other methods such as transform, predict, etc. This will raise an error in 1.8 instead of the current warning.\n",
      "  warnings.warn(\n",
      "/home/den/miniconda3/envs/ozon-e-cup/lib/python3.12/site-packages/sklearn/pipeline.py:61: FutureWarning: This Pipeline instance is not fitted yet. Call 'fit' with appropriate arguments before using other methods such as transform, predict, etc. This will raise an error in 1.8 instead of the current warning.\n",
      "  warnings.warn(\n"
     ]
    }
   ],
   "source": [
    "transformed_train = num_prep_pipe.transform(train, is_train=True)\n",
    "transformed_test = num_prep_pipe.transform(test, is_train=False)"
   ]
  },
  {
   "cell_type": "code",
   "execution_count": null,
   "id": "e7055dd7",
   "metadata": {},
   "outputs": [
    {
     "data": {
      "text/plain": [
       "(0, np.int64(0), 0.0005730281240174849, 113)"
      ]
     },
     "execution_count": 19,
     "metadata": {},
     "output_type": "execute_result"
    }
   ],
   "source": [
    "train[train[\"PriceDiscounted\"] < 0].shape[0], train.PriceDiscounted.isna().sum(), transformed_train[\n",
    "    transformed_train[\"PriceDiscounted\"] == -1\n",
    "].shape[0] / train.shape[0], transformed_train[transformed_train[\"PriceDiscounted\"] == -1].shape[0]"
   ]
  },
  {
   "cell_type": "code",
   "execution_count": null,
   "id": "9e222c1d",
   "metadata": {},
   "outputs": [
    {
     "data": {
      "text/plain": [
       "(0, np.int64(3), 0.00013181019332161688, 3)"
      ]
     },
     "execution_count": 20,
     "metadata": {},
     "output_type": "execute_result"
    }
   ],
   "source": [
    "test[test[\"PriceDiscounted\"] < 0].shape[0], test.PriceDiscounted.isna().sum(), transformed_test[\n",
    "    transformed_test[\"PriceDiscounted\"] == -1\n",
    "].shape[0] / test.shape[0], transformed_test[transformed_test[\"PriceDiscounted\"] == -1].shape[0]"
   ]
  },
  {
   "cell_type": "markdown",
   "id": "9edab5db",
   "metadata": {},
   "source": [
    "# Categorical features preprocessing"
   ]
  },
  {
   "cell_type": "code",
   "execution_count": null,
   "id": "3aa7bea5",
   "metadata": {},
   "outputs": [],
   "source": [
    "# Переведем SellerID в строку (надо для корректной работы Categorical трансформа)\n",
    "train[\"SellerID\"] = train[\"SellerID\"].astype(str)\n",
    "test[\"SellerID\"] = test[\"SellerID\"].astype(str)"
   ]
  },
  {
   "cell_type": "code",
   "execution_count": null,
   "id": "7a3b7086",
   "metadata": {},
   "outputs": [
    {
     "name": "stdout",
     "output_type": "stream",
     "text": [
      "[Pipeline] ........ (step 1 of 3) Processing brand_name, total=   0.5s\n",
      "[Pipeline]  (step 2 of 3) Processing CommercialTypeName4, total=   0.5s\n",
      "[Pipeline] .......... (step 3 of 3) Processing SellerID, total=   0.2s\n"
     ]
    }
   ],
   "source": [
    "cat_prep_pipe = prep.CATEGORIAL_PREP_PIPELINE\n",
    "cat_prep_pipe = cat_prep_pipe.fit(train)"
   ]
  },
  {
   "cell_type": "code",
   "execution_count": null,
   "id": "da186a8d",
   "metadata": {},
   "outputs": [
    {
     "data": {
      "text/html": [
       "<div>\n",
       "<style scoped>\n",
       "    .dataframe tbody tr th:only-of-type {\n",
       "        vertical-align: middle;\n",
       "    }\n",
       "\n",
       "    .dataframe tbody tr th {\n",
       "        vertical-align: top;\n",
       "    }\n",
       "\n",
       "    .dataframe thead th {\n",
       "        text-align: right;\n",
       "    }\n",
       "</style>\n",
       "<table border=\"1\" class=\"dataframe\">\n",
       "  <thead>\n",
       "    <tr style=\"text-align: right;\">\n",
       "      <th></th>\n",
       "      <th>id</th>\n",
       "      <th>resolution</th>\n",
       "      <th>description</th>\n",
       "      <th>name_rus</th>\n",
       "      <th>rating_1_count</th>\n",
       "      <th>rating_2_count</th>\n",
       "      <th>rating_3_count</th>\n",
       "      <th>rating_4_count</th>\n",
       "      <th>rating_5_count</th>\n",
       "      <th>comments_published_count</th>\n",
       "      <th>...</th>\n",
       "      <th>SellerID_4</th>\n",
       "      <th>SellerID_5</th>\n",
       "      <th>SellerID_6</th>\n",
       "      <th>SellerID_7</th>\n",
       "      <th>SellerID_8</th>\n",
       "      <th>SellerID_9</th>\n",
       "      <th>SellerID_10</th>\n",
       "      <th>SellerID_11</th>\n",
       "      <th>SellerID_12</th>\n",
       "      <th>SellerID_13</th>\n",
       "    </tr>\n",
       "  </thead>\n",
       "  <tbody>\n",
       "    <tr>\n",
       "      <th>0</th>\n",
       "      <td>159385</td>\n",
       "      <td>0</td>\n",
       "      <td>Мешки пылесборники для пылесоса PHILIPS, 10 шт...</td>\n",
       "      <td>Мешки для пылесоса PHILIPS TRIATLON, синтетиче...</td>\n",
       "      <td>6.0</td>\n",
       "      <td>4.0</td>\n",
       "      <td>4.0</td>\n",
       "      <td>3.0</td>\n",
       "      <td>32.0</td>\n",
       "      <td>3.0</td>\n",
       "      <td>...</td>\n",
       "      <td>0</td>\n",
       "      <td>0</td>\n",
       "      <td>0</td>\n",
       "      <td>0</td>\n",
       "      <td>0</td>\n",
       "      <td>0</td>\n",
       "      <td>0</td>\n",
       "      <td>0</td>\n",
       "      <td>0</td>\n",
       "      <td>1</td>\n",
       "    </tr>\n",
       "    <tr>\n",
       "      <th>1</th>\n",
       "      <td>288616</td>\n",
       "      <td>0</td>\n",
       "      <td>Защитная силиконовая крышка обьектива GoPro He...</td>\n",
       "      <td>Защитная крышка Redline на экшн-камеру GoPro (...</td>\n",
       "      <td>NaN</td>\n",
       "      <td>NaN</td>\n",
       "      <td>NaN</td>\n",
       "      <td>NaN</td>\n",
       "      <td>NaN</td>\n",
       "      <td>NaN</td>\n",
       "      <td>...</td>\n",
       "      <td>0</td>\n",
       "      <td>0</td>\n",
       "      <td>0</td>\n",
       "      <td>0</td>\n",
       "      <td>0</td>\n",
       "      <td>0</td>\n",
       "      <td>0</td>\n",
       "      <td>0</td>\n",
       "      <td>1</td>\n",
       "      <td>0</td>\n",
       "    </tr>\n",
       "    <tr>\n",
       "      <th>2</th>\n",
       "      <td>108090</td>\n",
       "      <td>0</td>\n",
       "      <td>Плоский медиатор из кости толщиной 0.6 мм&lt;br/&gt;...</td>\n",
       "      <td>Медиатор для гитары Acura GP-PB6</td>\n",
       "      <td>0.0</td>\n",
       "      <td>0.0</td>\n",
       "      <td>1.0</td>\n",
       "      <td>0.0</td>\n",
       "      <td>1.0</td>\n",
       "      <td>0.0</td>\n",
       "      <td>...</td>\n",
       "      <td>0</td>\n",
       "      <td>0</td>\n",
       "      <td>0</td>\n",
       "      <td>0</td>\n",
       "      <td>0</td>\n",
       "      <td>0</td>\n",
       "      <td>0</td>\n",
       "      <td>0</td>\n",
       "      <td>1</td>\n",
       "      <td>1</td>\n",
       "    </tr>\n",
       "  </tbody>\n",
       "</table>\n",
       "<p>3 rows × 81 columns</p>\n",
       "</div>"
      ],
      "text/plain": [
       "       id  resolution                                        description  \\\n",
       "0  159385           0  Мешки пылесборники для пылесоса PHILIPS, 10 шт...   \n",
       "1  288616           0  Защитная силиконовая крышка обьектива GoPro He...   \n",
       "2  108090           0  Плоский медиатор из кости толщиной 0.6 мм<br/>...   \n",
       "\n",
       "                                            name_rus  rating_1_count  \\\n",
       "0  Мешки для пылесоса PHILIPS TRIATLON, синтетиче...             6.0   \n",
       "1  Защитная крышка Redline на экшн-камеру GoPro (...             NaN   \n",
       "2                   Медиатор для гитары Acura GP-PB6             0.0   \n",
       "\n",
       "   rating_2_count  rating_3_count  rating_4_count  rating_5_count  \\\n",
       "0             4.0             4.0             3.0            32.0   \n",
       "1             NaN             NaN             NaN             NaN   \n",
       "2             0.0             1.0             0.0             1.0   \n",
       "\n",
       "   comments_published_count  ...  SellerID_4  SellerID_5  SellerID_6  \\\n",
       "0                       3.0  ...           0           0           0   \n",
       "1                       NaN  ...           0           0           0   \n",
       "2                       0.0  ...           0           0           0   \n",
       "\n",
       "   SellerID_7  SellerID_8  SellerID_9  SellerID_10  SellerID_11  SellerID_12  \\\n",
       "0           0           0           0            0            0            0   \n",
       "1           0           0           0            0            0            1   \n",
       "2           0           0           0            0            0            1   \n",
       "\n",
       "   SellerID_13  \n",
       "0            1  \n",
       "1            0  \n",
       "2            1  \n",
       "\n",
       "[3 rows x 81 columns]"
      ]
     },
     "execution_count": 23,
     "metadata": {},
     "output_type": "execute_result"
    }
   ],
   "source": [
    "transformed_train = cat_prep_pipe.transform(train)\n",
    "transformed_train.head(3)"
   ]
  }
 ],
 "metadata": {
  "kernelspec": {
   "display_name": "ozon-e-cup",
   "language": "python",
   "name": "python3"
  },
  "language_info": {
   "codemirror_mode": {
    "name": "ipython",
    "version": 3
   },
   "file_extension": ".py",
   "mimetype": "text/x-python",
   "name": "python",
   "nbconvert_exporter": "python",
   "pygments_lexer": "ipython3",
   "version": "3.12.11"
  }
 },
 "nbformat": 4,
 "nbformat_minor": 5
}
