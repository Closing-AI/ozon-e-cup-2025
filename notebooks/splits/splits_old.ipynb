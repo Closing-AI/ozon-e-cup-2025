{
 "cells": [
  {
   "cell_type": "code",
   "execution_count": 1,
   "id": "28f57386",
   "metadata": {},
   "outputs": [
    {
     "name": "stdout",
     "output_type": "stream",
     "text": [
      "/home/den/dev/git/ozon-e-cup-2025\n"
     ]
    }
   ],
   "source": [
    "%cd .."
   ]
  },
  {
   "cell_type": "code",
   "execution_count": null,
   "id": "e015cb30",
   "metadata": {},
   "outputs": [],
   "source": [
    "import numpy as np\n",
    "import pandas as pd\n",
    "from iterstrat.ml_stratifiers import (\n",
    "    MultilabelStratifiedKFold,\n",
    "    MultilabelStratifiedShuffleSplit,\n",
    ")"
   ]
  },
  {
   "cell_type": "code",
   "execution_count": null,
   "id": "9adcc786",
   "metadata": {},
   "outputs": [],
   "source": [
    "# Utils\n",
    "\n",
    "\n",
    "def unique_value_counts(df, column):\n",
    "    \"\"\"\n",
    "    Returns a DataFrame with unique values in the column, their counts, and percentage ratios.\n",
    "    \"\"\"\n",
    "    counts = df[column].value_counts(dropna=False)\n",
    "    percentages = counts / len(df) * 100\n",
    "    result = pd.DataFrame({\"count\": counts, \"percentage\": percentages})\n",
    "    return result"
   ]
  },
  {
   "cell_type": "code",
   "execution_count": null,
   "id": "daaf4140",
   "metadata": {},
   "outputs": [
    {
     "data": {
      "text/plain": [
       "(197198, 79)"
      ]
     },
     "execution_count": 4,
     "metadata": {},
     "output_type": "execute_result"
    }
   ],
   "source": [
    "train = pd.read_csv(\"data/2__train_with_flags_num_cat.csv\")\n",
    "train.shape"
   ]
  },
  {
   "cell_type": "markdown",
   "id": "4ec14a41",
   "metadata": {},
   "source": [
    "Хотим стратифицировать по\n",
    "\n",
    "- таргету (resolution)\n",
    "- категориальным фичам\n",
    "\n",
    "    - категория товара (CommercialTypeName4)\n",
    "    - название бренда (brand_name)"
   ]
  },
  {
   "cell_type": "code",
   "execution_count": null,
   "id": "b03f2c1e",
   "metadata": {},
   "outputs": [
    {
     "data": {
      "text/html": [
       "<div>\n",
       "<style scoped>\n",
       "    .dataframe tbody tr th:only-of-type {\n",
       "        vertical-align: middle;\n",
       "    }\n",
       "\n",
       "    .dataframe tbody tr th {\n",
       "        vertical-align: top;\n",
       "    }\n",
       "\n",
       "    .dataframe thead th {\n",
       "        text-align: right;\n",
       "    }\n",
       "</style>\n",
       "<table border=\"1\" class=\"dataframe\">\n",
       "  <thead>\n",
       "    <tr style=\"text-align: right;\">\n",
       "      <th></th>\n",
       "      <th>count</th>\n",
       "      <th>percentage</th>\n",
       "    </tr>\n",
       "    <tr>\n",
       "      <th>resolution</th>\n",
       "      <th></th>\n",
       "      <th></th>\n",
       "    </tr>\n",
       "  </thead>\n",
       "  <tbody>\n",
       "    <tr>\n",
       "      <th>0</th>\n",
       "      <td>184146</td>\n",
       "      <td>93.381272</td>\n",
       "    </tr>\n",
       "    <tr>\n",
       "      <th>1</th>\n",
       "      <td>13052</td>\n",
       "      <td>6.618728</td>\n",
       "    </tr>\n",
       "  </tbody>\n",
       "</table>\n",
       "</div>"
      ],
      "text/plain": [
       "             count  percentage\n",
       "resolution                    \n",
       "0           184146   93.381272\n",
       "1            13052    6.618728"
      ]
     },
     "execution_count": 5,
     "metadata": {},
     "output_type": "execute_result"
    }
   ],
   "source": [
    "unique_value_counts(train, \"resolution\")"
   ]
  },
  {
   "cell_type": "code",
   "execution_count": null,
   "id": "7bd97d19",
   "metadata": {},
   "outputs": [
    {
     "data": {
      "text/html": [
       "<div>\n",
       "<style scoped>\n",
       "    .dataframe tbody tr th:only-of-type {\n",
       "        vertical-align: middle;\n",
       "    }\n",
       "\n",
       "    .dataframe tbody tr th {\n",
       "        vertical-align: top;\n",
       "    }\n",
       "\n",
       "    .dataframe thead th {\n",
       "        text-align: right;\n",
       "    }\n",
       "</style>\n",
       "<table border=\"1\" class=\"dataframe\">\n",
       "  <thead>\n",
       "    <tr style=\"text-align: right;\">\n",
       "      <th></th>\n",
       "      <th>count</th>\n",
       "      <th>percentage</th>\n",
       "    </tr>\n",
       "    <tr>\n",
       "      <th>CommercialTypeName4</th>\n",
       "      <th></th>\n",
       "      <th></th>\n",
       "    </tr>\n",
       "  </thead>\n",
       "  <tbody>\n",
       "    <tr>\n",
       "      <th>Дисплеи для телефонов</th>\n",
       "      <td>15002</td>\n",
       "      <td>7.607582</td>\n",
       "    </tr>\n",
       "    <tr>\n",
       "      <th>Аккумулятор для мобильного телефона</th>\n",
       "      <td>11965</td>\n",
       "      <td>6.067506</td>\n",
       "    </tr>\n",
       "    <tr>\n",
       "      <th>Корпуса для телефонов</th>\n",
       "      <td>11960</td>\n",
       "      <td>6.064970</td>\n",
       "    </tr>\n",
       "    <tr>\n",
       "      <th>Запчасти для телевизора</th>\n",
       "      <td>10192</td>\n",
       "      <td>5.168409</td>\n",
       "    </tr>\n",
       "    <tr>\n",
       "      <th>Картридж, чернила, тонер</th>\n",
       "      <td>8570</td>\n",
       "      <td>4.345886</td>\n",
       "    </tr>\n",
       "    <tr>\n",
       "      <th>...</th>\n",
       "      <td>...</td>\n",
       "      <td>...</td>\n",
       "    </tr>\n",
       "    <tr>\n",
       "      <th>Телевизор LG с диагональю экрана до 42,9 дюймов</th>\n",
       "      <td>2</td>\n",
       "      <td>0.001014</td>\n",
       "    </tr>\n",
       "    <tr>\n",
       "      <th>Оригинальное зарядное устройство для игровой приставки, геймпада</th>\n",
       "      <td>1</td>\n",
       "      <td>0.000507</td>\n",
       "    </tr>\n",
       "    <tr>\n",
       "      <th>Умное кольцо, умная визитка</th>\n",
       "      <td>1</td>\n",
       "      <td>0.000507</td>\n",
       "    </tr>\n",
       "    <tr>\n",
       "      <th>Ледогенератор</th>\n",
       "      <td>1</td>\n",
       "      <td>0.000507</td>\n",
       "    </tr>\n",
       "    <tr>\n",
       "      <th>Ионизатор воздуха</th>\n",
       "      <td>1</td>\n",
       "      <td>0.000507</td>\n",
       "    </tr>\n",
       "  </tbody>\n",
       "</table>\n",
       "<p>482 rows × 2 columns</p>\n",
       "</div>"
      ],
      "text/plain": [
       "                                                    count  percentage\n",
       "CommercialTypeName4                                                  \n",
       "Дисплеи для телефонов                               15002    7.607582\n",
       "Аккумулятор для мобильного телефона                 11965    6.067506\n",
       "Корпуса для телефонов                               11960    6.064970\n",
       "Запчасти для телевизора                             10192    5.168409\n",
       "Картридж, чернила, тонер                             8570    4.345886\n",
       "...                                                   ...         ...\n",
       "Телевизор LG с диагональю экрана до 42,9 дюймов         2    0.001014\n",
       "Оригинальное зарядное устройство для игровой пр...      1    0.000507\n",
       "Умное кольцо, умная визитка                             1    0.000507\n",
       "Ледогенератор                                           1    0.000507\n",
       "Ионизатор воздуха                                       1    0.000507\n",
       "\n",
       "[482 rows x 2 columns]"
      ]
     },
     "execution_count": 6,
     "metadata": {},
     "output_type": "execute_result"
    }
   ],
   "source": [
    "unique_value_counts(train, \"CommercialTypeName4\")"
   ]
  },
  {
   "cell_type": "code",
   "execution_count": null,
   "id": "7abf2c8a",
   "metadata": {},
   "outputs": [
    {
     "data": {
      "text/html": [
       "<div>\n",
       "<style scoped>\n",
       "    .dataframe tbody tr th:only-of-type {\n",
       "        vertical-align: middle;\n",
       "    }\n",
       "\n",
       "    .dataframe tbody tr th {\n",
       "        vertical-align: top;\n",
       "    }\n",
       "\n",
       "    .dataframe thead th {\n",
       "        text-align: right;\n",
       "    }\n",
       "</style>\n",
       "<table border=\"1\" class=\"dataframe\">\n",
       "  <thead>\n",
       "    <tr style=\"text-align: right;\">\n",
       "      <th></th>\n",
       "      <th>count</th>\n",
       "      <th>percentage</th>\n",
       "    </tr>\n",
       "    <tr>\n",
       "      <th>brand_name</th>\n",
       "      <th></th>\n",
       "      <th></th>\n",
       "    </tr>\n",
       "  </thead>\n",
       "  <tbody>\n",
       "    <tr>\n",
       "      <th>NaN</th>\n",
       "      <td>80531</td>\n",
       "      <td>40.837635</td>\n",
       "    </tr>\n",
       "    <tr>\n",
       "      <th>&lt;RARE_BRAND_NAME&gt;</th>\n",
       "      <td>7561</td>\n",
       "      <td>3.834217</td>\n",
       "    </tr>\n",
       "    <tr>\n",
       "      <th>iQZiP</th>\n",
       "      <td>6084</td>\n",
       "      <td>3.085224</td>\n",
       "    </tr>\n",
       "    <tr>\n",
       "      <th>ProFDetali</th>\n",
       "      <td>4811</td>\n",
       "      <td>2.439680</td>\n",
       "    </tr>\n",
       "    <tr>\n",
       "      <th>OEM</th>\n",
       "      <td>4275</td>\n",
       "      <td>2.167872</td>\n",
       "    </tr>\n",
       "    <tr>\n",
       "      <th>...</th>\n",
       "      <td>...</td>\n",
       "      <td>...</td>\n",
       "    </tr>\n",
       "    <tr>\n",
       "      <th>Oasis</th>\n",
       "      <td>1</td>\n",
       "      <td>0.000507</td>\n",
       "    </tr>\n",
       "    <tr>\n",
       "      <th>Libhof</th>\n",
       "      <td>1</td>\n",
       "      <td>0.000507</td>\n",
       "    </tr>\n",
       "    <tr>\n",
       "      <th>Yamaha</th>\n",
       "      <td>1</td>\n",
       "      <td>0.000507</td>\n",
       "    </tr>\n",
       "    <tr>\n",
       "      <th>TCL</th>\n",
       "      <td>1</td>\n",
       "      <td>0.000507</td>\n",
       "    </tr>\n",
       "    <tr>\n",
       "      <th>Scarlett</th>\n",
       "      <td>1</td>\n",
       "      <td>0.000507</td>\n",
       "    </tr>\n",
       "  </tbody>\n",
       "</table>\n",
       "<p>921 rows × 2 columns</p>\n",
       "</div>"
      ],
      "text/plain": [
       "                   count  percentage\n",
       "brand_name                          \n",
       "NaN                80531   40.837635\n",
       "<RARE_BRAND_NAME>   7561    3.834217\n",
       "iQZiP               6084    3.085224\n",
       "ProFDetali          4811    2.439680\n",
       "OEM                 4275    2.167872\n",
       "...                  ...         ...\n",
       "Oasis                  1    0.000507\n",
       "Libhof                 1    0.000507\n",
       "Yamaha                 1    0.000507\n",
       "TCL                    1    0.000507\n",
       "Scarlett               1    0.000507\n",
       "\n",
       "[921 rows x 2 columns]"
      ]
     },
     "execution_count": 7,
     "metadata": {},
     "output_type": "execute_result"
    }
   ],
   "source": [
    "unique_value_counts(train, \"brand_name\")"
   ]
  },
  {
   "cell_type": "markdown",
   "id": "3649be7a",
   "metadata": {},
   "source": [
    "Тут конечно категорий много, нам бы хотелось чтобы хотя какая-то часть самых популярных была стратифицированна."
   ]
  },
  {
   "cell_type": "code",
   "execution_count": null,
   "id": "2b00f0b7",
   "metadata": {},
   "outputs": [
    {
     "data": {
      "text/plain": [
       "<Axes: >"
      ]
     },
     "execution_count": 8,
     "metadata": {},
     "output_type": "execute_result"
    },
    {
     "data": {
      "image/png": "[encoded data removed]",
      "text/plain": [
       "<Figure size 640x480 with 1 Axes>"
      ]
     },
     "metadata": {},
     "output_type": "display_data"
    }
   ],
   "source": [
    "train.CommercialTypeName4.value_counts().reset_index().plot()"
   ]
  },
  {
   "cell_type": "code",
   "execution_count": null,
   "id": "fa89c3ba",
   "metadata": {},
   "outputs": [
    {
     "data": {
      "text/plain": [
       "<Axes: >"
      ]
     },
     "execution_count": 9,
     "metadata": {},
     "output_type": "execute_result"
    },
    {
     "data": {
      "image/png": "[encoded data removed]",
      "text/plain": [
       "<Figure size 640x480 with 1 Axes>"
      ]
     },
     "metadata": {},
     "output_type": "display_data"
    }
   ],
   "source": [
    "train.brand_name.value_counts().reset_index().plot()"
   ]
  },
  {
   "cell_type": "markdown",
   "id": "89105c32",
   "metadata": {},
   "source": [
    "# Stratify using iterative-stratification package"
   ]
  },
  {
   "cell_type": "markdown",
   "id": "9ae2593b",
   "metadata": {},
   "source": [
    "Стратифицировать по нескольким колонкам (таргет, категория, бренд) с помощью train_test_split из sklearn не получится, так как они там пытаются разделить совместно, т.е. например чтобы были одинаковые *совместные* ratio у групп (таргет, категория, бренд).\n",
    "\n",
    "А мы же хотим сделать независимую стратификацию. Т.е. нам важно сохранить ratio у (таргет) (категория) (бренд) по-отдельности."
   ]
  },
  {
   "cell_type": "code",
   "execution_count": null,
   "id": "2db16ac5",
   "metadata": {},
   "outputs": [],
   "source": [
    "cols_to_strat = [\"resolution\", \"brand_name_for_strat\", \"CommercialTypeName4_for_strat\"]"
   ]
  },
  {
   "cell_type": "code",
   "execution_count": null,
   "id": "1d5d6521",
   "metadata": {},
   "outputs": [
    {
     "data": {
      "text/plain": [
       "41"
      ]
     },
     "execution_count": 11,
     "metadata": {},
     "output_type": "execute_result"
    }
   ],
   "source": [
    "train[\"CommercialTypeName4_for_strat\"] = train[\"CommercialTypeName4\"].where(\n",
    "    train[\"CommercialTypeName4\"].map(train[\"CommercialTypeName4\"].value_counts()) > 1000, \"<OTHER>\"\n",
    ")\n",
    "\n",
    "train.CommercialTypeName4_for_strat.nunique()"
   ]
  },
  {
   "cell_type": "code",
   "execution_count": null,
   "id": "03b4296e",
   "metadata": {},
   "outputs": [
    {
     "data": {
      "text/plain": [
       "37"
      ]
     },
     "execution_count": 12,
     "metadata": {},
     "output_type": "execute_result"
    }
   ],
   "source": [
    "train[\"brand_name_for_strat\"] = train[\"brand_name\"].where(\n",
    "    train[\"brand_name\"].map(train[\"brand_name\"].value_counts()) > 500, \"<OTHER>\"\n",
    ")\n",
    "\n",
    "train.brand_name_for_strat.nunique()"
   ]
  },
  {
   "cell_type": "code",
   "execution_count": null,
   "id": "af170d28",
   "metadata": {},
   "outputs": [],
   "source": [
    "X = train\n",
    "y = train[cols_to_strat]"
   ]
  },
  {
   "cell_type": "code",
   "execution_count": null,
   "id": "487dda9f",
   "metadata": {},
   "outputs": [],
   "source": [
    "# Тут нельзя указать test_size, так как он будет определяться в зависимости от n_splits\n",
    "# Таким образом, чтобы в итоге каждый объект хоть раз был в тестовой выборке (на любом из фолдов)\n",
    "splitter = MultilabelStratifiedKFold(n_splits=10, shuffle=True, random_state=42)"
   ]
  },
  {
   "cell_type": "code",
   "execution_count": null,
   "id": "2a5e69a5",
   "metadata": {},
   "outputs": [],
   "source": [
    "# Если же хотим фиксированный test_size, то надо использовать MultilabelStratifiedShuffleSplit\n",
    "splitter = MultilabelStratifiedShuffleSplit(n_splits=10, test_size=0.2, random_state=42)"
   ]
  },
  {
   "cell_type": "code",
   "execution_count": null,
   "id": "9d06cdea",
   "metadata": {},
   "outputs": [],
   "source": [
    "splits = []\n",
    "for train_idx, val_idx in splitter.split(X, y):\n",
    "    splits.append((train_idx, val_idx))"
   ]
  },
  {
   "cell_type": "code",
   "execution_count": null,
   "id": "54447459",
   "metadata": {},
   "outputs": [],
   "source": [
    "# Проверка сплитов\n",
    "for train_idx, val_idx in splits:\n",
    "    # Что длины совпадают\n",
    "    train_len = len(train_idx)\n",
    "    val_len = len(val_idx)\n",
    "    assert train_len + val_len == len(train)\n",
    "\n",
    "    # Что индексы не пересекаются\n",
    "    assert set(train_idx).isdisjoint(set(val_idx))\n",
    "\n",
    "    # Что все объекты есть либо в обучающей, либо в валидационной выборке\n",
    "    assert set(train_idx).union(set(val_idx)) == set(range(len(X)))\n",
    "\n",
    "    # Проверим стратификацию по resolution\n",
    "    train_res = train[\"resolution\"].values[train_idx]\n",
    "    val_res = train[\"resolution\"].values[val_idx]\n",
    "    orig_res = train[\"resolution\"].values\n",
    "    assert np.isclose(train_res.mean(), val_res.mean(), orig_res.mean(), atol=1e-4)\n",
    "\n",
    "    # Проверим стратификацию по CommercialTypeName4\n",
    "    train_com = train[\"CommercialTypeName4_for_strat\"].iloc[train_idx]\n",
    "    train_com_dict = {value: count for value, count in train_com.value_counts(normalize=True).items()}\n",
    "    val_com = train[\"CommercialTypeName4_for_strat\"].iloc[val_idx]\n",
    "    val_com_dict = {value: count for value, count in val_com.value_counts(normalize=True).items()}\n",
    "    orig_com = train[\"CommercialTypeName4_for_strat\"]\n",
    "    orig_com_dict = {value: count for value, count in orig_com.value_counts(normalize=True).items()}\n",
    "\n",
    "    for value in orig_com_dict:\n",
    "        assert np.isclose(\n",
    "            train_com_dict.get(value, 0), val_com_dict.get(value, 0), orig_com_dict[value], atol=1e-2\n",
    "        ), f\"Stratification failed for CommercialTypeName4: {value}\"\n",
    "\n",
    "    # Проверим стратификацию по brand_name_for_strat\n",
    "    train_brand = train[\"brand_name_for_strat\"].iloc[train_idx]\n",
    "    train_brand_dict = {value: count for value, count in train_brand.value_counts(normalize=True).items()}\n",
    "    val_brand = train[\"brand_name_for_strat\"].iloc[val_idx]\n",
    "    val_brand_dict = {value: count for value, count in val_brand.value_counts(normalize=True).items()}\n",
    "    orig_brand = train[\"brand_name_for_strat\"]\n",
    "    orig_brand_dict = {value: count for value, count in orig_brand.value_counts(normalize=True).items()}\n",
    "\n",
    "    for value in orig_brand_dict:\n",
    "        assert np.isclose(\n",
    "            train_brand_dict.get(value, 0), val_brand_dict.get(value, 0), orig_brand_dict[value], atol=1e-2\n",
    "        ), f\"Stratification failed for brand_name_for_strat: {value}\""
   ]
  }
 ],
 "metadata": {
  "kernelspec": {
   "display_name": "ozon-e-cup",
   "language": "python",
   "name": "python3"
  },
  "language_info": {
   "codemirror_mode": {
    "name": "ipython",
    "version": 3
   },
   "file_extension": ".py",
   "mimetype": "text/x-python",
   "name": "python",
   "nbconvert_exporter": "python",
   "pygments_lexer": "ipython3",
   "version": "3.12.11"
  }
 },
 "nbformat": 4,
 "nbformat_minor": 5
}
