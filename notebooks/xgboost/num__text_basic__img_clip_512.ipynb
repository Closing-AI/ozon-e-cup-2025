{
 "cells": [
  {
   "cell_type": "code",
   "execution_count": 1,
   "id": "8c4bd101",
   "metadata": {},
   "outputs": [
    {
     "name": "stdout",
     "output_type": "stream",
     "text": [
      "/home/den/dev/git/ozon-e-cup-2025\n"
     ]
    }
   ],
   "source": [
    "%reload_ext autoreload\n",
    "%autoreload 2\n",
    "\n",
    "%cd ../.."
   ]
  },
  {
   "cell_type": "code",
   "execution_count": null,
   "id": "23d8afee",
   "metadata": {},
   "outputs": [
    {
     "data": {
      "text/plain": [
       "4"
      ]
     },
     "execution_count": 2,
     "metadata": {},
     "output_type": "execute_result"
    }
   ],
   "source": [
    "from multiprocessing import cpu_count\n",
    "\n",
    "cpu_count()"
   ]
  },
  {
   "cell_type": "code",
   "execution_count": null,
   "id": "c8f1dc77",
   "metadata": {},
   "outputs": [],
   "source": [
    "import json\n",
    "\n",
    "import numpy as np\n",
    "import optuna\n",
    "import pandas as pd\n",
    "import xgboost as xgb\n",
    "from sklearn.metrics import f1_score\n",
    "from tqdm.auto import tqdm\n",
    "\n",
    "from src.optuna_utils import print_study_results\n",
    "from src.splits import create_stratified_splits"
   ]
  },
  {
   "cell_type": "markdown",
   "id": "d77aa145",
   "metadata": {},
   "source": [
    "# Data preparation"
   ]
  },
  {
   "cell_type": "markdown",
   "id": "18bdca2b",
   "metadata": {},
   "source": [
    "## Img emb"
   ]
  },
  {
   "cell_type": "code",
   "execution_count": null,
   "id": "f647b5cf",
   "metadata": {},
   "outputs": [],
   "source": [
    "train_img_emb = np.load(\"data/clip_image_embs_vit16.npy\")\n",
    "train_img_ids = json.load(open(\"data/clip_image_ids_vit16_ids.json\"))\n",
    "test_img_emb = np.load(\"data/clip_image_embs_vit16_test.npy\")"
   ]
  },
  {
   "cell_type": "code",
   "execution_count": null,
   "id": "91348b75",
   "metadata": {},
   "outputs": [],
   "source": [
    "train_num = pd.read_csv(\"data/2__train_with_flags_num_cat.csv\")\n",
    "test_num = pd.read_csv(\"data/2__test_with_flags_num_cat.csv\")"
   ]
  },
  {
   "cell_type": "code",
   "execution_count": null,
   "id": "e102defe",
   "metadata": {},
   "outputs": [],
   "source": [
    "train_basic_text = pd.read_csv(\"data/X_train_text_features_basic.csv\")\n",
    "test_basic_text = pd.read_csv(\"data/X_test_text_features_basic.csv\")"
   ]
  },
  {
   "cell_type": "code",
   "execution_count": null,
   "id": "eed83400",
   "metadata": {},
   "outputs": [
    {
     "data": {
      "text/plain": [
       "{'id'}"
      ]
     },
     "execution_count": 12,
     "metadata": {},
     "output_type": "execute_result"
    }
   ],
   "source": [
    "set(train_num.columns) & set(train_basic_text.columns)"
   ]
  },
  {
   "cell_type": "code",
   "execution_count": null,
   "id": "79784bdb",
   "metadata": {},
   "outputs": [
    {
     "data": {
      "text/plain": [
       "{'id'}"
      ]
     },
     "execution_count": 13,
     "metadata": {},
     "output_type": "execute_result"
    }
   ],
   "source": [
    "set(test_num.columns) & set(test_basic_text.columns)"
   ]
  },
  {
   "cell_type": "code",
   "execution_count": null,
   "id": "74a0ff22",
   "metadata": {},
   "outputs": [],
   "source": [
    "train = pd.merge(train_num, train_basic_text, on=\"id\", how=\"left\")\n",
    "test = pd.merge(test_num, test_basic_text, on=\"id\", how=\"left\")"
   ]
  },
  {
   "cell_type": "code",
   "execution_count": null,
   "id": "8a3558e6",
   "metadata": {},
   "outputs": [],
   "source": [
    "assert train.shape[0] == train_num.shape[0]\n",
    "assert test.shape[0] == test_num.shape[0]"
   ]
  },
  {
   "cell_type": "code",
   "execution_count": null,
   "id": "ab0be1ae",
   "metadata": {},
   "outputs": [
    {
     "data": {
      "text/plain": [
       "14.108642353662274"
      ]
     },
     "execution_count": 11,
     "metadata": {},
     "output_type": "execute_result"
    }
   ],
   "source": [
    "ratio = (train[\"resolution\"] == 0).sum() / (train[\"resolution\"] == 1).sum()\n",
    "ratio = float(ratio)\n",
    "ratio"
   ]
  },
  {
   "cell_type": "code",
   "execution_count": null,
   "id": "e6541e98",
   "metadata": {},
   "outputs": [],
   "source": [
    "cols_to_drop = [\"description\", \"name_rus\", \"ItemID\", \"SellerID\", \"id\"]\n",
    "train = train.drop(columns=cols_to_drop)\n",
    "\n",
    "test_ids = test[\"id\"]  # нужно для сабмита\n",
    "test = test.drop(columns=cols_to_drop)\n",
    "\n",
    "splits = create_stratified_splits(data=train, n_splits=10)\n",
    "\n",
    "cols_to_drop = [\"brand_name\", \"CommercialTypeName4\"]\n",
    "train = train.drop(columns=cols_to_drop)\n",
    "test = test.drop(columns=cols_to_drop)"
   ]
  },
  {
   "cell_type": "markdown",
   "id": "23d0ddbd",
   "metadata": {},
   "source": [
    "# Find optimal hyper-parameters"
   ]
  },
  {
   "cell_type": "code",
   "execution_count": null,
   "id": "449a73fd",
   "metadata": {},
   "outputs": [],
   "source": [
    "# Common params\n",
    "param = {\n",
    "    \"device\": \"cpu\",  # \"cpu\" or \"cuda\"\n",
    "    \"validate_parameters\": True,\n",
    "    \"objective\": \"binary:logistic\",\n",
    "    \"eval_metric\": \"logloss\",\n",
    "    \"seed\": 42,\n",
    "    \"verbosity\": 0,\n",
    "}"
   ]
  },
  {
   "cell_type": "code",
   "execution_count": null,
   "id": "18dc6ee9",
   "metadata": {},
   "outputs": [],
   "source": [
    "def objective(trial):\n",
    "    study_params = {\n",
    "        \"learning_rate\": trial.suggest_float(\"learning_rate\", 0.1, 0.5),\n",
    "        \"gamma\": trial.suggest_float(\"gamma\", 0, 5),\n",
    "        \"max_depth\": trial.suggest_int(\"max_depth\", 3, 32),\n",
    "        \"min_child_weight\": trial.suggest_int(\"min_child_weight\", 1, 3),\n",
    "        \"subsample\": trial.suggest_float(\"subsample\", 0.5, 1.0),\n",
    "        \"lambda\": trial.suggest_float(\"lambda\", 1e-3, 10.0, log=True),\n",
    "        \"alpha\": trial.suggest_float(\"alpha\", 1e-3, 10.0, log=True),\n",
    "        \"scale_pos_weight\": trial.suggest_categorical(\"scale_pos_weight\", [1, ratio / 2, ratio, ratio * 2]),\n",
    "    }\n",
    "    scores = []\n",
    "\n",
    "    for train_idx, val_idx in tqdm(splits, leave=False, desc=\"Cross-validation\"):\n",
    "        dtrain = xgb.DMatrix(\n",
    "            train.iloc[train_idx].drop(columns=[\"resolution\"]), label=train.iloc[train_idx][\"resolution\"]\n",
    "        )\n",
    "        dval = xgb.DMatrix(train.iloc[val_idx].drop(columns=[\"resolution\"]), label=train.iloc[val_idx][\"resolution\"])\n",
    "\n",
    "        model = xgb.train(\n",
    "            params={**param, **study_params}, dtrain=dtrain, evals=[(dval, \"val\")], early_stopping_rounds=100\n",
    "        )\n",
    "\n",
    "        pred_probas = model.predict(dval, iteration_range=(0, model.best_iteration + 1))\n",
    "        pred_labels = (pred_probas > 0.5).astype(int)\n",
    "\n",
    "        score = f1_score(train.loc[val_idx, \"resolution\"].to_numpy(), pred_labels, average=\"macro\")\n",
    "        scores.append(score)\n",
    "\n",
    "    return sum(scores) / len(scores)"
   ]
  },
  {
   "cell_type": "code",
   "execution_count": null,
   "id": "6214dd2a",
   "metadata": {},
   "outputs": [],
   "source": [
    "study = optuna.create_study(direction=\"maximize\")\n",
    "study.optimize(objective, n_trials=100, n_jobs=-1, show_progress_bar=True)"
   ]
  },
  {
   "cell_type": "code",
   "execution_count": null,
   "id": "f1757b2b",
   "metadata": {},
   "outputs": [],
   "source": [
    "print_study_results(study)"
   ]
  },
  {
   "cell_type": "code",
   "execution_count": null,
   "id": "e9aeb4c2",
   "metadata": {},
   "outputs": [],
   "source": [
    "best_params = {}"
   ]
  },
  {
   "cell_type": "markdown",
   "id": "d439c6ca",
   "metadata": {},
   "source": [
    "# Train model with best hyper-parameters"
   ]
  },
  {
   "cell_type": "code",
   "execution_count": null,
   "id": "cdaaad33",
   "metadata": {},
   "outputs": [],
   "source": [
    "f1_score__best_iteration__test_preds = []\n",
    "\n",
    "for train_idx, val_idx in tqdm(splits, leave=False, desc=\"Cross-validation\"):\n",
    "    dtrain = xgb.DMatrix(train.iloc[train_idx].drop(columns=[\"resolution\"]), label=train.iloc[train_idx][\"resolution\"])\n",
    "    dval = xgb.DMatrix(train.iloc[val_idx].drop(columns=[\"resolution\"]), label=train.iloc[val_idx][\"resolution\"])\n",
    "\n",
    "    model = xgb.train(params={**param, **best_params}, dtrain=dtrain, evals=[(dval, \"val\")], early_stopping_rounds=100)\n",
    "\n",
    "    pred_probas = model.predict(dval, iteration_range=(0, model.best_iteration + 1))\n",
    "    pred_labels = (pred_probas > 0.5).astype(int)\n",
    "\n",
    "    score = f1_score(train.loc[val_idx, \"resolution\"].to_numpy(), pred_labels, average=\"macro\")\n",
    "\n",
    "    f1_score__best_iteration__test_preds.append(\n",
    "        (score, model.best_iteration, model.predict(xgb.DMatrix(test), iteration_range=(0, model.best_iteration + 1)))\n",
    "    )"
   ]
  },
  {
   "cell_type": "code",
   "execution_count": null,
   "id": "e1de80eb",
   "metadata": {},
   "outputs": [],
   "source": [
    "for i, (f1, best_iter, _) in enumerate(f1_score__best_iteration__test_preds):\n",
    "    print(f\"Split: {i}, F1 Score: {f1}, Best Iteration: {best_iter}\")"
   ]
  },
  {
   "cell_type": "code",
   "execution_count": null,
   "id": "c2af6e72",
   "metadata": {},
   "outputs": [],
   "source": [
    "submission = pd.DataFrame(\n",
    "    {\"id\": test_ids, \"prediction\": (f1_score__best_iteration__test_preds[3][2] > 0.5).astype(int)}\n",
    ")\n",
    "submission.to_csv(\"submission.csv\", index=False)"
   ]
  }
 ],
 "metadata": {
  "kernelspec": {
   "display_name": "ozon-e-cup",
   "language": "python",
   "name": "python3"
  },
  "language_info": {
   "codemirror_mode": {
    "name": "ipython",
    "version": 3
   },
   "file_extension": ".py",
   "mimetype": "text/x-python",
   "name": "python",
   "nbconvert_exporter": "python",
   "pygments_lexer": "ipython3",
   "version": "3.12.11"
  }
 },
 "nbformat": 4,
 "nbformat_minor": 5
}
