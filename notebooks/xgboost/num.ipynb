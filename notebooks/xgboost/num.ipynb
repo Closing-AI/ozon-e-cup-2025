{
 "cells": [
  {
   "cell_type": "code",
   "execution_count": 1,
   "id": "e053e16d",
   "metadata": {},
   "outputs": [
    {
     "name": "stdout",
     "output_type": "stream",
     "text": [
      "/home/den/dev/git/ozon-e-cup-2025\n"
     ]
    }
   ],
   "source": [
    "%reload_ext autoreload\n",
    "%autoreload 2\n",
    "\n",
    "%cd ../.."
   ]
  },
  {
   "cell_type": "code",
   "execution_count": null,
   "id": "528efcdb",
   "metadata": {},
   "outputs": [
    {
     "data": {
      "text/plain": [
       "4"
      ]
     },
     "execution_count": 2,
     "metadata": {},
     "output_type": "execute_result"
    }
   ],
   "source": [
    "from multiprocessing import cpu_count\n",
    "\n",
    "cpu_count()"
   ]
  },
  {
   "cell_type": "code",
   "execution_count": null,
   "id": "70804509",
   "metadata": {},
   "outputs": [],
   "source": [
    "import optuna\n",
    "import pandas as pd\n",
    "import xgboost as xgb\n",
    "from IPython.display import clear_output\n",
    "from sklearn.metrics import f1_score\n",
    "from sklearn.model_selection import StratifiedGroupKFold\n",
    "from sklearn.pipeline import Pipeline\n",
    "from tqdm.auto import tqdm\n",
    "\n",
    "import src.preprocessing as prep\n",
    "from src.optuna_utils import print_study_results"
   ]
  },
  {
   "cell_type": "code",
   "execution_count": null,
   "id": "4abbff1c",
   "metadata": {},
   "outputs": [],
   "source": [
    "train = pd.read_csv(\"data/1__train_with_flags.csv\")\n",
    "test = pd.read_csv(\"data/1__test_with_flags.csv\")"
   ]
  },
  {
   "cell_type": "code",
   "execution_count": null,
   "id": "0d558337",
   "metadata": {},
   "outputs": [
    {
     "data": {
      "text/plain": [
       "14.108642353662274"
      ]
     },
     "execution_count": 6,
     "metadata": {},
     "output_type": "execute_result"
    }
   ],
   "source": [
    "ratio = (train[\"resolution\"] == 0).sum() / (train[\"resolution\"] == 1).sum()\n",
    "ratio = float(ratio)\n",
    "ratio"
   ]
  },
  {
   "cell_type": "markdown",
   "id": "aae0d820",
   "metadata": {},
   "source": [
    "# Preparation"
   ]
  },
  {
   "cell_type": "code",
   "execution_count": null,
   "id": "0331a222",
   "metadata": {},
   "outputs": [],
   "source": [
    "# Splitting\n",
    "sgkf = StratifiedGroupKFold(n_splits=10, shuffle=True, random_state=42)\n",
    "splits = []\n",
    "for i, (train_index, test_index) in enumerate(sgkf.split(X=train, y=train[\"resolution\"], groups=train[\"SellerID\"])):\n",
    "    splits.append((train_index, test_index))"
   ]
  },
  {
   "cell_type": "code",
   "execution_count": null,
   "id": "36b59ddb",
   "metadata": {},
   "outputs": [
    {
     "name": "stdout",
     "output_type": "stream",
     "text": [
      "(175745,) (21453,) (89.12% train, 10.88% val)\n",
      "(174918,) (22280,) (88.70% train, 11.30% val)\n",
      "(176593,) (20605,) (89.55% train, 10.45% val)\n",
      "(182218,) (14980,) (92.40% train, 7.60% val)\n",
      "(178868,) (18330,) (90.70% train, 9.30% val)\n",
      "(177635,) (19563,) (90.08% train, 9.92% val)\n",
      "(180594,) (16604,) (91.58% train, 8.42% val)\n",
      "(177695,) (19503,) (90.11% train, 9.89% val)\n",
      "(170263,) (26935,) (86.34% train, 13.66% val)\n",
      "(180253,) (16945,) (91.41% train, 8.59% val)\n"
     ]
    }
   ],
   "source": [
    "for i, j in splits:\n",
    "    total = len(i) + len(j)\n",
    "    print(i.shape, j.shape, f\"({len(i)/total:.2%} train, {len(j)/total:.2%} val)\")"
   ]
  },
  {
   "cell_type": "code",
   "execution_count": null,
   "id": "4f0da36b",
   "metadata": {},
   "outputs": [],
   "source": [
    "# Preprocessing\n",
    "train[\"SellerID\"] = train[\"SellerID\"].astype(\"string\")\n",
    "test[\"SellerID\"] = test[\"SellerID\"].astype(\"string\")\n",
    "\n",
    "cols_to_drop = [\"id\", \"description\", \"name_rus\", \"ItemID\"]\n",
    "train = train.drop(columns=cols_to_drop)\n",
    "\n",
    "test_ids = test[\"id\"]\n",
    "test = test.drop(columns=cols_to_drop)"
   ]
  },
  {
   "cell_type": "code",
   "execution_count": null,
   "id": "b44611ae",
   "metadata": {},
   "outputs": [],
   "source": [
    "# Для ускорения - заранее применим prep_pipe ко всем сплитам\n",
    "prep_splits = []\n",
    "prep_pipes = []\n",
    "for train_ids, val_ids in tqdm(splits, total=len(splits)):\n",
    "    X_train, y_train = train.loc[train_ids].drop(\"resolution\", axis=1), train[\"resolution\"].loc[train_ids]\n",
    "    X_val, y_val = train.loc[val_ids].drop(\"resolution\", axis=1), train[\"resolution\"].loc[val_ids]\n",
    "\n",
    "    prep_pipe = Pipeline(\n",
    "        steps=[\n",
    "            (\"num\", prep.NUMERIC_PREP_PIPELINE),\n",
    "            (\"cat\", prep.CATEGORIAL_PREP_PIPELINE),\n",
    "        ],\n",
    "        verbose=False,\n",
    "    )\n",
    "    prep_pipe.fit(X_train)\n",
    "    prep_pipes.append(prep_pipe)\n",
    "\n",
    "    X_train = prep_pipe.transform(X_train, is_train=True)\n",
    "    X_val = prep_pipe.transform(X_val, is_train=False)\n",
    "\n",
    "    prep_splits.append(((X_train, y_train), (X_val, y_val)))\n",
    "\n",
    "clear_output(wait=False)"
   ]
  },
  {
   "cell_type": "code",
   "execution_count": null,
   "id": "be1b7e24",
   "metadata": {},
   "outputs": [],
   "source": [
    "# Common params\n",
    "param = {\n",
    "    \"device\": \"cpu\",  # \"cpu\" or \"cuda\"\n",
    "    \"validate_parameters\": True,\n",
    "    \"objective\": \"binary:logistic\",\n",
    "    \"eval_metric\": \"logloss\",\n",
    "    \"seed\": 42,\n",
    "    \"verbosity\": 0,\n",
    "}"
   ]
  },
  {
   "cell_type": "markdown",
   "id": "d900f9f9",
   "metadata": {},
   "source": [
    "# Find optimal hyper-parameters"
   ]
  },
  {
   "cell_type": "code",
   "execution_count": null,
   "id": "e7c2349f",
   "metadata": {},
   "outputs": [],
   "source": [
    "def objective(trial):\n",
    "    study_params = {\n",
    "        \"learning_rate\": trial.suggest_float(\"learning_rate\", 0.001, 0.75),\n",
    "        \"gamma\": trial.suggest_float(\"gamma\", 0, 5),\n",
    "        \"max_depth\": trial.suggest_int(\"max_depth\", 3, 32),\n",
    "        \"min_child_weight\": trial.suggest_float(\"min_child_weight\", 0, 5),\n",
    "        \"subsample\": trial.suggest_float(\"subsample\", 0.5, 1.0),\n",
    "        \"lambda\": trial.suggest_float(\"lambda\", 1e-3, 10.0, log=True),\n",
    "        \"alpha\": trial.suggest_float(\"alpha\", 1e-3, 10.0, log=True),\n",
    "        \"scale_pos_weight\": trial.suggest_categorical(\"scale_pos_weight\", [1, ratio / 2, ratio, ratio * 2]),\n",
    "    }\n",
    "    scores = []\n",
    "\n",
    "    for (X_train, y_train), (X_val, y_val) in tqdm(prep_splits, leave=False, desc=\"Cross-validation\"):\n",
    "        dtrain = xgb.DMatrix(X_train, label=y_train)\n",
    "        dval = xgb.DMatrix(X_val, label=y_val)\n",
    "\n",
    "        model = xgb.train(\n",
    "            params={**param, **study_params}, dtrain=dtrain, evals=[(dval, \"val\")], early_stopping_rounds=100\n",
    "        )\n",
    "\n",
    "        pred_probas = model.predict(dval, iteration_range=(0, model.best_iteration + 1))\n",
    "        pred_labels = (pred_probas > 0.5).astype(int)\n",
    "\n",
    "        score = f1_score(y_val, pred_labels, average=\"macro\")\n",
    "        scores.append(score)\n",
    "\n",
    "    return sum(scores) / len(scores)"
   ]
  },
  {
   "cell_type": "code",
   "execution_count": null,
   "id": "efd21616",
   "metadata": {},
   "outputs": [],
   "source": [
    "study = optuna.create_study(direction=\"maximize\")\n",
    "study.optimize(objective, n_trials=5, n_jobs=-1, show_progress_bar=True)"
   ]
  },
  {
   "cell_type": "code",
   "execution_count": null,
   "id": "a7af05c4",
   "metadata": {},
   "outputs": [
    {
     "name": "stdout",
     "output_type": "stream",
     "text": [
      "Study statistics: \n",
      " Number of finished trials: 5\n",
      " Number of pruned trials: 0\n",
      " Number of complete trials: 5\n",
      "Best trial:\n",
      " Value: 0.7293424925252011\n",
      " Params:\n",
      "  learning_rate: 0.25722217273296694\n",
      "  gamma: 2.386996117330141\n",
      "  max_depth: 11\n",
      "  min_child_weight: 1.6538608904056773\n",
      "  subsample: 0.9904351766097355\n",
      "  lambda: 0.0018662189518120168\n",
      "  alpha: 0.0029180230425823327\n",
      "  scale_pos_weight: 7.054321176831137\n"
     ]
    }
   ],
   "source": [
    "print_study_results(study)"
   ]
  },
  {
   "cell_type": "markdown",
   "id": "be921d0b",
   "metadata": {},
   "source": [
    "# Train model with best hyper-parameters"
   ]
  },
  {
   "cell_type": "markdown",
   "id": "22af01b0",
   "metadata": {},
   "source": [
    "Обучу на каждом сплите модель с early stopping-ом и выберу ту, у которой больше всего f1-score на вал сплите - и сниму с неё предсказания для теста."
   ]
  },
  {
   "cell_type": "code",
   "execution_count": null,
   "id": "0630014c",
   "metadata": {},
   "outputs": [
    {
     "data": {
      "application/vnd.jupyter.widget-view+json": {
       "model_id": "ab15cf9f7f704a86a0b590cd6e3b6c92",
       "version_major": 2,
       "version_minor": 0
      },
      "text/plain": [
       "Cross-validation:   0%|          | 0/10 [00:00<?, ?it/s]"
      ]
     },
     "metadata": {},
     "output_type": "display_data"
    },
    {
     "name": "stdout",
     "output_type": "stream",
     "text": [
      "[0]\tval-logloss:0.39534\n",
      "[1]\tval-logloss:0.35043\n",
      "[2]\tval-logloss:0.31497\n",
      "[3]\tval-logloss:0.28811\n",
      "[4]\tval-logloss:0.26788\n",
      "[5]\tval-logloss:0.25431\n",
      "[6]\tval-logloss:0.24449\n",
      "[7]\tval-logloss:0.23982\n",
      "[8]\tval-logloss:0.23697\n",
      "[9]\tval-logloss:0.23150\n",
      "[0]\tval-logloss:0.39865\n",
      "[1]\tval-logloss:0.34727\n",
      "[2]\tval-logloss:0.31674\n",
      "[3]\tval-logloss:0.29222\n",
      "[4]\tval-logloss:0.27334\n",
      "[5]\tval-logloss:0.26324\n",
      "[6]\tval-logloss:0.25138\n",
      "[7]\tval-logloss:0.24501\n",
      "[8]\tval-logloss:0.23185\n",
      "[9]\tval-logloss:0.23047\n",
      "[0]\tval-logloss:0.39615\n",
      "[1]\tval-logloss:0.34894\n",
      "[2]\tval-logloss:0.31733\n",
      "[3]\tval-logloss:0.28768\n",
      "[4]\tval-logloss:0.26677\n",
      "[5]\tval-logloss:0.24879\n",
      "[6]\tval-logloss:0.23204\n",
      "[7]\tval-logloss:0.22538\n",
      "[8]\tval-logloss:0.22142\n",
      "[9]\tval-logloss:0.21794\n",
      "[0]\tval-logloss:0.39578\n",
      "[1]\tval-logloss:0.34746\n",
      "[2]\tval-logloss:0.31588\n",
      "[3]\tval-logloss:0.29571\n",
      "[4]\tval-logloss:0.28017\n",
      "[5]\tval-logloss:0.26518\n",
      "[6]\tval-logloss:0.24928\n",
      "[7]\tval-logloss:0.23717\n",
      "[8]\tval-logloss:0.23001\n",
      "[9]\tval-logloss:0.22087\n",
      "[0]\tval-logloss:0.38747\n",
      "[1]\tval-logloss:0.32910\n",
      "[2]\tval-logloss:0.29890\n",
      "[3]\tval-logloss:0.27123\n",
      "[4]\tval-logloss:0.25087\n",
      "[5]\tval-logloss:0.23177\n",
      "[6]\tval-logloss:0.21962\n",
      "[7]\tval-logloss:0.21314\n",
      "[8]\tval-logloss:0.20527\n",
      "[9]\tval-logloss:0.20157\n",
      "[0]\tval-logloss:0.38640\n",
      "[1]\tval-logloss:0.33407\n",
      "[2]\tval-logloss:0.29455\n",
      "[3]\tval-logloss:0.26881\n",
      "[4]\tval-logloss:0.24731\n",
      "[5]\tval-logloss:0.22965\n",
      "[6]\tval-logloss:0.21918\n",
      "[7]\tval-logloss:0.20496\n",
      "[8]\tval-logloss:0.19633\n",
      "[9]\tval-logloss:0.18787\n",
      "[0]\tval-logloss:0.37580\n",
      "[1]\tval-logloss:0.33544\n",
      "[2]\tval-logloss:0.30503\n",
      "[3]\tval-logloss:0.28279\n",
      "[4]\tval-logloss:0.25851\n",
      "[5]\tval-logloss:0.23840\n",
      "[6]\tval-logloss:0.22099\n",
      "[7]\tval-logloss:0.20823\n",
      "[8]\tval-logloss:0.19934\n",
      "[9]\tval-logloss:0.19366\n",
      "[0]\tval-logloss:0.38631\n",
      "[1]\tval-logloss:0.33643\n",
      "[2]\tval-logloss:0.29858\n",
      "[3]\tval-logloss:0.27495\n",
      "[4]\tval-logloss:0.25516\n",
      "[5]\tval-logloss:0.23954\n",
      "[6]\tval-logloss:0.22582\n",
      "[7]\tval-logloss:0.21538\n",
      "[8]\tval-logloss:0.20181\n",
      "[9]\tval-logloss:0.19339\n",
      "[0]\tval-logloss:0.39129\n",
      "[1]\tval-logloss:0.33098\n",
      "[2]\tval-logloss:0.30082\n",
      "[3]\tval-logloss:0.27097\n",
      "[4]\tval-logloss:0.24663\n",
      "[5]\tval-logloss:0.22618\n",
      "[6]\tval-logloss:0.20748\n",
      "[7]\tval-logloss:0.19579\n",
      "[8]\tval-logloss:0.18254\n",
      "[9]\tval-logloss:0.18401\n",
      "[0]\tval-logloss:0.39889\n",
      "[1]\tval-logloss:0.36976\n",
      "[2]\tval-logloss:0.34668\n",
      "[3]\tval-logloss:0.33425\n",
      "[4]\tval-logloss:0.30216\n",
      "[5]\tval-logloss:0.27857\n",
      "[6]\tval-logloss:0.26094\n",
      "[7]\tval-logloss:0.24903\n",
      "[8]\tval-logloss:0.23933\n",
      "[9]\tval-logloss:0.23055\n"
     ]
    }
   ],
   "source": [
    "f1_score__best_iteration = []\n",
    "\n",
    "for (X_train, y_train), (X_val, y_val) in tqdm(prep_splits, leave=False, desc=\"Cross-validation\"):\n",
    "    dtrain = xgb.DMatrix(X_train, label=y_train)\n",
    "    dval = xgb.DMatrix(X_val, label=y_val)\n",
    "\n",
    "    model = xgb.train(\n",
    "        params={**param, **study.best_params}, dtrain=dtrain, evals=[(dval, \"val\")], early_stopping_rounds=100\n",
    "    )\n",
    "\n",
    "    pred_probas = model.predict(dval, iteration_range=(0, model.best_iteration + 1))\n",
    "    pred_labels = (pred_probas > 0.5).astype(int)\n",
    "\n",
    "    score = f1_score(y_val, pred_labels, average=\"macro\")\n",
    "\n",
    "    f1_score__best_iteration.append((score, model.best_iteration))"
   ]
  },
  {
   "cell_type": "code",
   "execution_count": null,
   "id": "46c33672",
   "metadata": {},
   "outputs": [
    {
     "name": "stdout",
     "output_type": "stream",
     "text": [
      "Split: 0, F1 Score: 0.7109489697681257, Best Iteration: 9\n",
      "Split: 1, F1 Score: 0.6715208910245607, Best Iteration: 9\n",
      "Split: 2, F1 Score: 0.6960800998671216, Best Iteration: 9\n",
      "Split: 3, F1 Score: 0.7173717783760244, Best Iteration: 9\n",
      "Split: 4, F1 Score: 0.7592724950355308, Best Iteration: 9\n",
      "Split: 5, F1 Score: 0.7633646280917197, Best Iteration: 9\n",
      "Split: 6, F1 Score: 0.7472494753582115, Best Iteration: 9\n",
      "Split: 7, F1 Score: 0.7326642285739351, Best Iteration: 9\n",
      "Split: 8, F1 Score: 0.7608696855592645, Best Iteration: 8\n",
      "Split: 9, F1 Score: 0.7340826735975168, Best Iteration: 9\n"
     ]
    }
   ],
   "source": [
    "for i, (f1, best_iter) in enumerate(f1_score__best_iteration):\n",
    "    print(f\"Split: {i}, F1 Score: {f1}, Best Iteration: {best_iter}\")"
   ]
  },
  {
   "cell_type": "code",
   "execution_count": null,
   "id": "e2ac96c0",
   "metadata": {},
   "outputs": [
    {
     "name": "stdout",
     "output_type": "stream",
     "text": [
      "[0]\tval-logloss:0.39578\n",
      "[1]\tval-logloss:0.34746\n",
      "[2]\tval-logloss:0.31588\n",
      "[3]\tval-logloss:0.29571\n",
      "[4]\tval-logloss:0.28017\n",
      "[5]\tval-logloss:0.26518\n",
      "[6]\tval-logloss:0.24928\n",
      "[7]\tval-logloss:0.23717\n",
      "[8]\tval-logloss:0.23001\n",
      "[9]\tval-logloss:0.22087\n"
     ]
    },
    {
     "name": "stderr",
     "output_type": "stream",
     "text": [
      "/home/den/miniconda3/envs/ozon-e-cup/lib/python3.12/site-packages/sklearn/pipeline.py:61: FutureWarning: This Pipeline instance is not fitted yet. Call 'fit' with appropriate arguments before using other methods such as transform, predict, etc. This will raise an error in 1.8 instead of the current warning.\n",
      "  warnings.warn(\n"
     ]
    }
   ],
   "source": [
    "(X_train, y_train), (X_val, y_val) = prep_splits[3]\n",
    "dtrain = xgb.DMatrix(X_train, label=y_train)\n",
    "dval = xgb.DMatrix(X_val, label=y_val)\n",
    "\n",
    "model = xgb.train(\n",
    "    params={**param, **study.best_params}, dtrain=dtrain, evals=[(dval, \"val\")], early_stopping_rounds=100\n",
    ")\n",
    "\n",
    "X_test = prep_pipes[3].transform(test, is_train=False)\n",
    "dtest = xgb.DMatrix(X_test)\n",
    "pred_probas = model.predict(dtest, iteration_range=(0, model.best_iteration + 1))\n",
    "pred_labels = (pred_probas > 0.5).astype(int)"
   ]
  },
  {
   "cell_type": "code",
   "execution_count": null,
   "id": "f0da23c7",
   "metadata": {},
   "outputs": [],
   "source": [
    "submission = pd.DataFrame({\"id\": test_ids, \"prediction\": (pred_labels)})\n",
    "submission.to_csv(\"submission.csv\", index=False)"
   ]
  }
 ],
 "metadata": {
  "kernelspec": {
   "display_name": "ozon-e-cup",
   "language": "python",
   "name": "python3"
  },
  "language_info": {
   "codemirror_mode": {
    "name": "ipython",
    "version": 3
   },
   "file_extension": ".py",
   "mimetype": "text/x-python",
   "name": "python",
   "nbconvert_exporter": "python",
   "pygments_lexer": "ipython3",
   "version": "3.12.11"
  }
 },
 "nbformat": 4,
 "nbformat_minor": 5
}
