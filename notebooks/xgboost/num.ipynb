{
 "cells": [
  {
   "cell_type": "code",
   "execution_count": null,
   "id": "e053e16d",
   "metadata": {},
   "outputs": [
    {
     "name": "stdout",
     "output_type": "stream",
     "text": [
      "/home/den/dev/git/ozon-e-cup-2025\n"
     ]
    }
   ],
   "source": [
    "%reload_ext autoreload\n",
    "%autoreload 2\n",
    "\n",
    "%cd ../.."
   ]
  },
  {
   "cell_type": "code",
   "execution_count": null,
   "id": "528efcdb",
   "metadata": {},
   "outputs": [
    {
     "data": {
      "text/plain": [
       "4"
      ]
     },
     "execution_count": 2,
     "metadata": {},
     "output_type": "execute_result"
    }
   ],
   "source": [
    "from multiprocessing import cpu_count\n",
    "\n",
    "cpu_count()"
   ]
  },
  {
   "cell_type": "code",
   "execution_count": null,
   "id": "70804509",
   "metadata": {},
   "outputs": [],
   "source": [
    "import optuna\n",
    "import pandas as pd\n",
    "import xgboost as xgb\n",
    "from sklearn.metrics import f1_score\n",
    "from tqdm.auto import tqdm\n",
    "\n",
    "from src.optuna_utils import print_study_results\n",
    "from src.splits import create_stratified_splits"
   ]
  },
  {
   "cell_type": "code",
   "execution_count": null,
   "id": "4abbff1c",
   "metadata": {},
   "outputs": [],
   "source": [
    "train = pd.read_csv(\"data/2__train_with_flags_num_cat.csv\")\n",
    "test = pd.read_csv(\"data/2__test_with_flags_num_cat.csv\")"
   ]
  },
  {
   "cell_type": "code",
   "execution_count": null,
   "id": "0d558337",
   "metadata": {},
   "outputs": [
    {
     "data": {
      "text/plain": [
       "14.108642353662274"
      ]
     },
     "execution_count": 5,
     "metadata": {},
     "output_type": "execute_result"
    }
   ],
   "source": [
    "ratio = (train[\"resolution\"] == 0).sum() / (train[\"resolution\"] == 1).sum()\n",
    "ratio = float(ratio)\n",
    "ratio"
   ]
  },
  {
   "cell_type": "code",
   "execution_count": null,
   "id": "ad5af614",
   "metadata": {},
   "outputs": [],
   "source": [
    "# Preprocessing and splitting\n",
    "\n",
    "cols_to_drop = [\"description\", \"name_rus\", \"ItemID\", \"SellerID\", \"id\"]\n",
    "train = train.drop(columns=cols_to_drop)\n",
    "\n",
    "test_ids = test[\"id\"]  # нужно для сабмита\n",
    "test = test.drop(columns=cols_to_drop)\n",
    "\n",
    "splits = create_stratified_splits(data=train, n_splits=10)\n",
    "\n",
    "cols_to_drop = [\"brand_name\", \"CommercialTypeName4\"]\n",
    "train = train.drop(columns=cols_to_drop)\n",
    "test = test.drop(columns=cols_to_drop)"
   ]
  },
  {
   "cell_type": "code",
   "execution_count": null,
   "id": "be1b7e24",
   "metadata": {},
   "outputs": [],
   "source": [
    "# Common params\n",
    "param = {\n",
    "    \"device\": \"cpu\",  # \"cpu\" or \"cuda\"\n",
    "    \"validate_parameters\": True,\n",
    "    \"objective\": \"binary:logistic\",\n",
    "    \"eval_metric\": \"logloss\",\n",
    "    \"seed\": 42,\n",
    "    \"verbosity\": 0,\n",
    "}"
   ]
  },
  {
   "cell_type": "markdown",
   "id": "d900f9f9",
   "metadata": {},
   "source": [
    "# Find optimal hyper-parameters"
   ]
  },
  {
   "cell_type": "code",
   "execution_count": null,
   "id": "e7c2349f",
   "metadata": {},
   "outputs": [],
   "source": [
    "def objective(trial):\n",
    "    study_params = {\n",
    "        \"learning_rate\": trial.suggest_float(\"learning_rate\", 0.1, 0.5),\n",
    "        \"gamma\": trial.suggest_float(\"gamma\", 0, 5),\n",
    "        \"max_depth\": trial.suggest_int(\"max_depth\", 3, 32),\n",
    "        \"min_child_weight\": trial.suggest_int(\"min_child_weight\", 1, 3),\n",
    "        \"subsample\": trial.suggest_float(\"subsample\", 0.5, 1.0),\n",
    "        \"lambda\": trial.suggest_float(\"lambda\", 1e-3, 10.0, log=True),\n",
    "        \"alpha\": trial.suggest_float(\"alpha\", 1e-3, 10.0, log=True),\n",
    "        \"scale_pos_weight\": trial.suggest_categorical(\"scale_pos_weight\", [1, ratio / 2, ratio, ratio * 2]),\n",
    "    }\n",
    "    scores = []\n",
    "\n",
    "    for train_idx, val_idx in tqdm(splits, leave=False, desc=\"Cross-validation\"):\n",
    "        dtrain = xgb.DMatrix(\n",
    "            train.iloc[train_idx].drop(columns=[\"resolution\"]), label=train.iloc[train_idx][\"resolution\"]\n",
    "        )\n",
    "        dval = xgb.DMatrix(train.iloc[val_idx].drop(columns=[\"resolution\"]), label=train.iloc[val_idx][\"resolution\"])\n",
    "\n",
    "        model = xgb.train(\n",
    "            params={**param, **study_params}, dtrain=dtrain, evals=[(dval, \"val\")], early_stopping_rounds=100\n",
    "        )\n",
    "\n",
    "        pred_probas = model.predict(dval, iteration_range=(0, model.best_iteration + 1))\n",
    "        pred_labels = (pred_probas > 0.5).astype(int)\n",
    "\n",
    "        score = f1_score(train.loc[val_idx, \"resolution\"].to_numpy(), pred_labels, average=\"macro\")\n",
    "        scores.append(score)\n",
    "\n",
    "    return sum(scores) / len(scores)"
   ]
  },
  {
   "cell_type": "code",
   "execution_count": null,
   "id": "efd21616",
   "metadata": {},
   "outputs": [],
   "source": [
    "study = optuna.create_study(direction=\"maximize\")\n",
    "study.optimize(objective, n_trials=100, n_jobs=-1, show_progress_bar=True)"
   ]
  },
  {
   "cell_type": "code",
   "execution_count": null,
   "id": "a7af05c4",
   "metadata": {},
   "outputs": [],
   "source": [
    "print_study_results(study)"
   ]
  },
  {
   "cell_type": "code",
   "execution_count": null,
   "id": "e5ff7f38",
   "metadata": {},
   "outputs": [],
   "source": [
    "best_params = {\n",
    "    \"learning_rate\": 0.4147330101591056,\n",
    "    \"gamma\": 0.18627164220069048,\n",
    "    \"max_depth\": 28,\n",
    "    \"min_child_weight\": 2,\n",
    "    \"subsample\": 0.9273606284420032,\n",
    "    \"lambda\": 0.0025309914844835178,\n",
    "    \"alpha\": 0.00896253701574146,\n",
    "    \"scale_pos_weight\": 7.054321176831137,\n",
    "}"
   ]
  },
  {
   "cell_type": "markdown",
   "id": "be921d0b",
   "metadata": {},
   "source": [
    "# Train model with best hyper-parameters"
   ]
  },
  {
   "cell_type": "markdown",
   "id": "22af01b0",
   "metadata": {},
   "source": [
    "Обучу на каждом сплите модель с early stopping-ом и выберу ту, у которой больше всего f1-score на вал сплите - и сниму с неё предсказания для теста."
   ]
  },
  {
   "cell_type": "code",
   "execution_count": null,
   "id": "0630014c",
   "metadata": {},
   "outputs": [
    {
     "data": {
      "application/vnd.jupyter.widget-view+json": {
       "model_id": "139037b7075d4e358319070265815fed",
       "version_major": 2,
       "version_minor": 0
      },
      "text/plain": [
       "Cross-validation:   0%|          | 0/10 [00:00<?, ?it/s]"
      ]
     },
     "metadata": {},
     "output_type": "display_data"
    },
    {
     "name": "stdout",
     "output_type": "stream",
     "text": [
      "[0]\tval-logloss:0.30154\n",
      "[1]\tval-logloss:0.21869\n",
      "[2]\tval-logloss:0.16953\n",
      "[3]\tval-logloss:0.13879\n",
      "[4]\tval-logloss:0.12002\n",
      "[5]\tval-logloss:0.10800\n",
      "[6]\tval-logloss:0.10036\n",
      "[7]\tval-logloss:0.09582\n",
      "[8]\tval-logloss:0.09291\n",
      "[9]\tval-logloss:0.09136\n",
      "[0]\tval-logloss:0.30210\n",
      "[1]\tval-logloss:0.22136\n",
      "[2]\tval-logloss:0.17142\n",
      "[3]\tval-logloss:0.14089\n",
      "[4]\tval-logloss:0.12158\n",
      "[5]\tval-logloss:0.10930\n",
      "[6]\tval-logloss:0.10186\n",
      "[7]\tval-logloss:0.09707\n",
      "[8]\tval-logloss:0.09389\n",
      "[9]\tval-logloss:0.09236\n",
      "[0]\tval-logloss:0.30080\n",
      "[1]\tval-logloss:0.21863\n",
      "[2]\tval-logloss:0.16953\n",
      "[3]\tval-logloss:0.13943\n",
      "[4]\tval-logloss:0.12016\n",
      "[5]\tval-logloss:0.10811\n",
      "[6]\tval-logloss:0.10023\n",
      "[7]\tval-logloss:0.09546\n",
      "[8]\tval-logloss:0.09240\n",
      "[9]\tval-logloss:0.09054\n",
      "[0]\tval-logloss:0.30087\n",
      "[1]\tval-logloss:0.21702\n",
      "[2]\tval-logloss:0.16712\n",
      "[3]\tval-logloss:0.13651\n",
      "[4]\tval-logloss:0.11741\n",
      "[5]\tval-logloss:0.10582\n",
      "[6]\tval-logloss:0.09787\n",
      "[7]\tval-logloss:0.09312\n",
      "[8]\tval-logloss:0.08997\n",
      "[9]\tval-logloss:0.08838\n",
      "[0]\tval-logloss:0.30171\n",
      "[1]\tval-logloss:0.21902\n",
      "[2]\tval-logloss:0.16949\n",
      "[3]\tval-logloss:0.13923\n",
      "[4]\tval-logloss:0.12002\n",
      "[5]\tval-logloss:0.10792\n",
      "[6]\tval-logloss:0.10013\n",
      "[7]\tval-logloss:0.09534\n",
      "[8]\tval-logloss:0.09185\n",
      "[9]\tval-logloss:0.08956\n",
      "[0]\tval-logloss:0.30102\n",
      "[1]\tval-logloss:0.21794\n",
      "[2]\tval-logloss:0.16894\n",
      "[3]\tval-logloss:0.14068\n",
      "[4]\tval-logloss:0.11982\n",
      "[5]\tval-logloss:0.10757\n",
      "[6]\tval-logloss:0.10013\n",
      "[7]\tval-logloss:0.09535\n",
      "[8]\tval-logloss:0.09219\n",
      "[9]\tval-logloss:0.09064\n",
      "[0]\tval-logloss:0.30173\n",
      "[1]\tval-logloss:0.21921\n",
      "[2]\tval-logloss:0.16975\n",
      "[3]\tval-logloss:0.13927\n",
      "[4]\tval-logloss:0.12020\n",
      "[5]\tval-logloss:0.10883\n",
      "[6]\tval-logloss:0.10128\n",
      "[7]\tval-logloss:0.09673\n",
      "[8]\tval-logloss:0.09349\n",
      "[9]\tval-logloss:0.09231\n",
      "[0]\tval-logloss:0.30147\n",
      "[1]\tval-logloss:0.21798\n",
      "[2]\tval-logloss:0.16914\n",
      "[3]\tval-logloss:0.13854\n",
      "[4]\tval-logloss:0.11858\n",
      "[5]\tval-logloss:0.10643\n",
      "[6]\tval-logloss:0.09826\n",
      "[7]\tval-logloss:0.09341\n",
      "[8]\tval-logloss:0.08967\n",
      "[9]\tval-logloss:0.08817\n",
      "[0]\tval-logloss:0.30157\n",
      "[1]\tval-logloss:0.21966\n",
      "[2]\tval-logloss:0.17048\n",
      "[3]\tval-logloss:0.14068\n",
      "[4]\tval-logloss:0.12177\n",
      "[5]\tval-logloss:0.11004\n",
      "[6]\tval-logloss:0.10250\n",
      "[7]\tval-logloss:0.09860\n",
      "[8]\tval-logloss:0.09535\n",
      "[9]\tval-logloss:0.09388\n",
      "[0]\tval-logloss:0.30152\n",
      "[1]\tval-logloss:0.21874\n",
      "[2]\tval-logloss:0.17056\n",
      "[3]\tval-logloss:0.14050\n",
      "[4]\tval-logloss:0.12154\n",
      "[5]\tval-logloss:0.10967\n",
      "[6]\tval-logloss:0.10214\n",
      "[7]\tval-logloss:0.09788\n",
      "[8]\tval-logloss:0.09484\n",
      "[9]\tval-logloss:0.09311\n"
     ]
    }
   ],
   "source": [
    "f1_score__best_iteration__test_preds = []\n",
    "\n",
    "for train_idx, val_idx in tqdm(splits, leave=False, desc=\"Cross-validation\"):\n",
    "    dtrain = xgb.DMatrix(train.iloc[train_idx].drop(columns=[\"resolution\"]), label=train.iloc[train_idx][\"resolution\"])\n",
    "    dval = xgb.DMatrix(train.iloc[val_idx].drop(columns=[\"resolution\"]), label=train.iloc[val_idx][\"resolution\"])\n",
    "\n",
    "    model = xgb.train(params={**param, **best_params}, dtrain=dtrain, evals=[(dval, \"val\")], early_stopping_rounds=100)\n",
    "\n",
    "    pred_probas = model.predict(dval, iteration_range=(0, model.best_iteration + 1))\n",
    "    pred_labels = (pred_probas > 0.5).astype(int)\n",
    "\n",
    "    score = f1_score(train.loc[val_idx, \"resolution\"].to_numpy(), pred_labels, average=\"macro\")\n",
    "\n",
    "    f1_score__best_iteration__test_preds.append(\n",
    "        (score, model.best_iteration, model.predict(xgb.DMatrix(test), iteration_range=(0, model.best_iteration + 1)))\n",
    "    )"
   ]
  },
  {
   "cell_type": "code",
   "execution_count": null,
   "id": "46c33672",
   "metadata": {},
   "outputs": [
    {
     "name": "stdout",
     "output_type": "stream",
     "text": [
      "Split: 0, F1 Score: 0.8762750136747048, Best Iteration: 9\n",
      "Split: 1, F1 Score: 0.8748249657994542, Best Iteration: 9\n",
      "Split: 2, F1 Score: 0.8735877063668296, Best Iteration: 9\n",
      "Split: 3, F1 Score: 0.8817348242680088, Best Iteration: 9\n",
      "Split: 4, F1 Score: 0.8792397925266568, Best Iteration: 9\n",
      "Split: 5, F1 Score: 0.8785231084399906, Best Iteration: 9\n",
      "Split: 6, F1 Score: 0.8743908840663209, Best Iteration: 9\n",
      "Split: 7, F1 Score: 0.8809947515228599, Best Iteration: 9\n",
      "Split: 8, F1 Score: 0.8767075073867432, Best Iteration: 9\n",
      "Split: 9, F1 Score: 0.8756518859262952, Best Iteration: 9\n"
     ]
    }
   ],
   "source": [
    "for i, (f1, best_iter, _) in enumerate(f1_score__best_iteration__test_preds):\n",
    "    print(f\"Split: {i}, F1 Score: {f1}, Best Iteration: {best_iter}\")"
   ]
  },
  {
   "cell_type": "code",
   "execution_count": null,
   "id": "f0da23c7",
   "metadata": {},
   "outputs": [],
   "source": [
    "submission = pd.DataFrame(\n",
    "    {\"id\": test_ids, \"prediction\": (f1_score__best_iteration__test_preds[3][2] > 0.5).astype(int)}\n",
    ")\n",
    "submission.to_csv(\"submission.csv\", index=False)"
   ]
  }
 ],
 "metadata": {
  "kernelspec": {
   "display_name": "ozon-e-cup",
   "language": "python",
   "name": "python3"
  },
  "language_info": {
   "codemirror_mode": {
    "name": "ipython",
    "version": 3
   },
   "file_extension": ".py",
   "mimetype": "text/x-python",
   "name": "python",
   "nbconvert_exporter": "python",
   "pygments_lexer": "ipython3",
   "version": "3.12.11"
  }
 },
 "nbformat": 4,
 "nbformat_minor": 5
}
