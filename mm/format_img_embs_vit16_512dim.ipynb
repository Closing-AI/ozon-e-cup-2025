{
 "cells": [
  {
   "cell_type": "code",
   "execution_count": 1,
   "id": "d41cb44f",
   "metadata": {},
   "outputs": [
    {
     "name": "stdout",
     "output_type": "stream",
     "text": [
      "/home/den/dev/git/ozon-e-cup-2025\n"
     ]
    }
   ],
   "source": [
    "%cd .."
   ]
  },
  {
   "cell_type": "code",
   "execution_count": null,
   "id": "3ab44199",
   "metadata": {},
   "outputs": [],
   "source": [
    "import json\n",
    "from pathlib import Path\n",
    "\n",
    "import numpy as np\n",
    "import pandas as pd"
   ]
  },
  {
   "cell_type": "code",
   "execution_count": null,
   "id": "36d2e9dd",
   "metadata": {},
   "outputs": [],
   "source": [
    "embs_train = np.load(\"data/clip_image_embs_vit16.npy\")\n",
    "embs_test = np.load(\"data/clip_image_embs_vit16_test.npy\")\n",
    "\n",
    "idx2ItemID_train = {}\n",
    "with open(\"data/clip_image_ids_vit16.jsonl\", \"r\", encoding=\"utf-8\") as f:\n",
    "    for idx, line in enumerate(f):\n",
    "        obj = json.loads(line)\n",
    "        idx2ItemID_train[idx] = int(Path(obj[\"path\"].split(\"\\\\\")[-1]).stem)\n",
    "\n",
    "idx2ItemID_test = {}\n",
    "with open(\"data/clip_image_ids_vit16_test.jsonl\", \"r\", encoding=\"utf-8\") as f:\n",
    "    for idx, line in enumerate(f):\n",
    "        obj = json.loads(line)\n",
    "        idx2ItemID_test[idx] = int(Path(obj[\"path\"].split(\"\\\\\")[-1]).stem)"
   ]
  },
  {
   "cell_type": "code",
   "execution_count": null,
   "id": "da1e0ea8",
   "metadata": {},
   "outputs": [],
   "source": [
    "# Get ItemID to id mapping\n",
    "train_meta = pd.read_csv(\"data/1__train_with_flags.csv\", usecols=[\"id\", \"ItemID\"])\n",
    "test_meta = pd.read_csv(\"data/1__test_with_flags.csv\", usecols=[\"id\", \"ItemID\"])\n",
    "\n",
    "ItemID2id_train = train_meta.set_index(\"ItemID\")[\"id\"].to_dict()\n",
    "ItemID2id_test = test_meta.set_index(\"ItemID\")[\"id\"].to_dict()"
   ]
  },
  {
   "cell_type": "code",
   "execution_count": null,
   "id": "2a1d4ce9",
   "metadata": {},
   "outputs": [],
   "source": [
    "assert len(idx2ItemID_train.values()) == len(set(idx2ItemID_train.values()))\n",
    "assert len(idx2ItemID_test.values()) == len(set(idx2ItemID_test.values()))\n",
    "\n",
    "assert set(idx2ItemID_train.values()) <= ItemID2id_train.keys()\n",
    "assert set(idx2ItemID_test.values()) <= ItemID2id_test.keys()"
   ]
  },
  {
   "cell_type": "code",
   "execution_count": null,
   "id": "39b4278d",
   "metadata": {},
   "outputs": [
    {
     "name": "stdout",
     "output_type": "stream",
     "text": [
      "Rows with images in train: 99.63%\n",
      "Rows with images in test: 99.89%\n"
     ]
    }
   ],
   "source": [
    "print(f\"Rows with images in train: {len(idx2ItemID_train) / len(train_meta) * 100:.2f}%\")\n",
    "print(f\"Rows with images in test: {len(idx2ItemID_test) / len(test_meta) * 100:.2f}%\")"
   ]
  },
  {
   "cell_type": "code",
   "execution_count": null,
   "id": "f19c8d45",
   "metadata": {},
   "outputs": [],
   "source": [
    "# Create id2idx mapping\n",
    "id2idx_train = {ItemID2id_train[item_id]: idx for idx, item_id in idx2ItemID_train.items()}\n",
    "id2idx_test = {ItemID2id_test[item_id]: idx for idx, item_id in idx2ItemID_test.items()}"
   ]
  },
  {
   "cell_type": "code",
   "execution_count": null,
   "id": "859d15f5",
   "metadata": {},
   "outputs": [],
   "source": [
    "train_ids = np.load(\"data/train_ids.npy\")\n",
    "val_ids = np.load(\"data/val_ids.npy\")\n",
    "test_ids = np.load(\"data/test_ids.npy\")"
   ]
  },
  {
   "cell_type": "code",
   "execution_count": null,
   "id": "a35a7231",
   "metadata": {},
   "outputs": [],
   "source": [
    "real_train_embs = [embs_train[id2idx_train[id]] if id in id2idx_train else np.zeros(512) for id in train_ids]\n",
    "real_val_embs = [embs_train[id2idx_train[id]] if id in id2idx_train else np.zeros(512) for id in val_ids]\n",
    "real_test_embs = [embs_test[id2idx_test[id]] if id in id2idx_test else np.zeros(512) for id in test_ids]"
   ]
  },
  {
   "cell_type": "code",
   "execution_count": null,
   "id": "ffa392c2",
   "metadata": {},
   "outputs": [],
   "source": [
    "real_train_embs_np = np.array(real_train_embs)\n",
    "real_val_embs_np = np.array(real_val_embs)\n",
    "real_test_embs_np = np.array(real_test_embs)"
   ]
  },
  {
   "cell_type": "code",
   "execution_count": 27,
   "id": "0a530458",
   "metadata": {},
   "outputs": [],
   "source": [
    "np.save(\"data/img_embs_train.npy\", real_train_embs_np)\n",
    "np.save(\"data/img_embs_val.npy\", real_val_embs_np)\n",
    "np.save(\"data/img_embs_test.npy\", real_test_embs_np)"
   ]
  },
  {
   "cell_type": "code",
   "execution_count": null,
   "id": "2478a82e",
   "metadata": {},
   "outputs": [],
   "source": [
    "json.dump(id2idx_train, open(\"data/id2idx_img_embs_train.json\", \"w\"))\n",
    "json.dump(id2idx_test, open(\"data/id2idx_img_embs_test.json\", \"w\"))"
   ]
  }
 ],
 "metadata": {
  "kernelspec": {
   "display_name": "ozon-e-cup",
   "language": "python",
   "name": "python3"
  },
  "language_info": {
   "codemirror_mode": {
    "name": "ipython",
    "version": 3
   },
   "file_extension": ".py",
   "mimetype": "text/x-python",
   "name": "python",
   "nbconvert_exporter": "python",
   "pygments_lexer": "ipython3",
   "version": "3.12.11"
  }
 },
 "nbformat": 4,
 "nbformat_minor": 5
}
