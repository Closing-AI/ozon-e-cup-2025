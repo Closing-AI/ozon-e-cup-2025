{
 "cells": [
  {
   "cell_type": "code",
   "execution_count": 1,
   "id": "6ac554f4",
   "metadata": {},
   "outputs": [
    {
     "name": "stdout",
     "output_type": "stream",
     "text": [
      "/home/den/dev/git/ozon-e-cup-2025\n"
     ]
    }
   ],
   "source": [
    "%cd .."
   ]
  },
  {
   "cell_type": "code",
   "execution_count": null,
   "id": "22f570dc",
   "metadata": {},
   "outputs": [],
   "source": [
    "import json\n",
    "from textwrap import dedent\n",
    "\n",
    "import numpy as np\n",
    "import pandas as pd\n",
    "from tqdm.auto import tqdm"
   ]
  },
  {
   "cell_type": "code",
   "execution_count": null,
   "id": "ac8e25e4",
   "metadata": {},
   "outputs": [
    {
     "data": {
      "text/plain": [
       "((197198, 48), (22760, 47))"
      ]
     },
     "execution_count": 3,
     "metadata": {},
     "output_type": "execute_result"
    }
   ],
   "source": [
    "train = pd.read_csv(\"data/1__train_with_flags.csv\")\n",
    "test = pd.read_csv(\"data/1__test_with_flags.csv\")\n",
    "\n",
    "train.shape, test.shape"
   ]
  },
  {
   "cell_type": "code",
   "execution_count": null,
   "id": "ccedf3c2",
   "metadata": {},
   "outputs": [],
   "source": [
    "def create_text(description: str | None, name_rus: str, brand_name: str | None, CommercialTypeName4: str) -> str:\n",
    "    text = dedent(\n",
    "        f\"\"\"\\\n",
    "    Заголовок товара: {name_rus}.\n",
    "    Категория товара: {CommercialTypeName4}.\n",
    "    \"\"\"\n",
    "    )\n",
    "    if brand_name:\n",
    "        text += f\"Бренд: {brand_name}.\\n\"\n",
    "    else:\n",
    "        text += \"Бренд: Не указан.\\n\"\n",
    "    if description:\n",
    "        text += f\"Описание: {description}.\"\n",
    "    else:\n",
    "        text += \"Описание: Не указано.\"\n",
    "    return text"
   ]
  },
  {
   "cell_type": "code",
   "execution_count": null,
   "id": "fa38c15d",
   "metadata": {},
   "outputs": [
    {
     "name": "stdout",
     "output_type": "stream",
     "text": [
      "Заголовок товара: Мешки для пылесоса PHILIPS TRIATLON, синтетические, многослойные, тип: HR 6947.\n",
      "Категория товара: Пылесборник.\n",
      "Бренд: ACTRUM.\n",
      "Описание: Мешки пылесборники для пылесоса PHILIPS, 10 шт., синтетические, многослойные, бренд: ACTRUM, арт. AK-10/10, тип оригинального мешка: HR 6947.Подходят для пылесосов:PHILIPS: HR6955, HR6947, HR6888, HR6844 TRIATHLON, HR6843 TRIATHLON, HR6842 TRIATHLON, HR6841 TRIATHLON, HR6840 TRIATHLON, HR6839 TRIATHLON, HR6838 TRIATHLON, HR6837 TRIATHLON, HR6836 TRIATHLON, HR6835 TRIATHLON, HR6834 TRIATHLON, HR6833 TRIATHLON, HR6832 TRIATHLON, HR6831 TRIATHLON, HR6830 TRIATHLON, HR6829 TRIATHLON, HR6828 TRIATHLON, HR6827 TRIATHLON, HR6826 TRIATHLON, HR6825 TRIATHLON, HR6824 TRIATHLON, HR6823 TRIATHLON, HR6822 TRIATHLON, HR6821 TRIATHLON, HR6820 TRIATHLON, HR6819 TRIATHLON, HR6818 TRIATHLON, HR6817 TRIATHLON, HR6816 TRIATHLON, HR6815 TRIATHLON, HR6814 - HR6845 TRIATHLON, FC6844 TRIATHLON, FC6843 TRIATHLON, FC6842 TRIATHLON, FC6841 - FC6845 TRIATHLONОдноразовые мешки-пылесборники ACTRUM изгот.\n"
     ]
    }
   ],
   "source": [
    "print(create_text(**train.loc[0, [\"description\", \"name_rus\", \"brand_name\", \"CommercialTypeName4\"]].to_dict()))"
   ]
  },
  {
   "cell_type": "code",
   "execution_count": null,
   "id": "7cd949bd",
   "metadata": {},
   "outputs": [],
   "source": [
    "import torch\n",
    "from sentence_transformers import SentenceTransformer"
   ]
  },
  {
   "cell_type": "code",
   "execution_count": null,
   "id": "fee783a9",
   "metadata": {},
   "outputs": [
    {
     "data": {
      "text/plain": [
       "'cpu'"
      ]
     },
     "execution_count": 34,
     "metadata": {},
     "output_type": "execute_result"
    }
   ],
   "source": [
    "device = \"cuda\" if torch.cuda.is_available() else \"cpu\"\n",
    "device"
   ]
  },
  {
   "cell_type": "code",
   "execution_count": null,
   "id": "b51a5bce",
   "metadata": {},
   "outputs": [],
   "source": [
    "model = SentenceTransformer(\"deepvk/USER2-small\", device=device)"
   ]
  },
  {
   "cell_type": "markdown",
   "id": "d9236a6c",
   "metadata": {},
   "source": [
    "To estimate memory needs for a batch size and a SentenceTransformer model, consider:\n",
    "\n",
    "1. **Input Tokenization:**  \n",
    "    Each input text is tokenized. The memory for tokenized input is roughly:  \n",
    "    `batch_size × max_seq_length × 4 bytes` (for int32 tokens).\n",
    "\n",
    "2. **Model Forward Pass:**  \n",
    "    The main memory usage comes from:\n",
    "    - Model weights (fixed, depends on model size).\n",
    "    - Activations (depends on batch_size, max_seq_length, hidden_size, number of layers).\n",
    "\n",
    "    For activations (rough estimate):  \n",
    "    `batch_size × max_seq_length × hidden_size × num_layers × 4 bytes` (float32).\n",
    "\n",
    "3. **Output Embeddings:**  \n",
    "    `batch_size × embedding_dim × 4 bytes`\n",
    "\n",
    "**Example Calculation:**  \n",
    "Suppose:\n",
    "- `batch_size = 64`\n",
    "- `max_seq_length = 512`\n",
    "- `hidden_size = 384`\n",
    "- `num_layers = 12`\n",
    "- `embedding_dim = 384`\n",
    "\n",
    "**Activations:**  \n",
    "`64 × 512 × 384 × 12 × 4 ≈ 603 MB` (for activations, very rough upper bound)\n",
    "\n",
    "**Tokenized Input:**  \n",
    "`64 × 512 × 4 ≈ 128 KB`\n",
    "\n",
    "**Output Embeddings:**  \n",
    "`64 × 384 × 4 ≈ 96 KB`\n",
    "\n",
    "**Model Weights:**  \n",
    "Depends on the model, but for a small BERT (like 40M params):  \n",
    "`40,000,000 × 4 ≈ 160 MB`\n",
    "\n",
    "**Total:**  \n",
    "Roughly `~800 MB` per batch (plus some overhead).\n",
    "\n",
    "**Note:**  \n",
    "- Actual usage may be lower due to memory optimizations.\n",
    "- Use smaller batch sizes if you get OOM errors.\n",
    "- Monitor with `nvidia-smi` (GPU) or `psutil` (CPU).\n",
    "\n",
    "**Tip:**  \n",
    "Try a small batch size, monitor memory, and increase until you reach your hardware limit."
   ]
  },
  {
   "cell_type": "code",
   "execution_count": null,
   "id": "c25aaaec",
   "metadata": {},
   "outputs": [],
   "source": [
    "def create_text_embeddings(df, batch_size=64) -> np.ndarray:\n",
    "    texts = []\n",
    "    for _, row in tqdm(\n",
    "        df.loc[:, [\"description\", \"name_rus\", \"brand_name\", \"CommercialTypeName4\"]].iterrows(),\n",
    "        total=len(df),\n",
    "        desc=\"Creating texts\",\n",
    "    ):\n",
    "        text = create_text(**row.to_dict())\n",
    "        texts.append(text)\n",
    "    embs = []\n",
    "    for i in tqdm(\n",
    "        range(0, len(texts), batch_size), total=(len(texts) + batch_size - 1) // batch_size, desc=\"Creating embeddings\"\n",
    "    ):\n",
    "        batch_texts = texts[i : i + batch_size]\n",
    "        batch_embs = model.encode(batch_texts, batch_size=batch_size, prompt_name=\"classification\")\n",
    "        embs.append(batch_embs)\n",
    "    return np.vstack(embs)"
   ]
  },
  {
   "cell_type": "code",
   "execution_count": null,
   "id": "425b3499",
   "metadata": {},
   "outputs": [],
   "source": [
    "train_embs = create_text_embeddings(train)\n",
    "np.save(\"data/train_text_embs_user2_small_384dim.npy\", train_embs)"
   ]
  },
  {
   "cell_type": "code",
   "execution_count": null,
   "id": "362b8c14",
   "metadata": {},
   "outputs": [],
   "source": [
    "test_embs = create_text_embeddings(test)\n",
    "np.save(\"data/test_text_embs_user2_small_384dim.npy\", test_embs)"
   ]
  },
  {
   "cell_type": "code",
   "execution_count": null,
   "id": "1dcdca67",
   "metadata": {},
   "outputs": [],
   "source": [
    "train_id2idx_text_embs = {id: idx for idx, id in train.id.to_dict().items()}\n",
    "test_id2idx_text_embs = {id: idx for idx, id in test.id.to_dict().items()}\n",
    "\n",
    "json.dump(train_id2idx_text_embs, open(\"data/train_id2idx_text_embs_user2_small_384dim.json\", \"w\"))\n",
    "json.dump(test_id2idx_text_embs, open(\"data/test_id2idx_text_embs_user2_small_384dim.json\", \"w\"))"
   ]
  }
 ],
 "metadata": {
  "kernelspec": {
   "display_name": "ozon-e-cup",
   "language": "python",
   "name": "python3"
  },
  "language_info": {
   "codemirror_mode": {
    "name": "ipython",
    "version": 3
   },
   "file_extension": ".py",
   "mimetype": "text/x-python",
   "name": "python",
   "nbconvert_exporter": "python",
   "pygments_lexer": "ipython3",
   "version": "3.12.11"
  }
 },
 "nbformat": 4,
 "nbformat_minor": 5
}
