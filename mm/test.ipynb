{
 "cells": [
  {
   "cell_type": "code",
   "execution_count": null,
   "id": "56ace76c",
   "metadata": {},
   "outputs": [],
   "source": [
    "import numpy as np\n",
    "import pandas as pd"
   ]
  },
  {
   "cell_type": "code",
   "execution_count": null,
   "id": "5506b8f1",
   "metadata": {},
   "outputs": [
    {
     "data": {
      "text/plain": [
       "(22760, 47)"
      ]
     },
     "execution_count": 3,
     "metadata": {},
     "output_type": "execute_result"
    }
   ],
   "source": [
    "qwe = pd.read_csv(\"../data/1__test_with_flags.csv\")\n",
    "qwe.shape"
   ]
  },
  {
   "cell_type": "code",
   "execution_count": 12,
   "id": "91674b79",
   "metadata": {},
   "outputs": [
    {
     "data": {
      "text/html": [
       "<div>\n",
       "<style scoped>\n",
       "    .dataframe tbody tr th:only-of-type {\n",
       "        vertical-align: middle;\n",
       "    }\n",
       "\n",
       "    .dataframe tbody tr th {\n",
       "        vertical-align: top;\n",
       "    }\n",
       "\n",
       "    .dataframe thead th {\n",
       "        text-align: right;\n",
       "    }\n",
       "</style>\n",
       "<table border=\"1\" class=\"dataframe\">\n",
       "  <thead>\n",
       "    <tr style=\"text-align: right;\">\n",
       "      <th></th>\n",
       "      <th>has_image</th>\n",
       "      <th>has_brand_name</th>\n",
       "    </tr>\n",
       "  </thead>\n",
       "  <tbody>\n",
       "    <tr>\n",
       "      <th>1</th>\n",
       "      <td>1</td>\n",
       "      <td>1</td>\n",
       "    </tr>\n",
       "    <tr>\n",
       "      <th>2</th>\n",
       "      <td>1</td>\n",
       "      <td>1</td>\n",
       "    </tr>\n",
       "    <tr>\n",
       "      <th>3</th>\n",
       "      <td>1</td>\n",
       "      <td>1</td>\n",
       "    </tr>\n",
       "    <tr>\n",
       "      <th>8</th>\n",
       "      <td>1</td>\n",
       "      <td>1</td>\n",
       "    </tr>\n",
       "  </tbody>\n",
       "</table>\n",
       "</div>"
      ],
      "text/plain": [
       "   has_image  has_brand_name\n",
       "1          1               1\n",
       "2          1               1\n",
       "3          1               1\n",
       "8          1               1"
      ]
     },
     "execution_count": 12,
     "metadata": {},
     "output_type": "execute_result"
    }
   ],
   "source": [
    "qwe.loc[[1, 2, 3, 8], [\"has_image\", \"has_brand_name\"]]"
   ]
  },
  {
   "cell_type": "code",
   "execution_count": null,
   "id": "a41e4a43",
   "metadata": {},
   "outputs": [
    {
     "data": {
      "text/plain": [
       "array([1, 1])"
      ]
     },
     "execution_count": 16,
     "metadata": {},
     "output_type": "execute_result"
    }
   ],
   "source": [
    "qwe.loc[[1], [\"has_image\", \"has_brand_name\"]].to_numpy().squeeze()"
   ]
  },
  {
   "cell_type": "code",
   "execution_count": null,
   "id": "f8401a81",
   "metadata": {},
   "outputs": [
    {
     "data": {
      "text/plain": [
       "array([0, 1, 2, 3, 4])"
      ]
     },
     "execution_count": 6,
     "metadata": {},
     "output_type": "execute_result"
    }
   ],
   "source": [
    "np.arange(5)"
   ]
  },
  {
   "cell_type": "code",
   "execution_count": null,
   "id": "4c7ec9ec",
   "metadata": {},
   "outputs": [
    {
     "data": {
      "text/plain": [
       "id                                                                            371\n",
       "brand_name                                                                  Dyson\n",
       "description                     Европейская вилка! Переходник не требуется.Обн...\n",
       "name_rus                        Стайлер Dyson Airwrap Complete Long Volumise H...\n",
       "CommercialTypeName4                                Стайлер, щипцы для волос Dyson\n",
       "rating_1_count                                                                NaN\n",
       "rating_2_count                                                                NaN\n",
       "rating_3_count                                                                NaN\n",
       "rating_4_count                                                                NaN\n",
       "rating_5_count                                                                NaN\n",
       "comments_published_count                                                      NaN\n",
       "photos_published_count                                                        NaN\n",
       "videos_published_count                                                        NaN\n",
       "PriceDiscounted                                                       1175.364769\n",
       "item_time_alive                                                                53\n",
       "item_count_fake_returns7                                                        0\n",
       "item_count_fake_returns30                                                       0\n",
       "item_count_fake_returns90                                                       0\n",
       "item_count_sales7                                                               4\n",
       "item_count_sales30                                                              7\n",
       "item_count_sales90                                                              9\n",
       "item_count_returns7                                                             0\n",
       "item_count_returns30                                                            0\n",
       "item_count_returns90                                                            0\n",
       "GmvTotal7                                                             1571.128228\n",
       "GmvTotal30                                                            1706.345795\n",
       "GmvTotal90                                                            1801.981991\n",
       "ExemplarAcceptedCountTotal7                                                 101.0\n",
       "ExemplarAcceptedCountTotal30                                                393.0\n",
       "ExemplarAcceptedCountTotal90                                               1064.0\n",
       "OrderAcceptedCountTotal7                                                     99.0\n",
       "OrderAcceptedCountTotal30                                                   386.0\n",
       "OrderAcceptedCountTotal90                                                  1057.0\n",
       "ExemplarReturnedCountTotal7                                                   1.0\n",
       "ExemplarReturnedCountTotal30                                                  6.0\n",
       "ExemplarReturnedCountTotal90                                                  9.0\n",
       "ExemplarReturnedValueTotal7                                           1107.220017\n",
       "ExemplarReturnedValueTotal30                                          1289.354622\n",
       "ExemplarReturnedValueTotal90                                          1329.724542\n",
       "ItemVarietyCount                                                              5.0\n",
       "ItemAvailableCount                                                            5.0\n",
       "seller_time_alive                                                           134.0\n",
       "ItemID                                                                        192\n",
       "SellerID                                                                      154\n",
       "has_image                                                                       1\n",
       "has_description                                                                 1\n",
       "has_brand_name                                                                  1\n",
       "Name: 22759, dtype: object"
      ]
     },
     "execution_count": 5,
     "metadata": {},
     "output_type": "execute_result"
    }
   ],
   "source": [
    "qwe.iloc[22759]"
   ]
  },
  {
   "cell_type": "code",
   "execution_count": null,
   "id": "d4fe2eb3",
   "metadata": {},
   "outputs": [
    {
     "data": {
      "text/plain": [
       "(22760, 384)"
      ]
     },
     "execution_count": 2,
     "metadata": {},
     "output_type": "execute_result"
    }
   ],
   "source": [
    "img_embs = np.load(\"../data/test_text_embs_user2_small_384dim.npy\")\n",
    "img_embs.shape"
   ]
  },
  {
   "cell_type": "code",
   "execution_count": null,
   "id": "0b498698",
   "metadata": {},
   "outputs": [
    {
     "data": {
      "text/plain": [
       "array([3.390613 , 2.227669 , 2.9934115, ..., 2.654228 , 3.3956816,\n",
       "       3.1042452], shape=(22760,), dtype=float32)"
      ]
     },
     "execution_count": 4,
     "metadata": {},
     "output_type": "execute_result"
    }
   ],
   "source": [
    "np.linalg.norm(img_embs, axis=1)"
   ]
  }
 ],
 "metadata": {
  "kernelspec": {
   "display_name": "ozon-e-cup",
   "language": "python",
   "name": "python3"
  },
  "language_info": {
   "codemirror_mode": {
    "name": "ipython",
    "version": 3
   },
   "file_extension": ".py",
   "mimetype": "text/x-python",
   "name": "python",
   "nbconvert_exporter": "python",
   "pygments_lexer": "ipython3",
   "version": "3.12.11"
  }
 },
 "nbformat": 4,
 "nbformat_minor": 5
}
