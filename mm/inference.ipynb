{
 "cells": [
  {
   "cell_type": "code",
   "execution_count": 1,
   "id": "e2217cfe",
   "metadata": {},
   "outputs": [],
   "source": [
    "%reload_ext autoreload\n",
    "%autoreload 2"
   ]
  },
  {
   "cell_type": "code",
   "execution_count": 2,
   "id": "0997c89d",
   "metadata": {},
   "outputs": [
    {
     "name": "stdout",
     "output_type": "stream",
     "text": [
      "/home/den/dev/git/ozon-e-cup-2025\n"
     ]
    }
   ],
   "source": [
    "%cd .."
   ]
  },
  {
   "cell_type": "code",
   "execution_count": null,
   "id": "0af3674b",
   "metadata": {},
   "outputs": [],
   "source": [
    "from collections import Counter, OrderedDict\n",
    "from multiprocessing import cpu_count\n",
    "from pathlib import Path\n",
    "\n",
    "import numpy as np\n",
    "import pandas as pd\n",
    "import torch\n",
    "import torch.nn as nn\n",
    "from torch.utils.data import DataLoader, Dataset\n",
    "from tqdm.auto import tqdm\n",
    "\n",
    "import src.torch_modules as tm"
   ]
  },
  {
   "cell_type": "markdown",
   "id": "dd2ad556",
   "metadata": {},
   "source": [
    "# Test dataset and dataloader"
   ]
  },
  {
   "cell_type": "code",
   "execution_count": null,
   "id": "7228149f",
   "metadata": {},
   "outputs": [],
   "source": [
    "class MMDataset(Dataset):\n",
    "    def __init__(self, data_path: Path, is_test: bool = False):\n",
    "        self.data_path = data_path\n",
    "        self.is_test = is_test\n",
    "\n",
    "    def __len__(self):\n",
    "        return len(list(self.data_path.iterdir()))\n",
    "\n",
    "    def __getitem__(self, idx):\n",
    "        file_path = self.data_path / f\"{idx}.npy\"\n",
    "        if self.is_test:\n",
    "            meta_feats, text_tfidf_feats, img_emb, text_emb = np.load(file_path, allow_pickle=True)\n",
    "            return meta_feats, text_tfidf_feats, img_emb, text_emb\n",
    "\n",
    "        meta_feats, text_tfidf_feats, img_emb, text_emb, target = np.load(file_path, allow_pickle=True)\n",
    "        return meta_feats, text_tfidf_feats, img_emb, text_emb, target"
   ]
  },
  {
   "cell_type": "code",
   "execution_count": null,
   "id": "02ea00b2",
   "metadata": {},
   "outputs": [],
   "source": [
    "BATCH_SIZE = 64\n",
    "N_JOBS = cpu_count()\n",
    "\n",
    "test_dataset = MMDataset(data_path=Path(\"data/test\"), is_test=True)\n",
    "test_loader = DataLoader(test_dataset, batch_size=BATCH_SIZE, shuffle=False, num_workers=N_JOBS)"
   ]
  },
  {
   "cell_type": "code",
   "execution_count": null,
   "id": "8ec13227",
   "metadata": {},
   "outputs": [],
   "source": [
    "def to_float(batch):\n",
    "    return [i.float() for i in batch]"
   ]
  },
  {
   "cell_type": "markdown",
   "id": "8e876c9f",
   "metadata": {},
   "source": [
    "# Load model"
   ]
  },
  {
   "cell_type": "code",
   "execution_count": null,
   "id": "618fafe0",
   "metadata": {},
   "outputs": [],
   "source": [
    "def load_model(model, optimizer=None, scheduler=None, load_path=None):\n",
    "    checkpoint = torch.load(load_path, weights_only=False)\n",
    "    model.load_state_dict(checkpoint[\"model_state_dict\"])\n",
    "    if optimizer is not None and \"optimizer_state_dict\" in checkpoint:\n",
    "        optimizer.load_state_dict(checkpoint[\"optimizer_state_dict\"])\n",
    "    if scheduler is not None and \"scheduler_state_dict\" in checkpoint:\n",
    "        scheduler.load_state_dict(checkpoint[\"scheduler_state_dict\"])\n",
    "    epoch = checkpoint.get(\"epoch\")\n",
    "    train_losses = checkpoint.get(\"train_losses\")\n",
    "    val_losses = checkpoint.get(\"val_losses\")\n",
    "    return epoch, train_losses, val_losses"
   ]
  },
  {
   "cell_type": "markdown",
   "id": "a0eaec23",
   "metadata": {},
   "source": [
    "## MLP"
   ]
  },
  {
   "cell_type": "code",
   "execution_count": null,
   "id": "c1e8bdee",
   "metadata": {},
   "outputs": [],
   "source": [
    "model = nn.Sequential(\n",
    "    OrderedDict(\n",
    "        [\n",
    "            (\"projector\", tm.MultiModalAdapter(input_dims=[102, 100, 512, 384], emb_dim=64, agg=\"concat\")),\n",
    "            (\"layers\", tm.MLPBinaryHead(input_dim=4 * 64)),\n",
    "        ]\n",
    "    )\n",
    ")\n",
    "load_model(model, None, None, \"model_weights/mlp.pth\")\n",
    "model.eval()"
   ]
  },
  {
   "cell_type": "markdown",
   "id": "40a24f36",
   "metadata": {},
   "source": [
    "## Transformer"
   ]
  },
  {
   "cell_type": "code",
   "execution_count": null,
   "id": "42ba875c",
   "metadata": {},
   "outputs": [
    {
     "data": {
      "text/plain": [
       "MMTransformerEncoder(\n",
       "  (projector): MultiModalAdapter(\n",
       "    (proj_layers): ModuleList(\n",
       "      (0): LinearProjection(\n",
       "        (linear): Linear(in_features=102, out_features=64, bias=True)\n",
       "        (norm): BatchNorm1d(64, eps=1e-05, momentum=0.1, affine=True, track_running_stats=True)\n",
       "        (activation): LeakyReLU(negative_slope=0.1)\n",
       "      )\n",
       "      (1): LinearProjection(\n",
       "        (linear): Linear(in_features=100, out_features=64, bias=True)\n",
       "        (norm): BatchNorm1d(64, eps=1e-05, momentum=0.1, affine=True, track_running_stats=True)\n",
       "        (activation): LeakyReLU(negative_slope=0.1)\n",
       "      )\n",
       "      (2): LinearProjection(\n",
       "        (linear): Linear(in_features=512, out_features=64, bias=True)\n",
       "        (norm): BatchNorm1d(64, eps=1e-05, momentum=0.1, affine=True, track_running_stats=True)\n",
       "        (activation): LeakyReLU(negative_slope=0.1)\n",
       "      )\n",
       "      (3): LinearProjection(\n",
       "        (linear): Linear(in_features=384, out_features=64, bias=True)\n",
       "        (norm): BatchNorm1d(64, eps=1e-05, momentum=0.1, affine=True, track_running_stats=True)\n",
       "        (activation): LeakyReLU(negative_slope=0.1)\n",
       "      )\n",
       "    )\n",
       "  )\n",
       "  (layers): ModuleList(\n",
       "    (0-3): 4 x ModuleList(\n",
       "      (0): AttentionBlock(\n",
       "        (mha): MultiheadAttention(\n",
       "          (out_proj): NonDynamicallyQuantizableLinear(in_features=64, out_features=64, bias=True)\n",
       "        )\n",
       "        (rms_norm): RMSNorm((64,), eps=None, elementwise_affine=True)\n",
       "      )\n",
       "      (1): MLPBlock(\n",
       "        (rms_norm): RMSNorm((64,), eps=None, elementwise_affine=True)\n",
       "        (fc1): Linear(in_features=64, out_features=512, bias=True)\n",
       "        (fc2): Linear(in_features=256, out_features=64, bias=True)\n",
       "        (dropout): Dropout(p=0.1, inplace=False)\n",
       "      )\n",
       "    )\n",
       "  )\n",
       "  (final_norm): RMSNorm((64,), eps=None, elementwise_affine=True)\n",
       "  (classifier): Linear(in_features=64, out_features=1, bias=True)\n",
       ")"
      ]
     },
     "execution_count": 12,
     "metadata": {},
     "output_type": "execute_result"
    }
   ],
   "source": [
    "model = tm.MMTransformerEncoder(input_dims=[102, 100, 512, 384], emb_dim=64, num_heads=4, num_layers=4)\n",
    "load_model(model, None, None, \"model_weights/transformer.pth\")\n",
    "model.eval()"
   ]
  },
  {
   "cell_type": "markdown",
   "id": "1f578c63",
   "metadata": {},
   "source": [
    "# Inference"
   ]
  },
  {
   "cell_type": "code",
   "execution_count": null,
   "id": "e64a40a3",
   "metadata": {},
   "outputs": [
    {
     "data": {
      "application/vnd.jupyter.widget-view+json": {
       "model_id": "f2405b0014c4485b967618b979127074",
       "version_major": 2,
       "version_minor": 0
      },
      "text/plain": [
       "  0%|          | 0/356 [00:00<?, ?it/s]"
      ]
     },
     "metadata": {},
     "output_type": "display_data"
    }
   ],
   "source": [
    "outputs = []\n",
    "for batch in tqdm(test_loader):\n",
    "    batch = to_float(batch)\n",
    "    with torch.no_grad():\n",
    "        outputs.append(model(batch))"
   ]
  },
  {
   "cell_type": "markdown",
   "id": "1f9e53df",
   "metadata": {},
   "source": [
    "# Form submission"
   ]
  },
  {
   "cell_type": "code",
   "execution_count": 15,
   "id": "0a43b413",
   "metadata": {},
   "outputs": [
    {
     "data": {
      "text/plain": [
       "Counter({np.int64(0): 18425, np.int64(1): 4335})"
      ]
     },
     "execution_count": 15,
     "metadata": {},
     "output_type": "execute_result"
    }
   ],
   "source": [
    "outputs = torch.cat(outputs).squeeze().numpy()\n",
    "\n",
    "threshold = 0.5\n",
    "predictions = (outputs > threshold).astype(int)\n",
    "Counter(predictions)"
   ]
  },
  {
   "cell_type": "code",
   "execution_count": null,
   "id": "b55861d0",
   "metadata": {},
   "outputs": [],
   "source": [
    "test_ids = np.load(\"data/test_ids.npy\")\n",
    "submission = pd.DataFrame({\"id\": test_ids, \"prediction\": predictions})\n",
    "submission.to_csv(\"submission.csv\", index=False)"
   ]
  }
 ],
 "metadata": {
  "kernelspec": {
   "display_name": "ozon-e-cup",
   "language": "python",
   "name": "python3"
  },
  "language_info": {
   "codemirror_mode": {
    "name": "ipython",
    "version": 3
   },
   "file_extension": ".py",
   "mimetype": "text/x-python",
   "name": "python",
   "nbconvert_exporter": "python",
   "pygments_lexer": "ipython3",
   "version": "3.12.11"
  }
 },
 "nbformat": 4,
 "nbformat_minor": 5
}
