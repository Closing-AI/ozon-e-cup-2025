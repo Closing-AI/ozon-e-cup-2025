{
 "cells": [
  {
   "cell_type": "markdown",
   "id": "742fae76",
   "metadata": {},
   "source": [
    "We have 5 different types of features (modalities):\n",
    "\n",
    "- meta features\n",
    "- text basic features\n",
    "- text TF-IDF features\n",
    "- text embeddings\n",
    "- image embeddings\n",
    "\n",
    "For each item from dataset we want to get tuple of vectors for each modality."
   ]
  },
  {
   "cell_type": "code",
   "execution_count": null,
   "id": "5ca3218f",
   "metadata": {},
   "outputs": [],
   "source": [
    "from tqdm.auto import tqdm"
   ]
  },
  {
   "cell_type": "code",
   "execution_count": 2,
   "id": "68cf5053",
   "metadata": {},
   "outputs": [],
   "source": [
    "import json\n",
    "import logging\n",
    "from pathlib import Path\n",
    "\n",
    "import numpy as np\n",
    "import pandas as pd\n",
    "from torch.utils.data import Dataset\n",
    "\n",
    "logger = logging.getLogger()\n",
    "logger.setLevel(logging.INFO)\n",
    "\n",
    "\n",
    "class MultiModalDataset(Dataset):\n",
    "    def __init__(self, data_folder: str, split: str):\n",
    "        logging.info(f\"Initializing dataset with split: {split}.\")\n",
    "        self.split = split\n",
    "\n",
    "        if self.split in [\"train\", \"val\"]:\n",
    "            logging.info(\"Loading targets...\")\n",
    "            self.id2target = json.load(open(Path(data_folder) / \"id2target.json\"))\n",
    "\n",
    "        logging.info(\"Loading meta features...\")\n",
    "        if self.split == \"train\":\n",
    "            self.meta_feats = pd.read_csv(Path(data_folder) / \"meta_train.csv\")\n",
    "        elif self.split == \"val\":\n",
    "            self.meta_feats = pd.read_csv(Path(data_folder) / \"meta_val.csv\")\n",
    "        elif self.split == \"test\":\n",
    "            self.meta_feats = pd.read_csv(Path(data_folder) / \"meta_test.csv\")\n",
    "\n",
    "        logging.info(\"Loading text basic features...\")\n",
    "        if self.split == \"train\":\n",
    "            self.text_basic_feats = pd.read_csv(Path(data_folder) / \"basic_text_train.csv\")\n",
    "        elif self.split == \"val\":\n",
    "            self.text_basic_feats = pd.read_csv(Path(data_folder) / \"basic_text_val.csv\")\n",
    "        elif self.split == \"test\":\n",
    "            self.text_basic_feats = pd.read_csv(Path(data_folder) / \"basic_text_test.csv\")\n",
    "\n",
    "        logging.info(\"Loading text TF-IDF features...\")\n",
    "        if self.split == \"train\":\n",
    "            self.text_tfidf_feats = pd.read_csv(Path(data_folder) / \"tfidf_train.csv\")\n",
    "        elif self.split == \"val\":\n",
    "            self.text_tfidf_feats = pd.read_csv(Path(data_folder) / \"tfidf_val.csv\")\n",
    "        elif self.split == \"test\":\n",
    "            self.text_tfidf_feats = pd.read_csv(Path(data_folder) / \"tfidf_test.csv\")\n",
    "\n",
    "        logging.info(\"Loading image embeddings...\")\n",
    "        if self.split == \"train\":\n",
    "            self.img_embs = np.load(Path(data_folder) / \"img_embs_train.npy\")\n",
    "            self.id2idx_img_embs = json.load(open(Path(data_folder) / \"id2idx_img_embs_train.json\"))\n",
    "        elif self.split == \"val\":\n",
    "            self.img_embs = np.load(Path(data_folder) / \"img_embs_val.npy\")\n",
    "            self.id2idx_img_embs = json.load(open(Path(data_folder) / \"id2idx_img_embs_val.json\"))\n",
    "        elif self.split == \"test\":\n",
    "            self.img_embs = np.load(Path(data_folder) / \"img_embs_test.npy\")\n",
    "            self.id2idx_img_embs = json.load(open(Path(data_folder) / \"id2idx_img_embs_test.json\"))\n",
    "\n",
    "        logging.info(\"Loading text embeddings...\")\n",
    "        if self.split == \"train\":\n",
    "            self.text_embs = np.load(Path(data_folder) / \"text_embs_train.npy\")\n",
    "            self.id2idx_text_embs = json.load(open(Path(data_folder) / \"id2idx_text_embs_train.json\"))\n",
    "        elif self.split == \"val\":\n",
    "            self.text_embs = np.load(Path(data_folder) / \"text_embs_val.npy\")\n",
    "            self.id2idx_text_embs = json.load(open(Path(data_folder) / \"id2idx_text_embs_val.json\"))\n",
    "        elif self.split == \"test\":\n",
    "            self.text_embs = np.load(Path(data_folder) / \"text_embs_test.npy\")\n",
    "            self.id2idx_text_embs = json.load(open(Path(data_folder) / \"id2idx_text_embs_test.json\"))\n",
    "\n",
    "        logging.info(\"All files loaded successfully.\")\n",
    "\n",
    "    def __len__(self):\n",
    "        return len(self.meta_feats)\n",
    "\n",
    "    def __getitem__(self, index):\n",
    "        id = self.meta_feats.loc[index, \"id\"]\n",
    "\n",
    "        if self.split in [\"train\", \"val\"]:\n",
    "            target = self.id2target[str(id)]\n",
    "        else:\n",
    "            target = None\n",
    "\n",
    "        meta_feats = (\n",
    "            self.meta_feats[self.meta_feats[\"id\"] == id].drop(columns=[\"id\"]).to_numpy(dtype=np.float32).squeeze()\n",
    "        )\n",
    "\n",
    "        text_basic_feats = (\n",
    "            self.text_basic_feats[self.text_basic_feats[\"id\"] == id]\n",
    "            .drop(columns=[\"id\"])\n",
    "            .to_numpy(dtype=np.float32)\n",
    "            .squeeze()\n",
    "        )\n",
    "\n",
    "        text_tfidf_feats = (\n",
    "            self.text_tfidf_feats[self.text_tfidf_feats[\"id\"] == id]\n",
    "            .drop(columns=[\"id\"])\n",
    "            .to_numpy(dtype=np.float32)\n",
    "            .squeeze()\n",
    "        )\n",
    "\n",
    "        img_emb = self.img_embs[self.id2idx_img_embs[str(id)]]\n",
    "\n",
    "        text_emb = self.text_embs[self.id2idx_text_embs[str(id)]]\n",
    "\n",
    "        return meta_feats, text_basic_feats, text_tfidf_feats, img_emb, text_emb, target"
   ]
  },
  {
   "cell_type": "markdown",
   "id": "b3ba690e",
   "metadata": {},
   "source": [
    "# Train dataset"
   ]
  },
  {
   "cell_type": "code",
   "execution_count": null,
   "id": "6dde5c0f",
   "metadata": {},
   "outputs": [
    {
     "name": "stderr",
     "output_type": "stream",
     "text": [
      "INFO:root:Initializing dataset with split: train.\n",
      "INFO:root:Loading targets...\n",
      "INFO:root:Loading meta features...\n",
      "INFO:root:Loading text basic features...\n"
     ]
    }
   ],
   "source": [
    "dataset = MultiModalDataset(data_folder=\"../data\", split=\"train\")"
   ]
  },
  {
   "cell_type": "code",
   "execution_count": null,
   "id": "01e6fb97",
   "metadata": {},
   "outputs": [
    {
     "data": {
      "application/vnd.jupyter.widget-view+json": {
       "model_id": "a8f5f2d54c514819a08d60ee3663ea7e",
       "version_major": 2,
       "version_minor": 0
      },
      "text/plain": [
       "  0%|          | 0/155979 [00:00<?, ?it/s]"
      ]
     },
     "metadata": {},
     "output_type": "display_data"
    },
    {
     "ename": "IndexError",
     "evalue": "index 155979 is out of bounds for axis 0 with size 155979",
     "output_type": "error",
     "traceback": [
      "\u001b[0;31m---------------------------------------------------------------------------\u001b[0m",
      "\u001b[0;31mIndexError\u001b[0m                                Traceback (most recent call last)",
      "Cell \u001b[0;32mIn[13], line 5\u001b[0m\n\u001b[1;32m      2\u001b[0m save_to_folder\u001b[38;5;241m.\u001b[39mmkdir(parents\u001b[38;5;241m=\u001b[39m\u001b[38;5;28;01mTrue\u001b[39;00m, exist_ok\u001b[38;5;241m=\u001b[39m\u001b[38;5;28;01mTrue\u001b[39;00m)\n\u001b[1;32m      4\u001b[0m \u001b[38;5;28;01mfor\u001b[39;00m i \u001b[38;5;129;01min\u001b[39;00m tqdm(\u001b[38;5;28mrange\u001b[39m(\u001b[38;5;28mlen\u001b[39m(dataset))):\n\u001b[0;32m----> 5\u001b[0m     sample \u001b[38;5;241m=\u001b[39m \u001b[43mdataset\u001b[49m\u001b[43m[\u001b[49m\u001b[43mi\u001b[49m\u001b[43m]\u001b[49m\n\u001b[1;32m      6\u001b[0m     np\u001b[38;5;241m.\u001b[39msave(save_to_folder \u001b[38;5;241m/\u001b[39m \u001b[38;5;124mf\u001b[39m\u001b[38;5;124m\"\u001b[39m\u001b[38;5;132;01m{\u001b[39;00mi\u001b[38;5;132;01m}\u001b[39;00m\u001b[38;5;124m.npy\u001b[39m\u001b[38;5;124m\"\u001b[39m, np\u001b[38;5;241m.\u001b[39marray(sample, dtype\u001b[38;5;241m=\u001b[39m\u001b[38;5;28mobject\u001b[39m), allow_pickle\u001b[38;5;241m=\u001b[39m\u001b[38;5;28;01mTrue\u001b[39;00m)\n",
      "Cell \u001b[0;32mIn[12], line 107\u001b[0m, in \u001b[0;36mMultiModalDataset.__getitem__\u001b[0;34m(self, index)\u001b[0m\n\u001b[1;32m     98\u001b[0m text_tfidf_feats \u001b[38;5;241m=\u001b[39m (\n\u001b[1;32m     99\u001b[0m     \u001b[38;5;28mself\u001b[39m\u001b[38;5;241m.\u001b[39mtext_tfidf_feats[\u001b[38;5;28mself\u001b[39m\u001b[38;5;241m.\u001b[39mtext_tfidf_feats[\u001b[38;5;124m\"\u001b[39m\u001b[38;5;124mid\u001b[39m\u001b[38;5;124m\"\u001b[39m] \u001b[38;5;241m==\u001b[39m \u001b[38;5;28mid\u001b[39m]\n\u001b[1;32m    100\u001b[0m     \u001b[38;5;241m.\u001b[39mdrop(columns\u001b[38;5;241m=\u001b[39m[\u001b[38;5;124m\"\u001b[39m\u001b[38;5;124mid\u001b[39m\u001b[38;5;124m\"\u001b[39m])\n\u001b[1;32m    101\u001b[0m     \u001b[38;5;241m.\u001b[39mto_numpy(dtype\u001b[38;5;241m=\u001b[39mnp\u001b[38;5;241m.\u001b[39mfloat32)\n\u001b[1;32m    102\u001b[0m     \u001b[38;5;241m.\u001b[39msqueeze()\n\u001b[1;32m    103\u001b[0m )\n\u001b[1;32m    105\u001b[0m img_emb \u001b[38;5;241m=\u001b[39m \u001b[38;5;28mself\u001b[39m\u001b[38;5;241m.\u001b[39mimg_embs[\u001b[38;5;28mself\u001b[39m\u001b[38;5;241m.\u001b[39mid2idx_img_embs[\u001b[38;5;28mstr\u001b[39m(\u001b[38;5;28mid\u001b[39m)]]\n\u001b[0;32m--> 107\u001b[0m text_emb \u001b[38;5;241m=\u001b[39m \u001b[38;5;28;43mself\u001b[39;49m\u001b[38;5;241;43m.\u001b[39;49m\u001b[43mtext_embs\u001b[49m\u001b[43m[\u001b[49m\u001b[38;5;28;43mself\u001b[39;49m\u001b[38;5;241;43m.\u001b[39;49m\u001b[43mid2idx_text_embs\u001b[49m\u001b[43m[\u001b[49m\u001b[38;5;28;43mstr\u001b[39;49m\u001b[43m(\u001b[49m\u001b[38;5;28;43mid\u001b[39;49m\u001b[43m)\u001b[49m\u001b[43m]\u001b[49m\u001b[43m]\u001b[49m\n\u001b[1;32m    109\u001b[0m \u001b[38;5;28;01mreturn\u001b[39;00m meta_feats, text_basic_feats, text_tfidf_feats, img_emb, text_emb, target\n",
      "\u001b[0;31mIndexError\u001b[0m: index 155979 is out of bounds for axis 0 with size 155979"
     ]
    }
   ],
   "source": [
    "save_to_folder = Path(\"../data/train\")\n",
    "save_to_folder.mkdir(parents=True, exist_ok=True)\n",
    "\n",
    "for i in tqdm(range(len(dataset))):\n",
    "    sample = dataset[i]\n",
    "    np.save(save_to_folder / f\"{i}.npy\", np.array(sample, dtype=object), allow_pickle=True)"
   ]
  },
  {
   "cell_type": "markdown",
   "id": "c659795b",
   "metadata": {},
   "source": [
    "# Val dataset"
   ]
  },
  {
   "cell_type": "code",
   "execution_count": null,
   "id": "e4ad030e",
   "metadata": {},
   "outputs": [
    {
     "name": "stderr",
     "output_type": "stream",
     "text": [
      "INFO:root:Initializing dataset with split: val.\n",
      "INFO:root:Loading targets...\n",
      "INFO:root:Loading meta features...\n",
      "INFO:root:Loading text basic features...\n",
      "INFO:root:Loading text TF-IDF features...\n",
      "INFO:root:Loading image embeddings...\n",
      "INFO:root:Loading text embeddings...\n",
      "INFO:root:All files loaded successfully.\n"
     ]
    }
   ],
   "source": [
    "dataset = MultiModalDataset(data_folder=\"../data\", split=\"val\")"
   ]
  },
  {
   "cell_type": "code",
   "execution_count": null,
   "id": "a75c6e1a",
   "metadata": {},
   "outputs": [
    {
     "name": "stdout",
     "output_type": "stream",
     "text": [
      "<class 'numpy.ndarray'> <class 'numpy.ndarray'> <class 'numpy.ndarray'> <class 'numpy.ndarray'> <class 'numpy.ndarray'> <class 'int'>\n"
     ]
    }
   ],
   "source": [
    "save_to_folder = Path(\"../data/val\")\n",
    "save_to_folder.mkdir(parents=True, exist_ok=True)\n",
    "\n",
    "for i in tqdm(range(len(dataset))):\n",
    "    sample = dataset[i]\n",
    "    np.save(save_to_folder / f\"{i}.npy\", np.array(sample, dtype=object), allow_pickle=True)"
   ]
  },
  {
   "cell_type": "markdown",
   "id": "8dbab9cf",
   "metadata": {},
   "source": [
    "# Test dataset"
   ]
  },
  {
   "cell_type": "code",
   "execution_count": null,
   "id": "410420f5",
   "metadata": {},
   "outputs": [
    {
     "name": "stderr",
     "output_type": "stream",
     "text": [
      "INFO:root:Initializing dataset with split: test.\n",
      "INFO:root:Loading meta features...\n",
      "INFO:root:Loading text basic features...\n",
      "INFO:root:Loading text TF-IDF features...\n",
      "INFO:root:Loading image embeddings...\n",
      "INFO:root:Loading text embeddings...\n",
      "INFO:root:All files loaded successfully.\n"
     ]
    }
   ],
   "source": [
    "dataset = MultiModalDataset(data_folder=\"../data\", split=\"test\")"
   ]
  },
  {
   "cell_type": "code",
   "execution_count": null,
   "id": "03ffb7cb",
   "metadata": {},
   "outputs": [
    {
     "name": "stdout",
     "output_type": "stream",
     "text": [
      "<class 'numpy.ndarray'> <class 'numpy.ndarray'> <class 'numpy.ndarray'> <class 'numpy.ndarray'> <class 'numpy.ndarray'> <class 'NoneType'>\n"
     ]
    }
   ],
   "source": [
    "save_to_folder = Path(\"../data/test\")\n",
    "save_to_folder.mkdir(parents=True, exist_ok=True)\n",
    "\n",
    "for i in tqdm(range(len(dataset))):\n",
    "    sample = dataset[i]\n",
    "    np.save(save_to_folder / f\"{i}.npy\", np.array(sample, dtype=object), allow_pickle=True)"
   ]
  }
 ],
 "metadata": {
  "kernelspec": {
   "display_name": "ozon-e-cup",
   "language": "python",
   "name": "python3"
  },
  "language_info": {
   "codemirror_mode": {
    "name": "ipython",
    "version": 3
   },
   "file_extension": ".py",
   "mimetype": "text/x-python",
   "name": "python",
   "nbconvert_exporter": "python",
   "pygments_lexer": "ipython3",
   "version": "3.12.11"
  }
 },
 "nbformat": 4,
 "nbformat_minor": 5
}
