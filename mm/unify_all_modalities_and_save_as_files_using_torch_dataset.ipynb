{
 "cells": [
  {
   "cell_type": "markdown",
   "id": "742fae76",
   "metadata": {},
   "source": [
    "We have 4 different types of features (modalities):\n",
    "\n",
    "- meta + text basic features\n",
    "- text TF-IDF features\n",
    "- text embeddings\n",
    "- image embeddings\n",
    "\n",
    "For each item from dataset we want to get tuple of vectors for each modality."
   ]
  },
  {
   "cell_type": "code",
   "execution_count": null,
   "id": "5ca3218f",
   "metadata": {},
   "outputs": [],
   "source": [
    "from tqdm.auto import tqdm"
   ]
  },
  {
   "cell_type": "code",
   "execution_count": null,
   "id": "68cf5053",
   "metadata": {},
   "outputs": [],
   "source": [
    "import json\n",
    "import logging\n",
    "from pathlib import Path\n",
    "\n",
    "import numpy as np\n",
    "import pandas as pd\n",
    "from torch.utils.data import Dataset\n",
    "\n",
    "logger = logging.getLogger()\n",
    "logger.setLevel(logging.INFO)\n",
    "\n",
    "\n",
    "class MultiModalDataset(Dataset):\n",
    "    def __init__(self, data_folder: str, split: str):\n",
    "        logging.info(f\"Initializing dataset with split: {split}.\")\n",
    "        self.split = split\n",
    "\n",
    "        if self.split in [\"train\", \"val\"]:\n",
    "            logging.info(\"Loading targets...\")\n",
    "            self.id2target = json.load(open(Path(data_folder) / \"id2target.json\"))\n",
    "\n",
    "        logging.info(\"Loading meta features...\")\n",
    "        if self.split == \"train\":\n",
    "            self.meta_feats = pd.read_csv(Path(data_folder) / \"meta_train.csv\")\n",
    "        elif self.split == \"val\":\n",
    "            self.meta_feats = pd.read_csv(Path(data_folder) / \"meta_val.csv\")\n",
    "        elif self.split == \"test\":\n",
    "            self.meta_feats = pd.read_csv(Path(data_folder) / \"meta_test.csv\")\n",
    "\n",
    "        logging.info(\"Loading text basic features...\")\n",
    "        if self.split == \"train\":\n",
    "            self.text_basic_feats = pd.read_csv(Path(data_folder) / \"basic_text_train.csv\")\n",
    "        elif self.split == \"val\":\n",
    "            self.text_basic_feats = pd.read_csv(Path(data_folder) / \"basic_text_val.csv\")\n",
    "        elif self.split == \"test\":\n",
    "            self.text_basic_feats = pd.read_csv(Path(data_folder) / \"basic_text_test.csv\")\n",
    "\n",
    "        logging.info(\"Loading text TF-IDF features...\")\n",
    "        if self.split == \"train\":\n",
    "            self.text_tfidf_feats = np.load(Path(data_folder) / \"tfidf_train_100.npy\")\n",
    "            self.id2idx_tfidf = json.load(open(Path(data_folder) / \"id2idx_tfidf_train.json\"))\n",
    "        elif self.split == \"val\":\n",
    "            self.text_tfidf_feats = np.load(Path(data_folder) / \"tfidf_val_100.npy\")\n",
    "            self.id2idx_tfidf = json.load(open(Path(data_folder) / \"id2idx_tfidf_val.json\"))\n",
    "        elif self.split == \"test\":\n",
    "            self.text_tfidf_feats = np.load(Path(data_folder) / \"tfidf_test_100.npy\")\n",
    "            self.id2idx_tfidf = json.load(open(Path(data_folder) / \"id2idx_tfidf_test.json\"))\n",
    "\n",
    "        logging.info(\"Loading image embeddings...\")\n",
    "        if self.split == \"train\":\n",
    "            self.img_embs = np.load(Path(data_folder) / \"img_embs_train.npy\")\n",
    "            self.id2idx_img_embs = json.load(open(Path(data_folder) / \"id2idx_img_embs_train.json\"))\n",
    "        elif self.split == \"val\":\n",
    "            self.img_embs = np.load(Path(data_folder) / \"img_embs_val.npy\")\n",
    "            self.id2idx_img_embs = json.load(open(Path(data_folder) / \"id2idx_img_embs_val.json\"))\n",
    "        elif self.split == \"test\":\n",
    "            self.img_embs = np.load(Path(data_folder) / \"img_embs_test.npy\")\n",
    "            self.id2idx_img_embs = json.load(open(Path(data_folder) / \"id2idx_img_embs_test.json\"))\n",
    "\n",
    "        logging.info(\"Loading text embeddings...\")\n",
    "        if self.split == \"train\":\n",
    "            self.text_embs = np.load(Path(data_folder) / \"text_embs_train.npy\")\n",
    "            self.id2idx_text_embs = json.load(open(Path(data_folder) / \"id2idx_text_embs_train.json\"))\n",
    "        elif self.split == \"val\":\n",
    "            self.text_embs = np.load(Path(data_folder) / \"text_embs_val.npy\")\n",
    "            self.id2idx_text_embs = json.load(open(Path(data_folder) / \"id2idx_text_embs_val.json\"))\n",
    "        elif self.split == \"test\":\n",
    "            self.text_embs = np.load(Path(data_folder) / \"text_embs_test.npy\")\n",
    "            self.id2idx_text_embs = json.load(open(Path(data_folder) / \"id2idx_text_embs_test.json\"))\n",
    "\n",
    "        logging.info(\"All files loaded successfully.\")\n",
    "\n",
    "    def __len__(self):\n",
    "        return len(self.meta_feats)\n",
    "\n",
    "    def __getitem__(self, index):\n",
    "        id = self.meta_feats.loc[index, \"id\"]\n",
    "\n",
    "        meta_feats = (\n",
    "            self.meta_feats[self.meta_feats[\"id\"] == id].drop(columns=[\"id\"]).to_numpy(dtype=np.float32).squeeze()\n",
    "        )\n",
    "        text_basic_feats = (\n",
    "            self.text_basic_feats[self.text_basic_feats[\"id\"] == id]\n",
    "            .drop(columns=[\"id\"])\n",
    "            .to_numpy(dtype=np.float32)\n",
    "            .squeeze()\n",
    "        )\n",
    "        meta_text_basic_feats = np.hstack([meta_feats, text_basic_feats])\n",
    "\n",
    "        tfidf_feats = self.text_tfidf_feats[self.id2idx_tfidf[str(id)]]\n",
    "\n",
    "        img_emb = self.img_embs[self.id2idx_img_embs[str(id)]]\n",
    "\n",
    "        text_emb = self.text_embs[self.id2idx_text_embs[str(id)]]\n",
    "\n",
    "        if self.split == \"test\":\n",
    "            return meta_text_basic_feats, tfidf_feats, img_emb, text_emb\n",
    "        else:\n",
    "            return meta_text_basic_feats, tfidf_feats, img_emb, text_emb, self.id2target[str(id)]"
   ]
  },
  {
   "cell_type": "markdown",
   "id": "b3ba690e",
   "metadata": {},
   "source": [
    "# Train dataset"
   ]
  },
  {
   "cell_type": "code",
   "execution_count": null,
   "id": "6dde5c0f",
   "metadata": {},
   "outputs": [
    {
     "name": "stderr",
     "output_type": "stream",
     "text": [
      "INFO:root:Initializing dataset with split: train.\n",
      "INFO:root:Loading targets...\n",
      "INFO:root:Loading meta features...\n",
      "INFO:root:Loading text basic features...\n",
      "INFO:root:Loading text TF-IDF features...\n",
      "INFO:root:Loading image embeddings...\n",
      "INFO:root:Loading text embeddings...\n",
      "INFO:root:All files loaded successfully.\n"
     ]
    }
   ],
   "source": [
    "dataset = MultiModalDataset(data_folder=\"../data\", split=\"train\")"
   ]
  },
  {
   "cell_type": "code",
   "execution_count": null,
   "id": "01e6fb97",
   "metadata": {},
   "outputs": [
    {
     "data": {
      "application/vnd.jupyter.widget-view+json": {
       "model_id": "e901add7f6f84b5c8117bfc87fea7e28",
       "version_major": 2,
       "version_minor": 0
      },
      "text/plain": [
       "  0%|          | 0/155979 [00:00<?, ?it/s]"
      ]
     },
     "metadata": {},
     "output_type": "display_data"
    }
   ],
   "source": [
    "save_to_folder = Path(\"../data/train\")\n",
    "save_to_folder.mkdir(parents=True, exist_ok=True)\n",
    "\n",
    "for i in tqdm(range(len(dataset))):\n",
    "    sample = dataset[i]\n",
    "    np.save(save_to_folder / f\"{i}.npy\", np.array(sample, dtype=object), allow_pickle=True)"
   ]
  },
  {
   "cell_type": "markdown",
   "id": "c659795b",
   "metadata": {},
   "source": [
    "# Val dataset"
   ]
  },
  {
   "cell_type": "code",
   "execution_count": null,
   "id": "e4ad030e",
   "metadata": {},
   "outputs": [
    {
     "name": "stderr",
     "output_type": "stream",
     "text": [
      "INFO:root:Initializing dataset with split: val.\n",
      "INFO:root:Loading targets...\n",
      "INFO:root:Loading meta features...\n",
      "INFO:root:Loading text basic features...\n",
      "INFO:root:Loading text TF-IDF features...\n",
      "INFO:root:Loading image embeddings...\n",
      "INFO:root:Loading text embeddings...\n",
      "INFO:root:All files loaded successfully.\n"
     ]
    }
   ],
   "source": [
    "dataset = MultiModalDataset(data_folder=\"../data\", split=\"val\")"
   ]
  },
  {
   "cell_type": "code",
   "execution_count": null,
   "id": "a75c6e1a",
   "metadata": {},
   "outputs": [
    {
     "data": {
      "application/vnd.jupyter.widget-view+json": {
       "model_id": "ce34c95622b747ceb6f6522a03687a79",
       "version_major": 2,
       "version_minor": 0
      },
      "text/plain": [
       "  0%|          | 0/41219 [00:00<?, ?it/s]"
      ]
     },
     "metadata": {},
     "output_type": "display_data"
    }
   ],
   "source": [
    "save_to_folder = Path(\"../data/val\")\n",
    "save_to_folder.mkdir(parents=True, exist_ok=True)\n",
    "\n",
    "for i in tqdm(range(len(dataset))):\n",
    "    sample = dataset[i]\n",
    "    np.save(save_to_folder / f\"{i}.npy\", np.array(sample, dtype=object), allow_pickle=True)"
   ]
  },
  {
   "cell_type": "markdown",
   "id": "8dbab9cf",
   "metadata": {},
   "source": [
    "# Test dataset"
   ]
  },
  {
   "cell_type": "code",
   "execution_count": null,
   "id": "410420f5",
   "metadata": {},
   "outputs": [
    {
     "name": "stderr",
     "output_type": "stream",
     "text": [
      "INFO:root:Initializing dataset with split: test.\n",
      "INFO:root:Loading meta features...\n",
      "INFO:root:Loading text basic features...\n",
      "INFO:root:Loading text TF-IDF features...\n",
      "INFO:root:Loading image embeddings...\n",
      "INFO:root:Loading text embeddings...\n",
      "INFO:root:All files loaded successfully.\n"
     ]
    }
   ],
   "source": [
    "dataset = MultiModalDataset(data_folder=\"../data\", split=\"test\")"
   ]
  },
  {
   "cell_type": "code",
   "execution_count": 10,
   "id": "03ffb7cb",
   "metadata": {},
   "outputs": [
    {
     "data": {
      "application/vnd.jupyter.widget-view+json": {
       "model_id": "76a2304f64af40c5b29111bf382affb2",
       "version_major": 2,
       "version_minor": 0
      },
      "text/plain": [
       "  0%|          | 0/22760 [00:00<?, ?it/s]"
      ]
     },
     "metadata": {},
     "output_type": "display_data"
    }
   ],
   "source": [
    "save_to_folder = Path(\"../data/test\")\n",
    "save_to_folder.mkdir(parents=True, exist_ok=True)\n",
    "\n",
    "for i in tqdm(range(len(dataset))):\n",
    "    sample = dataset[i]\n",
    "    np.save(save_to_folder / f\"{i}.npy\", np.array(sample, dtype=object), allow_pickle=True)"
   ]
  }
 ],
 "metadata": {
  "kernelspec": {
   "display_name": "ozon-e-cup",
   "language": "python",
   "name": "python3"
  },
  "language_info": {
   "codemirror_mode": {
    "name": "ipython",
    "version": 3
   },
   "file_extension": ".py",
   "mimetype": "text/x-python",
   "name": "python",
   "nbconvert_exporter": "python",
   "pygments_lexer": "ipython3",
   "version": "3.12.11"
  }
 },
 "nbformat": 4,
 "nbformat_minor": 5
}
