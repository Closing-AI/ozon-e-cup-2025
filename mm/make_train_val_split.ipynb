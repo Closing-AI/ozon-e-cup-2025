{
 "cells": [
  {
   "cell_type": "code",
   "execution_count": null,
   "id": "d4e39a4d",
   "metadata": {},
   "outputs": [],
   "source": [
    "import numpy as np\n",
    "import pandas as pd\n",
    "from sklearn.model_selection import StratifiedGroupKFold"
   ]
  },
  {
   "cell_type": "code",
   "execution_count": null,
   "id": "523b8f7a",
   "metadata": {},
   "outputs": [
    {
     "data": {
      "text/plain": [
       "(197198, 48)"
      ]
     },
     "execution_count": 2,
     "metadata": {},
     "output_type": "execute_result"
    }
   ],
   "source": [
    "train = pd.read_csv(\"../data/1__train_with_flags.csv\")\n",
    "train.shape"
   ]
  },
  {
   "cell_type": "code",
   "execution_count": null,
   "id": "3f9e1e20",
   "metadata": {},
   "outputs": [],
   "source": [
    "splitter = StratifiedGroupKFold(n_splits=5, shuffle=True, random_state=42)"
   ]
  },
  {
   "cell_type": "code",
   "execution_count": null,
   "id": "73d3ef82",
   "metadata": {},
   "outputs": [],
   "source": [
    "splits = []\n",
    "for train_ids, val_ids in splitter.split(train, train.resolution, groups=train.SellerID):\n",
    "    splits.append((train_ids, val_ids))"
   ]
  },
  {
   "cell_type": "code",
   "execution_count": null,
   "id": "89501225",
   "metadata": {},
   "outputs": [
    {
     "name": "stdout",
     "output_type": "stream",
     "text": [
      "78.80049493402569 21.1995050659743\n",
      "78.62351545147517 21.376484548524832\n",
      "82.17831823852168 17.82168176147831\n",
      "79.09765819125954 20.902341808740456\n",
      "81.3000131847179 18.699986815282102\n"
     ]
    }
   ],
   "source": [
    "for train_ids, val_ids in splits:\n",
    "    print(len(train_ids) / len(train) * 100, len(val_ids) / len(train) * 100)"
   ]
  },
  {
   "cell_type": "code",
   "execution_count": null,
   "id": "b4f86674",
   "metadata": {},
   "outputs": [],
   "source": [
    "train_ids, val_ids = splits[3]"
   ]
  },
  {
   "cell_type": "code",
   "execution_count": null,
   "id": "70592ef5",
   "metadata": {},
   "outputs": [],
   "source": [
    "real_train_ids = []\n",
    "\n",
    "for i in train_ids:\n",
    "    real_train_ids.append(int(train.loc[i, \"id\"]))\n",
    "\n",
    "real_val_ids = []\n",
    "\n",
    "for i in val_ids:\n",
    "    real_val_ids.append(int(train.loc[i, \"id\"]))"
   ]
  },
  {
   "cell_type": "code",
   "execution_count": null,
   "id": "f26d47a5",
   "metadata": {},
   "outputs": [],
   "source": [
    "assert len(train_ids) + len(val_ids) == len(train)\n",
    "\n",
    "assert len(train_ids) == len(real_train_ids)\n",
    "assert len(val_ids) == len(real_val_ids)"
   ]
  },
  {
   "cell_type": "code",
   "execution_count": null,
   "id": "aba24a6b",
   "metadata": {},
   "outputs": [],
   "source": [
    "np.save(\"../data/train_ids.npy\", real_train_ids)\n",
    "np.save(\"../data/val_ids.npy\", real_val_ids)"
   ]
  }
 ],
 "metadata": {
  "kernelspec": {
   "display_name": "ozon-e-cup",
   "language": "python",
   "name": "python3"
  },
  "language_info": {
   "codemirror_mode": {
    "name": "ipython",
    "version": 3
   },
   "file_extension": ".py",
   "mimetype": "text/x-python",
   "name": "python",
   "nbconvert_exporter": "python",
   "pygments_lexer": "ipython3",
   "version": "3.12.11"
  }
 },
 "nbformat": 4,
 "nbformat_minor": 5
}
