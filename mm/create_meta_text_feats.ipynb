{
 "cells": [
  {
   "cell_type": "code",
   "execution_count": 1,
   "id": "91f943b5",
   "metadata": {},
   "outputs": [
    {
     "name": "stdout",
     "output_type": "stream",
     "text": [
      "/home/den/dev/git/ozon-e-cup-2025\n"
     ]
    }
   ],
   "source": [
    "%cd .."
   ]
  },
  {
   "cell_type": "code",
   "execution_count": null,
   "id": "3d66c16f",
   "metadata": {},
   "outputs": [],
   "source": [
    "import json\n",
    "\n",
    "import numpy as np\n",
    "import pandas as pd\n",
    "from sklearn.pipeline import Pipeline\n",
    "\n",
    "import src.preprocessing as preproc"
   ]
  },
  {
   "cell_type": "code",
   "execution_count": null,
   "id": "a14d30a6",
   "metadata": {},
   "outputs": [],
   "source": [
    "train_ids = np.load(\"data/train_ids.npy\")\n",
    "val_ids = np.load(\"data/val_ids.npy\")"
   ]
  },
  {
   "cell_type": "markdown",
   "id": "b5172e4f",
   "metadata": {},
   "source": [
    "# Preprocess meta features"
   ]
  },
  {
   "cell_type": "code",
   "execution_count": null,
   "id": "5ab60e66",
   "metadata": {},
   "outputs": [],
   "source": [
    "meta_train = pd.read_csv(\"data/1__train_with_flags.csv\")\n",
    "meta_test = pd.read_csv(\"data/1__test_with_flags.csv\")"
   ]
  },
  {
   "cell_type": "code",
   "execution_count": null,
   "id": "355c5343",
   "metadata": {},
   "outputs": [],
   "source": [
    "id2target = {int(id): int(target) for id, target in zip(meta_train[\"id\"], meta_train[\"resolution\"])}\n",
    "\n",
    "json.dump(id2target, open(\"data/id2target.json\", \"w\"))"
   ]
  },
  {
   "cell_type": "code",
   "execution_count": null,
   "id": "e0000a2d",
   "metadata": {},
   "outputs": [],
   "source": [
    "meta_train[\"SellerID\"] = meta_train[\"SellerID\"].astype(\"string\")\n",
    "meta_test[\"SellerID\"] = meta_test[\"SellerID\"].astype(\"string\")"
   ]
  },
  {
   "cell_type": "code",
   "execution_count": null,
   "id": "caea9a3d",
   "metadata": {},
   "outputs": [],
   "source": [
    "preproc_pipe = Pipeline(\n",
    "    steps=[\n",
    "        (\"num_preproc\", preproc.NUMERIC_PREP_PIPELINE),\n",
    "        (\"cat_preproc\", preproc.CATEGORIAL_PREP_PIPELINE),\n",
    "    ]\n",
    ")"
   ]
  },
  {
   "cell_type": "code",
   "execution_count": null,
   "id": "bde31652",
   "metadata": {},
   "outputs": [
    {
     "name": "stdout",
     "output_type": "stream",
     "text": [
      "[Pipeline] ... (step 1 of 37) Processing rating_1_count, total=   0.1s\n",
      "[Pipeline] ... (step 2 of 37) Processing rating_2_count, total=   0.1s\n",
      "[Pipeline] ... (step 3 of 37) Processing rating_3_count, total=   0.1s\n",
      "[Pipeline] ... (step 4 of 37) Processing rating_4_count, total=   0.1s\n",
      "[Pipeline] ... (step 5 of 37) Processing rating_5_count, total=   0.1s\n",
      "[Pipeline]  (step 6 of 37) Processing comments_published_count, total=   0.1s\n",
      "[Pipeline]  (step 7 of 37) Processing photos_published_count, total=   0.1s\n",
      "[Pipeline]  (step 8 of 37) Processing videos_published_count, total=   0.1s\n",
      "[Pipeline] .. (step 9 of 37) Processing PriceDiscounted, total=   0.1s\n",
      "[Pipeline] . (step 10 of 37) Processing item_time_alive, total=   0.1s\n",
      "[Pipeline]  (step 11 of 37) Processing item_count_fake_returns7, total=   0.1s\n",
      "[Pipeline]  (step 12 of 37) Processing item_count_fake_returns30, total=   0.1s\n",
      "[Pipeline]  (step 13 of 37) Processing item_count_fake_returns90, total=   0.1s\n",
      "[Pipeline]  (step 14 of 37) Processing item_count_sales7, total=   0.1s\n",
      "[Pipeline]  (step 15 of 37) Processing item_count_sales30, total=   0.1s\n",
      "[Pipeline]  (step 16 of 37) Processing item_count_sales90, total=   0.1s\n",
      "[Pipeline]  (step 17 of 37) Processing item_count_returns7, total=   0.1s\n",
      "[Pipeline]  (step 18 of 37) Processing item_count_returns30, total=   0.1s\n",
      "[Pipeline]  (step 19 of 37) Processing item_count_returns90, total=   0.1s\n",
      "[Pipeline] ....... (step 20 of 37) Processing GmvTotal7, total=   0.1s\n",
      "[Pipeline] ...... (step 21 of 37) Processing GmvTotal30, total=   0.1s\n",
      "[Pipeline] ...... (step 22 of 37) Processing GmvTotal90, total=   0.1s\n",
      "[Pipeline]  (step 23 of 37) Processing ExemplarAcceptedCountTotal7, total=   0.1s\n",
      "[Pipeline]  (step 24 of 37) Processing ExemplarAcceptedCountTotal30, total=   0.1s\n",
      "[Pipeline]  (step 25 of 37) Processing ExemplarAcceptedCountTotal90, total=   0.1s\n",
      "[Pipeline]  (step 26 of 37) Processing OrderAcceptedCountTotal7, total=   0.1s\n",
      "[Pipeline]  (step 27 of 37) Processing OrderAcceptedCountTotal30, total=   0.1s\n",
      "[Pipeline]  (step 28 of 37) Processing OrderAcceptedCountTotal90, total=   0.1s\n",
      "[Pipeline]  (step 29 of 37) Processing ExemplarReturnedCountTotal7, total=   0.1s\n",
      "[Pipeline]  (step 30 of 37) Processing ExemplarReturnedCountTotal30, total=   0.1s\n",
      "[Pipeline]  (step 31 of 37) Processing ExemplarReturnedCountTotal90, total=   0.1s\n",
      "[Pipeline]  (step 32 of 37) Processing ExemplarReturnedValueTotal7, total=   0.1s\n",
      "[Pipeline]  (step 33 of 37) Processing ExemplarReturnedValueTotal30, total=   0.1s\n",
      "[Pipeline]  (step 34 of 37) Processing ExemplarReturnedValueTotal90, total=   0.1s\n",
      "[Pipeline]  (step 35 of 37) Processing ItemVarietyCount, total=   0.1s\n",
      "[Pipeline]  (step 36 of 37) Processing ItemAvailableCount, total=   0.1s\n",
      "[Pipeline]  (step 37 of 37) Processing seller_time_alive, total=   0.1s\n",
      "[Pipeline] ........ (step 1 of 3) Processing brand_name, total=   0.4s\n",
      "[Pipeline]  (step 2 of 3) Processing CommercialTypeName4, total=   0.4s\n",
      "[Pipeline] .......... (step 3 of 3) Processing SellerID, total=   0.3s\n"
     ]
    }
   ],
   "source": [
    "preproc_pipe = preproc_pipe.fit(meta_train[meta_train[\"id\"].isin(train_ids)])"
   ]
  },
  {
   "cell_type": "code",
   "execution_count": null,
   "id": "02b46d5a",
   "metadata": {},
   "outputs": [
    {
     "name": "stderr",
     "output_type": "stream",
     "text": [
      "/home/den/miniconda3/envs/ozon-e-cup/lib/python3.12/site-packages/sklearn/pipeline.py:61: FutureWarning: This Pipeline instance is not fitted yet. Call 'fit' with appropriate arguments before using other methods such as transform, predict, etc. This will raise an error in 1.8 instead of the current warning.\n",
      "  warnings.warn(\n",
      "/home/den/miniconda3/envs/ozon-e-cup/lib/python3.12/site-packages/sklearn/pipeline.py:61: FutureWarning: This Pipeline instance is not fitted yet. Call 'fit' with appropriate arguments before using other methods such as transform, predict, etc. This will raise an error in 1.8 instead of the current warning.\n",
      "  warnings.warn(\n",
      "/home/den/dev/git/ozon-e-cup-2025/src/preprocessing.py:99: SettingWithCopyWarning: \n",
      "A value is trying to be set on a copy of a slice from a DataFrame\n",
      "\n",
      "See the caveats in the documentation: https://pandas.pydata.org/pandas-docs/stable/user_guide/indexing.html#returning-a-view-versus-a-copy\n",
      "  series.loc[random_mask] = self._new_cat_name\n",
      "/home/den/dev/git/ozon-e-cup-2025/src/preprocessing.py:99: SettingWithCopyWarning: \n",
      "A value is trying to be set on a copy of a slice from a DataFrame\n",
      "\n",
      "See the caveats in the documentation: https://pandas.pydata.org/pandas-docs/stable/user_guide/indexing.html#returning-a-view-versus-a-copy\n",
      "  series.loc[random_mask] = self._new_cat_name\n",
      "/home/den/miniconda3/envs/ozon-e-cup/lib/python3.12/site-packages/sklearn/pipeline.py:61: FutureWarning: This Pipeline instance is not fitted yet. Call 'fit' with appropriate arguments before using other methods such as transform, predict, etc. This will raise an error in 1.8 instead of the current warning.\n",
      "  warnings.warn(\n"
     ]
    }
   ],
   "source": [
    "meta_train_preproc = preproc_pipe.transform(meta_train[meta_train[\"id\"].isin(train_ids)], is_train=True, is_val=False)\n",
    "meta_val_preproc = preproc_pipe.transform(meta_train[meta_train[\"id\"].isin(val_ids)], is_train=False, is_val=True)\n",
    "meta_test_preproc = preproc_pipe.transform(meta_test, is_train=False, is_val=False)"
   ]
  },
  {
   "cell_type": "code",
   "execution_count": null,
   "id": "8a791eb1",
   "metadata": {},
   "outputs": [
    {
     "data": {
      "text/plain": [
       "((155979, 80), (41219, 80), (22760, 79))"
      ]
     },
     "execution_count": 16,
     "metadata": {},
     "output_type": "execute_result"
    }
   ],
   "source": [
    "meta_train_preproc.shape, meta_val_preproc.shape, meta_test_preproc.shape"
   ]
  },
  {
   "cell_type": "code",
   "execution_count": null,
   "id": "42aa3eec",
   "metadata": {},
   "outputs": [],
   "source": [
    "meta_train_preproc.drop(columns=[\"description\", \"name_rus\", \"ItemID\", \"resolution\"], inplace=True)\n",
    "meta_val_preproc.drop(columns=[\"description\", \"name_rus\", \"ItemID\", \"resolution\"], inplace=True)\n",
    "meta_test_preproc.drop(columns=[\"description\", \"name_rus\", \"ItemID\"], inplace=True)"
   ]
  },
  {
   "cell_type": "code",
   "execution_count": null,
   "id": "bea131df",
   "metadata": {},
   "outputs": [],
   "source": [
    "meta_train_preproc.to_csv(\"data/meta_train.csv\", index=False)\n",
    "meta_val_preproc.to_csv(\"data/meta_val.csv\", index=False)\n",
    "meta_test_preproc.to_csv(\"data/meta_test.csv\", index=False)"
   ]
  },
  {
   "cell_type": "code",
   "execution_count": null,
   "id": "259936a5",
   "metadata": {},
   "outputs": [],
   "source": [
    "meta_cols = meta_train_preproc.columns.tolist()"
   ]
  },
  {
   "cell_type": "markdown",
   "id": "4a40ec7e",
   "metadata": {},
   "source": [
    "# Basic text features"
   ]
  },
  {
   "cell_type": "code",
   "execution_count": null,
   "id": "3953323d",
   "metadata": {},
   "outputs": [],
   "source": [
    "basic_text_train = pd.read_csv(\"data/X_train_text_features_basic.csv\")\n",
    "basic_text_test = pd.read_csv(\"data/X_test_text_features_basic.csv\")"
   ]
  },
  {
   "cell_type": "code",
   "execution_count": null,
   "id": "5fd7a265",
   "metadata": {},
   "outputs": [
    {
     "data": {
      "text/plain": [
       "Index(['id', 'cos_sim_name_rus_vs_description',\n",
       "       'cos_sim_brand_name_vs_description', 'cos_sim_brand_name_vs_name_rus',\n",
       "       'has_url', 'has_phone', 'has_messenger', 'has_sku', 'desc_len_chars',\n",
       "       'desc_len_words', 'capslock_word_count', 'exclamation_count',\n",
       "       'question_count', 'avg_word_length', 'has_price', 'upper_ratio',\n",
       "       'has_emoji', 'emoji_count', 'avg_sentence_length',\n",
       "       'punctuation_density', 'sentence_length_std', 'has_suspicious_words',\n",
       "       'suspicious_word_count', 'has_brand', 'brand_count',\n",
       "       'has_urgency_words', 'urgency_word_count', 'unique_word_ratio'],\n",
       "      dtype='object')"
      ]
     },
     "execution_count": 25,
     "metadata": {},
     "output_type": "execute_result"
    }
   ],
   "source": [
    "basic_text_train.columns"
   ]
  },
  {
   "cell_type": "code",
   "execution_count": null,
   "id": "d43b7e7e",
   "metadata": {},
   "outputs": [],
   "source": [
    "basic_text_cols = basic_text_train.columns.to_list()"
   ]
  },
  {
   "cell_type": "code",
   "execution_count": null,
   "id": "5a7daa95",
   "metadata": {},
   "outputs": [
    {
     "data": {
      "text/plain": [
       "((155979, 28), (41219, 28), (22760, 28))"
      ]
     },
     "execution_count": 28,
     "metadata": {},
     "output_type": "execute_result"
    }
   ],
   "source": [
    "basic_text_train[basic_text_train[\"id\"].isin(train_ids)].shape, basic_text_train[\n",
    "    basic_text_train[\"id\"].isin(val_ids)\n",
    "].shape, basic_text_test.shape"
   ]
  },
  {
   "cell_type": "code",
   "execution_count": null,
   "id": "19b9168a",
   "metadata": {},
   "outputs": [],
   "source": [
    "basic_text_train[basic_text_train[\"id\"].isin(train_ids)].to_csv(\"data/basic_text_train.csv\", index=False)\n",
    "basic_text_train[basic_text_train[\"id\"].isin(val_ids)].to_csv(\"data/basic_text_val.csv\", index=False)\n",
    "basic_text_test.to_csv(\"data/basic_text_test.csv\", index=False)"
   ]
  },
  {
   "cell_type": "code",
   "execution_count": null,
   "id": "14b12cb3",
   "metadata": {},
   "outputs": [],
   "source": [
    "json.dump(\n",
    "    {\"meta\": meta_cols, \"basic_text\": basic_text_cols},\n",
    "    open(\"data/cols.json\", \"w\"),\n",
    ")"
   ]
  }
 ],
 "metadata": {
  "kernelspec": {
   "display_name": "ozon-e-cup",
   "language": "python",
   "name": "python3"
  },
  "language_info": {
   "codemirror_mode": {
    "name": "ipython",
    "version": 3
   },
   "file_extension": ".py",
   "mimetype": "text/x-python",
   "name": "python",
   "nbconvert_exporter": "python",
   "pygments_lexer": "ipython3",
   "version": "3.12.11"
  }
 },
 "nbformat": 4,
 "nbformat_minor": 5
}
