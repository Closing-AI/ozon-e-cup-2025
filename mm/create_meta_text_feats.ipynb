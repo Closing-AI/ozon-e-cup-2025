{
 "cells": [
  {
   "cell_type": "code",
   "execution_count": null,
   "id": "91f943b5",
   "metadata": {},
   "outputs": [
    {
     "name": "stdout",
     "output_type": "stream",
     "text": [
      "/home/den/dev/git/ozon-e-cup-2025\n"
     ]
    }
   ],
   "source": [
    "%cd .."
   ]
  },
  {
   "cell_type": "code",
   "execution_count": null,
   "id": "3d66c16f",
   "metadata": {},
   "outputs": [],
   "source": [
    "import json\n",
    "\n",
    "import numpy as np\n",
    "import pandas as pd\n",
    "from sklearn.pipeline import Pipeline\n",
    "\n",
    "import src.preprocessing as preproc"
   ]
  },
  {
   "cell_type": "code",
   "execution_count": null,
   "id": "a14d30a6",
   "metadata": {},
   "outputs": [],
   "source": [
    "train_ids = np.load(\"../data/train_ids.npy\")\n",
    "val_ids = np.load(\"../data/val_ids.npy\")"
   ]
  },
  {
   "cell_type": "markdown",
   "id": "b5172e4f",
   "metadata": {},
   "source": [
    "# Preprocess meta features"
   ]
  },
  {
   "cell_type": "code",
   "execution_count": null,
   "id": "5ab60e66",
   "metadata": {},
   "outputs": [],
   "source": [
    "meta_train = pd.read_csv(\"data/1__train_with_flags.csv\")\n",
    "meta_test = pd.read_csv(\"data/1__test_with_flags.csv\")"
   ]
  },
  {
   "cell_type": "code",
   "execution_count": null,
   "id": "e0000a2d",
   "metadata": {},
   "outputs": [],
   "source": [
    "meta_train[\"SellerID\"] = meta_train[\"SellerID\"].astype(\"string\")\n",
    "meta_test[\"SellerID\"] = meta_test[\"SellerID\"].astype(\"string\")"
   ]
  },
  {
   "cell_type": "code",
   "execution_count": null,
   "id": "caea9a3d",
   "metadata": {},
   "outputs": [],
   "source": [
    "preproc_pipe = Pipeline(\n",
    "    steps=[\n",
    "        (\"num_preproc\", preproc.NUMERIC_PREP_PIPELINE),\n",
    "        (\"cat_preproc\", preproc.CATEGORIAL_PREP_PIPELINE),\n",
    "    ]\n",
    ")"
   ]
  },
  {
   "cell_type": "code",
   "execution_count": null,
   "id": "bde31652",
   "metadata": {},
   "outputs": [],
   "source": [
    "preproc_pipe = preproc_pipe.fit(meta_train.iloc[train_ids])"
   ]
  },
  {
   "cell_type": "code",
   "execution_count": null,
   "id": "02b46d5a",
   "metadata": {},
   "outputs": [],
   "source": [
    "meta_train_preproc = preproc_pipe.transform(meta_train.iloc[train_ids], is_train=True)\n",
    "meta_val_preproc = preproc_pipe.transform(meta_train.iloc[val_ids], is_train=False)\n",
    "meta_test_preproc = preproc_pipe.transform(meta_test, is_train=False)"
   ]
  },
  {
   "cell_type": "code",
   "execution_count": null,
   "id": "6eddb153",
   "metadata": {},
   "outputs": [],
   "source": [
    "meta_train = pd.concat([meta_train_preproc, meta_val_preproc], axis=0)\n",
    "meta_test = meta_test_preproc"
   ]
  },
  {
   "cell_type": "code",
   "execution_count": null,
   "id": "42aa3eec",
   "metadata": {},
   "outputs": [],
   "source": [
    "meta_train.drop(columns=[\"description\", \"name_rus\", \"ItemID\"], inplace=True)\n",
    "meta_test.drop(columns=[\"description\", \"name_rus\", \"ItemID\"], inplace=True)"
   ]
  },
  {
   "cell_type": "code",
   "execution_count": null,
   "id": "259936a5",
   "metadata": {},
   "outputs": [],
   "source": [
    "meta_feats_cols = meta_train.columns.tolist()\n",
    "meta_feats_cols.remove(\"id\")"
   ]
  },
  {
   "cell_type": "markdown",
   "id": "4a40ec7e",
   "metadata": {},
   "source": [
    "# Merge with text basic features"
   ]
  },
  {
   "cell_type": "code",
   "execution_count": null,
   "id": "3953323d",
   "metadata": {},
   "outputs": [],
   "source": [
    "text_feats_train = pd.read_csv(\"data/X_train_text_features_basic.csv\")\n",
    "text_feats_test = pd.read_csv(\"data/X_test_text_features_basic.csv\")"
   ]
  },
  {
   "cell_type": "code",
   "execution_count": null,
   "id": "d43b7e7e",
   "metadata": {},
   "outputs": [],
   "source": [
    "text_feats_cols = text_feats_train.columns.to_list()\n",
    "text_feats_cols.remove(\"id\")"
   ]
  },
  {
   "cell_type": "code",
   "execution_count": null,
   "id": "dacf095b",
   "metadata": {},
   "outputs": [
    {
     "data": {
      "text/plain": [
       "({'id'}, {'id'})"
      ]
     },
     "execution_count": 34,
     "metadata": {},
     "output_type": "execute_result"
    }
   ],
   "source": [
    "set(meta_train.columns) & set(text_feats_train.columns), set(meta_test.columns) & set(text_feats_test.columns)"
   ]
  },
  {
   "cell_type": "code",
   "execution_count": null,
   "id": "81784bcf",
   "metadata": {},
   "outputs": [],
   "source": [
    "train = pd.merge(meta_train, text_feats_train, on=\"id\", how=\"left\")\n",
    "test = pd.merge(meta_test, text_feats_test, on=\"id\", how=\"left\")"
   ]
  },
  {
   "cell_type": "code",
   "execution_count": null,
   "id": "baa33d65",
   "metadata": {},
   "outputs": [],
   "source": [
    "assert train.shape[1] - 1 == len(meta_feats_cols) + len(text_feats_cols)"
   ]
  },
  {
   "cell_type": "code",
   "execution_count": null,
   "id": "d7f0bd9f",
   "metadata": {},
   "outputs": [],
   "source": [
    "train.to_csv(\"data/train_meta_text_basic_feats.csv\", index=False)\n",
    "test.to_csv(\"data/test_meta_text_basic_feats.csv\", index=False)"
   ]
  },
  {
   "cell_type": "code",
   "execution_count": 45,
   "id": "14b12cb3",
   "metadata": {},
   "outputs": [],
   "source": [
    "json.dump(\n",
    "    {\"meta_feats\": meta_feats_cols, \"text_feats\": text_feats_cols},\n",
    "    open(\"data/cols.json\", \"w\"),\n",
    ")"
   ]
  }
 ],
 "metadata": {
  "kernelspec": {
   "display_name": "ozon-e-cup",
   "language": "python",
   "name": "python3"
  },
  "language_info": {
   "codemirror_mode": {
    "name": "ipython",
    "version": 3
   },
   "file_extension": ".py",
   "mimetype": "text/x-python",
   "name": "python",
   "nbconvert_exporter": "python",
   "pygments_lexer": "ipython3",
   "version": "3.12.11"
  }
 },
 "nbformat": 4,
 "nbformat_minor": 5
}
