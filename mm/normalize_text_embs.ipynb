{
 "cells": [
  {
   "cell_type": "code",
   "execution_count": null,
   "id": "cf04ff37",
   "metadata": {},
   "outputs": [],
   "source": [
    "import numpy as np\n",
    "from sklearn.preprocessing import normalize"
   ]
  },
  {
   "cell_type": "code",
   "execution_count": null,
   "id": "1f437694",
   "metadata": {},
   "outputs": [],
   "source": [
    "train = np.load(\"../data/train_text_embs_user2_small_384dim.npy\")\n",
    "test = np.load(\"../data/test_text_embs_user2_small_384dim.npy\")"
   ]
  },
  {
   "cell_type": "code",
   "execution_count": null,
   "id": "4ea3697b",
   "metadata": {},
   "outputs": [
    {
     "data": {
      "text/plain": [
       "((197198, 384), (22760, 384))"
      ]
     },
     "execution_count": 3,
     "metadata": {},
     "output_type": "execute_result"
    }
   ],
   "source": [
    "train.shape, test.shape"
   ]
  },
  {
   "cell_type": "code",
   "execution_count": null,
   "id": "42c1fd6e",
   "metadata": {},
   "outputs": [
    {
     "data": {
      "text/plain": [
       "array([2.077808 , 2.6245546, 5.1355867, 2.903278 , 2.9690819],\n",
       "      dtype=float32)"
      ]
     },
     "execution_count": 9,
     "metadata": {},
     "output_type": "execute_result"
    }
   ],
   "source": [
    "np.linalg.norm(train[::100][:5], axis=1)"
   ]
  },
  {
   "cell_type": "code",
   "execution_count": null,
   "id": "1a43422a",
   "metadata": {},
   "outputs": [
    {
     "data": {
      "text/plain": [
       "array([3.390613 , 4.585647 , 5.319827 , 3.1218576, 3.2516918],\n",
       "      dtype=float32)"
      ]
     },
     "execution_count": 11,
     "metadata": {},
     "output_type": "execute_result"
    }
   ],
   "source": [
    "np.linalg.norm(test[::100][:5], axis=1)"
   ]
  },
  {
   "cell_type": "code",
   "execution_count": null,
   "id": "4efd43aa",
   "metadata": {},
   "outputs": [],
   "source": [
    "train_norm = normalize(train, axis=1)\n",
    "test_norm = normalize(test, axis=1)"
   ]
  },
  {
   "cell_type": "code",
   "execution_count": null,
   "id": "bee16ee7",
   "metadata": {},
   "outputs": [
    {
     "data": {
      "text/plain": [
       "((197198, 384), (22760, 384))"
      ]
     },
     "execution_count": 6,
     "metadata": {},
     "output_type": "execute_result"
    }
   ],
   "source": [
    "train_norm.shape, test_norm.shape"
   ]
  },
  {
   "cell_type": "code",
   "execution_count": null,
   "id": "953b4afd",
   "metadata": {},
   "outputs": [
    {
     "data": {
      "text/plain": [
       "array([0.99999994, 0.99999994, 0.99999994, 1.        , 1.        ],\n",
       "      dtype=float32)"
      ]
     },
     "execution_count": 12,
     "metadata": {},
     "output_type": "execute_result"
    }
   ],
   "source": [
    "np.linalg.norm(train_norm[::100][:5], axis=1)"
   ]
  },
  {
   "cell_type": "code",
   "execution_count": null,
   "id": "39cb255e",
   "metadata": {},
   "outputs": [
    {
     "data": {
      "text/plain": [
       "array([1.0000001 , 1.0000001 , 0.99999994, 1.        , 1.        ],\n",
       "      dtype=float32)"
      ]
     },
     "execution_count": 13,
     "metadata": {},
     "output_type": "execute_result"
    }
   ],
   "source": [
    "np.linalg.norm(test_norm[::100][:5], axis=1)"
   ]
  },
  {
   "cell_type": "code",
   "execution_count": null,
   "id": "0278cb2b",
   "metadata": {},
   "outputs": [],
   "source": [
    "np.save(\"../data/train_text_embs_norm_user2_small_384dim.npy\", train_norm)\n",
    "np.save(\"../data/test_text_embs_norm_user2_small_384dim.npy\", test_norm)"
   ]
  }
 ],
 "metadata": {
  "kernelspec": {
   "display_name": "ozon-e-cup",
   "language": "python",
   "name": "python3"
  },
  "language_info": {
   "codemirror_mode": {
    "name": "ipython",
    "version": 3
   },
   "file_extension": ".py",
   "mimetype": "text/x-python",
   "name": "python",
   "nbconvert_exporter": "python",
   "pygments_lexer": "ipython3",
   "version": "3.12.11"
  }
 },
 "nbformat": 4,
 "nbformat_minor": 5
}
