{
 "cells": [
  {
   "cell_type": "code",
   "execution_count": null,
   "id": "e5517374",
   "metadata": {},
   "outputs": [],
   "source": [
    "import json\n",
    "\n",
    "import numpy as np"
   ]
  },
  {
   "cell_type": "code",
   "execution_count": null,
   "id": "b1b77688",
   "metadata": {},
   "outputs": [],
   "source": [
    "train_ids = np.load(\"../data/train_ids.npy\")\n",
    "val_ids = np.load(\"../data/val_ids.npy\")\n",
    "test_ids = np.load(\"../data/test_ids.npy\")"
   ]
  },
  {
   "cell_type": "code",
   "execution_count": null,
   "id": "d9865b45",
   "metadata": {},
   "outputs": [],
   "source": [
    "train_text_embs = np.load(\"../data/train_text_embs_norm_user2_small_384dim.npy\")\n",
    "test_text_embs = np.load(\"../data/test_text_embs_norm_user2_small_384dim.npy\")"
   ]
  },
  {
   "cell_type": "code",
   "execution_count": null,
   "id": "a29a149a",
   "metadata": {},
   "outputs": [],
   "source": [
    "assert len(train_ids) + len(val_ids) == len(train_text_embs)\n",
    "assert len(test_ids) == len(test_text_embs)"
   ]
  },
  {
   "cell_type": "code",
   "execution_count": null,
   "id": "4c4e2fe9",
   "metadata": {},
   "outputs": [],
   "source": [
    "train_id2idx = json.load(open(\"../data/train_id2idx_text_embs_user2_small_384dim.json\"))\n",
    "test_id2idx = json.load(open(\"../data/test_id2idx_text_embs_user2_small_384dim.json\"))"
   ]
  },
  {
   "cell_type": "code",
   "execution_count": null,
   "id": "ac0e250b",
   "metadata": {},
   "outputs": [],
   "source": [
    "real_train_embs = np.array([train_text_embs[train_id2idx[str(id)]] for id in train_ids])\n",
    "real_val_embs = np.array([train_text_embs[train_id2idx[str(id)]] for id in val_ids])\n",
    "real_test_embs = np.array([test_text_embs[test_id2idx[str(id)]] for id in test_ids])"
   ]
  },
  {
   "cell_type": "code",
   "execution_count": null,
   "id": "9b109932",
   "metadata": {},
   "outputs": [
    {
     "data": {
      "text/plain": [
       "((155979, 384), (41219, 384), (22760, 384))"
      ]
     },
     "execution_count": 9,
     "metadata": {},
     "output_type": "execute_result"
    }
   ],
   "source": [
    "real_train_embs.shape, real_val_embs.shape, real_test_embs.shape"
   ]
  },
  {
   "cell_type": "code",
   "execution_count": 10,
   "id": "b09363f3",
   "metadata": {},
   "outputs": [],
   "source": [
    "np.save(\"../data/text_embs_train.npy\", real_train_embs)\n",
    "np.save(\"../data/text_embs_val.npy\", real_val_embs)\n",
    "np.save(\"../data/text_embs_test.npy\", real_test_embs)"
   ]
  }
 ],
 "metadata": {
  "kernelspec": {
   "display_name": "ozon-e-cup",
   "language": "python",
   "name": "python3"
  },
  "language_info": {
   "codemirror_mode": {
    "name": "ipython",
    "version": 3
   },
   "file_extension": ".py",
   "mimetype": "text/x-python",
   "name": "python",
   "nbconvert_exporter": "python",
   "pygments_lexer": "ipython3",
   "version": "3.12.11"
  }
 },
 "nbformat": 4,
 "nbformat_minor": 5
}
