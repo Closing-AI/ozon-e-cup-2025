{
 "cells": [
  {
   "cell_type": "code",
   "execution_count": null,
   "id": "e5517374",
   "metadata": {},
   "outputs": [],
   "source": [
    "import json\n",
    "\n",
    "import numpy as np"
   ]
  },
  {
   "cell_type": "code",
   "execution_count": null,
   "id": "b1b77688",
   "metadata": {},
   "outputs": [],
   "source": [
    "train_ids = np.load(\"../data/train_ids.npy\")\n",
    "val_ids = np.load(\"../data/val_ids.npy\")\n",
    "test_ids = np.load(\"../data/test_ids.npy\")"
   ]
  },
  {
   "cell_type": "code",
   "execution_count": null,
   "id": "d9865b45",
   "metadata": {},
   "outputs": [],
   "source": [
    "train_text_embs = np.load(\"../data/train_text_embs_norm_user2_small_384dim.npy\")\n",
    "test_text_embs = np.load(\"../data/test_text_embs_norm_user2_small_384dim.npy\")"
   ]
  },
  {
   "cell_type": "code",
   "execution_count": null,
   "id": "a29a149a",
   "metadata": {},
   "outputs": [],
   "source": [
    "assert len(train_ids) + len(val_ids) == len(train_text_embs)\n",
    "assert len(test_ids) == len(test_text_embs)"
   ]
  },
  {
   "cell_type": "code",
   "execution_count": null,
   "id": "4c4e2fe9",
   "metadata": {},
   "outputs": [],
   "source": [
    "train_id2idx = json.load(open(\"../data/train_id2idx_text_embs_user2_small_384dim.json\"))\n",
    "test_id2idx = json.load(open(\"../data/test_id2idx_text_embs_user2_small_384dim.json\"))"
   ]
  },
  {
   "cell_type": "code",
   "execution_count": null,
   "id": "a0ac6151",
   "metadata": {},
   "outputs": [],
   "source": [
    "real_text_embs_train = []\n",
    "real_id2idx_text_embs_train = {}\n",
    "for i, id in enumerate(train_ids):\n",
    "    emb = train_text_embs[train_id2idx[str(id)]]\n",
    "    real_text_embs_train.append(emb)\n",
    "    real_id2idx_text_embs_train[int(id)] = i"
   ]
  },
  {
   "cell_type": "code",
   "execution_count": null,
   "id": "5bcb38d6",
   "metadata": {},
   "outputs": [],
   "source": [
    "real_text_embs_val = []\n",
    "real_id2idx_text_embs_val = {}\n",
    "for i, id in enumerate(val_ids):\n",
    "    emb = train_text_embs[train_id2idx[str(id)]]\n",
    "    real_text_embs_val.append(emb)\n",
    "    real_id2idx_text_embs_val[int(id)] = i"
   ]
  },
  {
   "cell_type": "code",
   "execution_count": null,
   "id": "18aaa536",
   "metadata": {},
   "outputs": [],
   "source": [
    "real_text_embs_test = []\n",
    "real_id2idx_text_embs_test = {}\n",
    "for i, id in enumerate(test_ids):\n",
    "    emb = test_text_embs[test_id2idx[str(id)]]\n",
    "    real_text_embs_test.append(emb)\n",
    "    real_id2idx_text_embs_test[int(id)] = i"
   ]
  },
  {
   "cell_type": "code",
   "execution_count": null,
   "id": "ac0e250b",
   "metadata": {},
   "outputs": [],
   "source": [
    "real_text_embs_train = np.array(real_text_embs_train)\n",
    "real_text_embs_val = np.array(real_text_embs_val)\n",
    "real_text_embs_test = np.array(real_text_embs_test)"
   ]
  },
  {
   "cell_type": "code",
   "execution_count": null,
   "id": "9b109932",
   "metadata": {},
   "outputs": [
    {
     "data": {
      "text/plain": [
       "((155979, 384), (41219, 384), (22760, 384))"
      ]
     },
     "execution_count": 11,
     "metadata": {},
     "output_type": "execute_result"
    }
   ],
   "source": [
    "real_text_embs_train.shape, real_text_embs_val.shape, real_text_embs_test.shape"
   ]
  },
  {
   "cell_type": "code",
   "execution_count": null,
   "id": "b09363f3",
   "metadata": {},
   "outputs": [],
   "source": [
    "np.save(\"../data/text_embs_train.npy\", real_text_embs_train)\n",
    "np.save(\"../data/text_embs_val.npy\", real_text_embs_val)\n",
    "np.save(\"../data/text_embs_test.npy\", real_text_embs_test)"
   ]
  },
  {
   "cell_type": "code",
   "execution_count": 13,
   "id": "9b28fd24",
   "metadata": {},
   "outputs": [],
   "source": [
    "json.dump(real_id2idx_text_embs_train, open(\"../data/id2idx_text_embs_train.json\", \"w\"))\n",
    "json.dump(real_id2idx_text_embs_val, open(\"../data/id2idx_text_embs_val.json\", \"w\"))\n",
    "json.dump(real_id2idx_text_embs_test, open(\"../data/id2idx_text_embs_test.json\", \"w\"))"
   ]
  }
 ],
 "metadata": {
  "kernelspec": {
   "display_name": "ozon-e-cup",
   "language": "python",
   "name": "python3"
  },
  "language_info": {
   "codemirror_mode": {
    "name": "ipython",
    "version": 3
   },
   "file_extension": ".py",
   "mimetype": "text/x-python",
   "name": "python",
   "nbconvert_exporter": "python",
   "pygments_lexer": "ipython3",
   "version": "3.12.11"
  }
 },
 "nbformat": 4,
 "nbformat_minor": 5
}
