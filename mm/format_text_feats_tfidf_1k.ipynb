{
 "cells": [
  {
   "cell_type": "code",
   "execution_count": 1,
   "id": "0f495955",
   "metadata": {},
   "outputs": [
    {
     "name": "stdout",
     "output_type": "stream",
     "text": [
      "/home/den/dev/git/ozon-e-cup-2025\n"
     ]
    }
   ],
   "source": [
    "%cd .."
   ]
  },
  {
   "cell_type": "code",
   "execution_count": null,
   "id": "31e1450b",
   "metadata": {},
   "outputs": [],
   "source": [
    "import json\n",
    "\n",
    "import numpy as np\n",
    "import pandas as pd"
   ]
  },
  {
   "cell_type": "code",
   "execution_count": null,
   "id": "2223adb3",
   "metadata": {},
   "outputs": [
    {
     "data": {
      "text/plain": [
       "((197198, 2022), (22760, 2022))"
      ]
     },
     "execution_count": 3,
     "metadata": {},
     "output_type": "execute_result"
    }
   ],
   "source": [
    "train_tfidf = pd.read_csv(\"data/X_train_text_features_1k_tfidf.csv\")\n",
    "test_tfidf = pd.read_csv(\"data/X_test_text_features_1k_tfidf.csv\")\n",
    "\n",
    "train_tfidf.shape, test_tfidf.shape"
   ]
  },
  {
   "cell_type": "code",
   "execution_count": null,
   "id": "2b79c2d2",
   "metadata": {},
   "outputs": [
    {
     "name": "stdout",
     "output_type": "stream",
     "text": [
      "meta_feats 76\n",
      "text_feats 27\n",
      "tfidf_feats 2000\n"
     ]
    }
   ],
   "source": [
    "cols = json.load(open(\"data/cols.json\"))\n",
    "\n",
    "for k in cols:\n",
    "    print(k, len(cols[k]))"
   ]
  },
  {
   "cell_type": "code",
   "execution_count": null,
   "id": "88b16b81",
   "metadata": {},
   "outputs": [],
   "source": [
    "train_tfidf.drop(columns=cols[\"text_feats\"], inplace=True, errors=\"ignore\")\n",
    "test_tfidf.drop(columns=cols[\"text_feats\"], inplace=True, errors=\"ignore\")"
   ]
  },
  {
   "cell_type": "code",
   "execution_count": null,
   "id": "fa023eb2",
   "metadata": {},
   "outputs": [
    {
     "data": {
      "text/plain": [
       "((197198, 2001), (22760, 2001))"
      ]
     },
     "execution_count": 6,
     "metadata": {},
     "output_type": "execute_result"
    }
   ],
   "source": [
    "train_tfidf.shape, test_tfidf.shape"
   ]
  },
  {
   "cell_type": "code",
   "execution_count": null,
   "id": "0cadc686",
   "metadata": {},
   "outputs": [],
   "source": [
    "assert \"id\" in train_tfidf.columns\n",
    "assert \"id\" in test_tfidf.columns\n",
    "\n",
    "assert \"ItemID\" not in train_tfidf.columns\n",
    "assert \"ItemID\" not in test_tfidf.columns\n",
    "\n",
    "assert \"resolution\" not in train_tfidf.columns\n",
    "assert \"resolution\" not in test_tfidf.columns"
   ]
  },
  {
   "cell_type": "code",
   "execution_count": null,
   "id": "92e5d5b1",
   "metadata": {},
   "outputs": [],
   "source": [
    "tfidf_cols = train_tfidf.columns.to_list()\n",
    "tfidf_cols.remove(\"id\")"
   ]
  },
  {
   "cell_type": "code",
   "execution_count": null,
   "id": "ccd59b7a",
   "metadata": {},
   "outputs": [],
   "source": [
    "cols[\"tfidf_feats\"] = tfidf_cols\n",
    "json.dump(cols, open(\"data/cols.json\", \"w\"), indent=2)"
   ]
  },
  {
   "cell_type": "code",
   "execution_count": null,
   "id": "5aca7da4",
   "metadata": {},
   "outputs": [],
   "source": [
    "id2idx_tfidf_train = {v: k for k, v in train_tfidf.id.to_dict().items()}\n",
    "id2idx_tfidf_test = {v: k for k, v in test_tfidf.id.to_dict().items()}\n",
    "\n",
    "json.dump(id2idx_tfidf_train, open(\"data/id2idx_tfidf_train.json\", \"w\"), indent=2)\n",
    "json.dump(id2idx_tfidf_test, open(\"data/id2idx_tfidf_test.json\", \"w\"), indent=2)"
   ]
  },
  {
   "cell_type": "code",
   "execution_count": null,
   "id": "88dcf5ab",
   "metadata": {},
   "outputs": [],
   "source": [
    "train_tfidf.drop(columns=[\"id\"], inplace=True, errors=\"ignore\")\n",
    "test_tfidf.drop(columns=[\"id\"], inplace=True, errors=\"ignore\")"
   ]
  },
  {
   "cell_type": "code",
   "execution_count": null,
   "id": "8126d33c",
   "metadata": {},
   "outputs": [
    {
     "data": {
      "text/plain": [
       "((197198, 2000), (22760, 2000))"
      ]
     },
     "execution_count": 14,
     "metadata": {},
     "output_type": "execute_result"
    }
   ],
   "source": [
    "np_tfidf_train = train_tfidf.to_numpy()\n",
    "np_tfidf_test = test_tfidf.to_numpy()\n",
    "\n",
    "np_tfidf_train.shape, np_tfidf_test.shape"
   ]
  },
  {
   "cell_type": "code",
   "execution_count": 15,
   "id": "97223fdc",
   "metadata": {},
   "outputs": [],
   "source": [
    "np.save(\"data/train_tfidf_1k.npy\", np_tfidf_train)\n",
    "np.save(\"data/test_tfidf_1k.npy\", np_tfidf_test)"
   ]
  }
 ],
 "metadata": {
  "kernelspec": {
   "display_name": "ozon-e-cup",
   "language": "python",
   "name": "python3"
  },
  "language_info": {
   "codemirror_mode": {
    "name": "ipython",
    "version": 3
   },
   "file_extension": ".py",
   "mimetype": "text/x-python",
   "name": "python",
   "nbconvert_exporter": "python",
   "pygments_lexer": "ipython3",
   "version": "3.12.11"
  }
 },
 "nbformat": 4,
 "nbformat_minor": 5
}
